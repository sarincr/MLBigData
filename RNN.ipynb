{
  "nbformat": 4,
  "nbformat_minor": 0,
  "metadata": {
    "colab": {
      "provenance": []
    },
    "kernelspec": {
      "name": "python3",
      "display_name": "Python 3"
    },
    "language_info": {
      "name": "python"
    }
  },
  "cells": [
    {
      "cell_type": "code",
      "source": [
        "import pandas as pd\n",
        "import numpy as np\n",
        "import matplotlib.pyplot as plt\n",
        "from keras.models import Sequential\n",
        "from keras.layers import Dense, SimpleRNN\n",
        "\n",
        "# convert into dataset matrix\n",
        "def convertToMatrix(data, step):\n",
        " X, Y =[], []\n",
        " for i in range(len(data)-step):\n",
        "  d=i+step  \n",
        "  X.append(data[i:d,])\n",
        "  Y.append(data[d,])\n",
        " return np.array(X), np.array(Y)\n",
        "\n",
        "step = 4\n",
        "N = 1000    \n",
        "Tp = 800    \n",
        "\n",
        "t=np.arange(0,N)\n",
        "x=np.sin(0.02*t)+2*np.random.rand(N)\n",
        "df = pd.DataFrame(x)\n",
        "df.head()\n",
        "\n",
        "plt.plot(df)\n",
        "plt.show()\n",
        "\n",
        "values=df.values\n",
        "train,test = values[0:Tp,:], values[Tp:N,:]\n",
        "\n",
        "# add step elements into train and test\n",
        "test = np.append(test,np.repeat(test[-1,],step))\n",
        "train = np.append(train,np.repeat(train[-1,],step))\n",
        " \n",
        "trainX,trainY =convertToMatrix(train,step)\n",
        "testX,testY =convertToMatrix(test,step)\n",
        "trainX = np.reshape(trainX, (trainX.shape[0], 1, trainX.shape[1]))\n",
        "testX = np.reshape(testX, (testX.shape[0], 1, testX.shape[1]))\n",
        "\n",
        "model = Sequential()\n",
        "model.add(SimpleRNN(units=32, input_shape=(1,step), activation=\"relu\"))\n",
        "model.add(Dense(8, activation=\"relu\")) \n",
        "model.add(Dense(1))\n",
        "model.compile(loss='mean_squared_error', optimizer='rmsprop')\n",
        "model.summary()\n",
        "\n",
        "model.fit(trainX,trainY, epochs=100, batch_size=16, verbose=2)\n",
        "trainPredict = model.predict(trainX)\n",
        "testPredict= model.predict(testX)\n",
        "predicted=np.concatenate((trainPredict,testPredict),axis=0)\n",
        "\n",
        "trainScore = model.evaluate(trainX, trainY, verbose=0)\n",
        "print(trainScore)\n",
        "\n",
        "index = df.index.values\n",
        "plt.plot(index,df)\n",
        "plt.plot(index,predicted)\n",
        "plt.axvline(df.index[Tp], c=\"r\")\n",
        "plt.show()"
      ],
      "metadata": {
        "colab": {
          "base_uri": "https://localhost:8080/",
          "height": 1000
        },
        "id": "gzCY8qBSoKF2",
        "outputId": "72c6d991-71c3-4337-e11b-fdd3b7d356b2"
      },
      "execution_count": 5,
      "outputs": [
        {
          "output_type": "display_data",
          "data": {
            "text/plain": [
              "<Figure size 432x288 with 1 Axes>"
            ],
            "image/png": "[encoded data removed]"
          },
          "metadata": {
            "needs_background": "light"
          }
        },
        {
          "output_type": "stream",
          "name": "stdout",
          "text": [
            "Model: \"sequential_1\"\n",
            "_________________________________________________________________\n",
            " Layer (type)                Output Shape              Param #   \n",
            "=================================================================\n",
            " simple_rnn_1 (SimpleRNN)    (None, 32)                1184      \n",
            "                                                                 \n",
            " dense_1 (Dense)             (None, 8)                 264       \n",
            "                                                                 \n",
            " dense_2 (Dense)             (None, 1)                 9         \n",
            "                                                                 \n",
            "=================================================================\n",
            "Total params: 1,457\n",
            "Trainable params: 1,457\n",
            "Non-trainable params: 0\n",
            "_________________________________________________________________\n",
            "Epoch 1/100\n",
            "50/50 - 3s - loss: 1.1345 - 3s/epoch - 66ms/step\n",
            "Epoch 2/100\n",
            "50/50 - 0s - loss: 0.4104 - 261ms/epoch - 5ms/step\n",
            "Epoch 3/100\n",
            "50/50 - 0s - loss: 0.3977 - 345ms/epoch - 7ms/step\n",
            "Epoch 4/100\n",
            "50/50 - 0s - loss: 0.3913 - 311ms/epoch - 6ms/step\n",
            "Epoch 5/100\n",
            "50/50 - 0s - loss: 0.3873 - 281ms/epoch - 6ms/step\n",
            "Epoch 6/100\n",
            "50/50 - 0s - loss: 0.3863 - 135ms/epoch - 3ms/step\n",
            "Epoch 7/100\n",
            "50/50 - 0s - loss: 0.3824 - 200ms/epoch - 4ms/step\n",
            "Epoch 8/100\n",
            "50/50 - 0s - loss: 0.3843 - 168ms/epoch - 3ms/step\n",
            "Epoch 9/100\n",
            "50/50 - 0s - loss: 0.3819 - 157ms/epoch - 3ms/step\n",
            "Epoch 10/100\n",
            "50/50 - 0s - loss: 0.3814 - 184ms/epoch - 4ms/step\n",
            "Epoch 11/100\n",
            "50/50 - 0s - loss: 0.3780 - 184ms/epoch - 4ms/step\n",
            "Epoch 12/100\n",
            "50/50 - 0s - loss: 0.3795 - 158ms/epoch - 3ms/step\n",
            "Epoch 13/100\n",
            "50/50 - 0s - loss: 0.3767 - 211ms/epoch - 4ms/step\n",
            "Epoch 14/100\n",
            "50/50 - 0s - loss: 0.3771 - 123ms/epoch - 2ms/step\n",
            "Epoch 15/100\n",
            "50/50 - 0s - loss: 0.3734 - 135ms/epoch - 3ms/step\n",
            "Epoch 16/100\n",
            "50/50 - 0s - loss: 0.3731 - 102ms/epoch - 2ms/step\n",
            "Epoch 17/100\n",
            "50/50 - 0s - loss: 0.3720 - 95ms/epoch - 2ms/step\n",
            "Epoch 18/100\n",
            "50/50 - 0s - loss: 0.3731 - 232ms/epoch - 5ms/step\n",
            "Epoch 19/100\n",
            "50/50 - 0s - loss: 0.3719 - 241ms/epoch - 5ms/step\n",
            "Epoch 20/100\n",
            "50/50 - 0s - loss: 0.3695 - 204ms/epoch - 4ms/step\n",
            "Epoch 21/100\n",
            "50/50 - 0s - loss: 0.3730 - 199ms/epoch - 4ms/step\n",
            "Epoch 22/100\n",
            "50/50 - 0s - loss: 0.3695 - 96ms/epoch - 2ms/step\n",
            "Epoch 23/100\n",
            "50/50 - 0s - loss: 0.3707 - 151ms/epoch - 3ms/step\n",
            "Epoch 24/100\n",
            "50/50 - 0s - loss: 0.3694 - 141ms/epoch - 3ms/step\n",
            "Epoch 25/100\n",
            "50/50 - 0s - loss: 0.3672 - 353ms/epoch - 7ms/step\n",
            "Epoch 26/100\n",
            "50/50 - 0s - loss: 0.3681 - 213ms/epoch - 4ms/step\n",
            "Epoch 27/100\n",
            "50/50 - 0s - loss: 0.3699 - 231ms/epoch - 5ms/step\n",
            "Epoch 28/100\n",
            "50/50 - 0s - loss: 0.3647 - 132ms/epoch - 3ms/step\n",
            "Epoch 29/100\n",
            "50/50 - 0s - loss: 0.3657 - 149ms/epoch - 3ms/step\n",
            "Epoch 30/100\n",
            "50/50 - 0s - loss: 0.3655 - 175ms/epoch - 4ms/step\n",
            "Epoch 31/100\n",
            "50/50 - 0s - loss: 0.3598 - 185ms/epoch - 4ms/step\n",
            "Epoch 32/100\n",
            "50/50 - 0s - loss: 0.3643 - 121ms/epoch - 2ms/step\n",
            "Epoch 33/100\n",
            "50/50 - 0s - loss: 0.3632 - 181ms/epoch - 4ms/step\n",
            "Epoch 34/100\n",
            "50/50 - 0s - loss: 0.3633 - 157ms/epoch - 3ms/step\n",
            "Epoch 35/100\n",
            "50/50 - 0s - loss: 0.3626 - 151ms/epoch - 3ms/step\n",
            "Epoch 36/100\n",
            "50/50 - 0s - loss: 0.3643 - 155ms/epoch - 3ms/step\n",
            "Epoch 37/100\n",
            "50/50 - 0s - loss: 0.3623 - 159ms/epoch - 3ms/step\n",
            "Epoch 38/100\n",
            "50/50 - 0s - loss: 0.3630 - 152ms/epoch - 3ms/step\n",
            "Epoch 39/100\n",
            "50/50 - 0s - loss: 0.3611 - 157ms/epoch - 3ms/step\n",
            "Epoch 40/100\n",
            "50/50 - 0s - loss: 0.3637 - 131ms/epoch - 3ms/step\n",
            "Epoch 41/100\n",
            "50/50 - 0s - loss: 0.3623 - 188ms/epoch - 4ms/step\n",
            "Epoch 42/100\n",
            "50/50 - 0s - loss: 0.3599 - 238ms/epoch - 5ms/step\n",
            "Epoch 43/100\n",
            "50/50 - 0s - loss: 0.3621 - 174ms/epoch - 3ms/step\n",
            "Epoch 44/100\n",
            "50/50 - 0s - loss: 0.3632 - 223ms/epoch - 4ms/step\n",
            "Epoch 45/100\n",
            "50/50 - 0s - loss: 0.3588 - 302ms/epoch - 6ms/step\n",
            "Epoch 46/100\n",
            "50/50 - 0s - loss: 0.3593 - 256ms/epoch - 5ms/step\n",
            "Epoch 47/100\n",
            "50/50 - 0s - loss: 0.3608 - 187ms/epoch - 4ms/step\n",
            "Epoch 48/100\n",
            "50/50 - 0s - loss: 0.3590 - 236ms/epoch - 5ms/step\n",
            "Epoch 49/100\n",
            "50/50 - 0s - loss: 0.3584 - 122ms/epoch - 2ms/step\n",
            "Epoch 50/100\n",
            "50/50 - 0s - loss: 0.3589 - 238ms/epoch - 5ms/step\n",
            "Epoch 51/100\n",
            "50/50 - 0s - loss: 0.3569 - 218ms/epoch - 4ms/step\n",
            "Epoch 52/100\n",
            "50/50 - 0s - loss: 0.3578 - 285ms/epoch - 6ms/step\n",
            "Epoch 53/100\n",
            "50/50 - 0s - loss: 0.3573 - 348ms/epoch - 7ms/step\n",
            "Epoch 54/100\n",
            "50/50 - 0s - loss: 0.3577 - 202ms/epoch - 4ms/step\n",
            "Epoch 55/100\n",
            "50/50 - 0s - loss: 0.3585 - 280ms/epoch - 6ms/step\n",
            "Epoch 56/100\n",
            "50/50 - 0s - loss: 0.3565 - 336ms/epoch - 7ms/step\n",
            "Epoch 57/100\n",
            "50/50 - 0s - loss: 0.3560 - 263ms/epoch - 5ms/step\n",
            "Epoch 58/100\n",
            "50/50 - 0s - loss: 0.3541 - 386ms/epoch - 8ms/step\n",
            "Epoch 59/100\n",
            "50/50 - 0s - loss: 0.3541 - 363ms/epoch - 7ms/step\n",
            "Epoch 60/100\n",
            "50/50 - 0s - loss: 0.3551 - 420ms/epoch - 8ms/step\n",
            "Epoch 61/100\n",
            "50/50 - 0s - loss: 0.3548 - 378ms/epoch - 8ms/step\n",
            "Epoch 62/100\n",
            "50/50 - 0s - loss: 0.3506 - 287ms/epoch - 6ms/step\n",
            "Epoch 63/100\n",
            "50/50 - 0s - loss: 0.3560 - 293ms/epoch - 6ms/step\n",
            "Epoch 64/100\n",
            "50/50 - 0s - loss: 0.3553 - 398ms/epoch - 8ms/step\n",
            "Epoch 65/100\n",
            "50/50 - 0s - loss: 0.3548 - 189ms/epoch - 4ms/step\n",
            "Epoch 66/100\n",
            "50/50 - 0s - loss: 0.3550 - 134ms/epoch - 3ms/step\n",
            "Epoch 67/100\n",
            "50/50 - 0s - loss: 0.3557 - 148ms/epoch - 3ms/step\n",
            "Epoch 68/100\n",
            "50/50 - 0s - loss: 0.3521 - 206ms/epoch - 4ms/step\n",
            "Epoch 69/100\n",
            "50/50 - 0s - loss: 0.3527 - 268ms/epoch - 5ms/step\n",
            "Epoch 70/100\n",
            "50/50 - 0s - loss: 0.3525 - 182ms/epoch - 4ms/step\n",
            "Epoch 71/100\n",
            "50/50 - 0s - loss: 0.3532 - 203ms/epoch - 4ms/step\n",
            "Epoch 72/100\n",
            "50/50 - 0s - loss: 0.3512 - 168ms/epoch - 3ms/step\n",
            "Epoch 73/100\n",
            "50/50 - 0s - loss: 0.3511 - 183ms/epoch - 4ms/step\n",
            "Epoch 74/100\n",
            "50/50 - 0s - loss: 0.3521 - 202ms/epoch - 4ms/step\n",
            "Epoch 75/100\n",
            "50/50 - 0s - loss: 0.3513 - 190ms/epoch - 4ms/step\n",
            "Epoch 76/100\n",
            "50/50 - 0s - loss: 0.3509 - 190ms/epoch - 4ms/step\n",
            "Epoch 77/100\n",
            "50/50 - 0s - loss: 0.3525 - 93ms/epoch - 2ms/step\n",
            "Epoch 78/100\n",
            "50/50 - 0s - loss: 0.3513 - 79ms/epoch - 2ms/step\n",
            "Epoch 79/100\n",
            "50/50 - 0s - loss: 0.3515 - 102ms/epoch - 2ms/step\n",
            "Epoch 80/100\n",
            "50/50 - 0s - loss: 0.3511 - 222ms/epoch - 4ms/step\n",
            "Epoch 81/100\n",
            "50/50 - 0s - loss: 0.3535 - 242ms/epoch - 5ms/step\n",
            "Epoch 82/100\n",
            "50/50 - 0s - loss: 0.3508 - 159ms/epoch - 3ms/step\n",
            "Epoch 83/100\n",
            "50/50 - 0s - loss: 0.3485 - 170ms/epoch - 3ms/step\n",
            "Epoch 84/100\n",
            "50/50 - 0s - loss: 0.3514 - 84ms/epoch - 2ms/step\n",
            "Epoch 85/100\n",
            "50/50 - 0s - loss: 0.3516 - 120ms/epoch - 2ms/step\n",
            "Epoch 86/100\n",
            "50/50 - 0s - loss: 0.3512 - 177ms/epoch - 4ms/step\n",
            "Epoch 87/100\n",
            "50/50 - 0s - loss: 0.3486 - 97ms/epoch - 2ms/step\n",
            "Epoch 88/100\n",
            "50/50 - 0s - loss: 0.3509 - 183ms/epoch - 4ms/step\n",
            "Epoch 89/100\n",
            "50/50 - 0s - loss: 0.3489 - 142ms/epoch - 3ms/step\n",
            "Epoch 90/100\n",
            "50/50 - 0s - loss: 0.3469 - 149ms/epoch - 3ms/step\n",
            "Epoch 91/100\n",
            "50/50 - 0s - loss: 0.3483 - 151ms/epoch - 3ms/step\n",
            "Epoch 92/100\n",
            "50/50 - 0s - loss: 0.3487 - 145ms/epoch - 3ms/step\n",
            "Epoch 93/100\n",
            "50/50 - 0s - loss: 0.3479 - 290ms/epoch - 6ms/step\n",
            "Epoch 94/100\n",
            "50/50 - 0s - loss: 0.3495 - 183ms/epoch - 4ms/step\n",
            "Epoch 95/100\n",
            "50/50 - 0s - loss: 0.3455 - 186ms/epoch - 4ms/step\n",
            "Epoch 96/100\n",
            "50/50 - 0s - loss: 0.3492 - 159ms/epoch - 3ms/step\n",
            "Epoch 97/100\n",
            "50/50 - 0s - loss: 0.3484 - 261ms/epoch - 5ms/step\n",
            "Epoch 98/100\n",
            "50/50 - 0s - loss: 0.3515 - 198ms/epoch - 4ms/step\n",
            "Epoch 99/100\n",
            "50/50 - 0s - loss: 0.3488 - 134ms/epoch - 3ms/step\n",
            "Epoch 100/100\n",
            "50/50 - 0s - loss: 0.3486 - 145ms/epoch - 3ms/step\n",
            "25/25 [==============================] - 0s 2ms/step\n",
            "7/7 [==============================] - 0s 2ms/step\n",
            "0.3396996259689331\n"
          ]
        },
        {
          "output_type": "display_data",
          "data": {
            "text/plain": [
              "<Figure size 432x288 with 1 Axes>"
            ],
            "image/png": "[encoded data removed]"
          },
          "metadata": {
            "needs_background": "light"
          }
        }
      ]
    },
    {
      "cell_type": "code",
      "source": [
        "import pandas as pd\n",
        "import numpy as np\n",
        "import matplotlib.pyplot as plt\n",
        "from keras.models import Sequential\n",
        "from keras.layers import Dense, SimpleRNN"
      ],
      "metadata": {
        "id": "kvuGCUU2oi_R"
      },
      "execution_count": 6,
      "outputs": []
    },
    {
      "cell_type": "code",
      "source": [
        "# convert into dataset matrix\n",
        "def convertToMatrix(data, step):\n",
        " X, Y =[], []\n",
        " for i in range(len(data)-step):\n",
        "  d=i+step  \n",
        "  X.append(data[i:d,])\n",
        "  Y.append(data[d,])\n",
        " return np.array(X), np.array(Y)"
      ],
      "metadata": {
        "id": "HYyB3NmrolHY"
      },
      "execution_count": 7,
      "outputs": []
    },
    {
      "cell_type": "code",
      "source": [
        "step = 4\n",
        "N = 1000    \n",
        "Tp = 800    "
      ],
      "metadata": {
        "id": "XmchhDD6omuO"
      },
      "execution_count": 8,
      "outputs": []
    },
    {
      "cell_type": "code",
      "source": [
        "t=np.arange(0,N)\n",
        "t"
      ],
      "metadata": {
        "colab": {
          "base_uri": "https://localhost:8080/"
        },
        "id": "wRpE-u_Boonh",
        "outputId": "8c452a94-0331-4bb7-b903-47dc7c035b37"
      },
      "execution_count": 9,
      "outputs": [
        {
          "output_type": "execute_result",
          "data": {
            "text/plain": [
              "array([  0,   1,   2,   3,   4,   5,   6,   7,   8,   9,  10,  11,  12,\n",
              "        13,  14,  15,  16,  17,  18,  19,  20,  21,  22,  23,  24,  25,\n",
              "        26,  27,  28,  29,  30,  31,  32,  33,  34,  35,  36,  37,  38,\n",
              "        39,  40,  41,  42,  43,  44,  45,  46,  47,  48,  49,  50,  51,\n",
              "        52,  53,  54,  55,  56,  57,  58,  59,  60,  61,  62,  63,  64,\n",
              "        65,  66,  67,  68,  69,  70,  71,  72,  73,  74,  75,  76,  77,\n",
              "        78,  79,  80,  81,  82,  83,  84,  85,  86,  87,  88,  89,  90,\n",
              "        91,  92,  93,  94,  95,  96,  97,  98,  99, 100, 101, 102, 103,\n",
              "       104, 105, 106, 107, 108, 109, 110, 111, 112, 113, 114, 115, 116,\n",
              "       117, 118, 119, 120, 121, 122, 123, 124, 125, 126, 127, 128, 129,\n",
              "       130, 131, 132, 133, 134, 135, 136, 137, 138, 139, 140, 141, 142,\n",
              "       143, 144, 145, 146, 147, 148, 149, 150, 151, 152, 153, 154, 155,\n",
              "       156, 157, 158, 159, 160, 161, 162, 163, 164, 165, 166, 167, 168,\n",
              "       169, 170, 171, 172, 173, 174, 175, 176, 177, 178, 179, 180, 181,\n",
              "       182, 183, 184, 185, 186, 187, 188, 189, 190, 191, 192, 193, 194,\n",
              "       195, 196, 197, 198, 199, 200, 201, 202, 203, 204, 205, 206, 207,\n",
              "       208, 209, 210, 211, 212, 213, 214, 215, 216, 217, 218, 219, 220,\n",
              "       221, 222, 223, 224, 225, 226, 227, 228, 229, 230, 231, 232, 233,\n",
              "       234, 235, 236, 237, 238, 239, 240, 241, 242, 243, 244, 245, 246,\n",
              "       247, 248, 249, 250, 251, 252, 253, 254, 255, 256, 257, 258, 259,\n",
              "       260, 261, 262, 263, 264, 265, 266, 267, 268, 269, 270, 271, 272,\n",
              "       273, 274, 275, 276, 277, 278, 279, 280, 281, 282, 283, 284, 285,\n",
              "       286, 287, 288, 289, 290, 291, 292, 293, 294, 295, 296, 297, 298,\n",
              "       299, 300, 301, 302, 303, 304, 305, 306, 307, 308, 309, 310, 311,\n",
              "       312, 313, 314, 315, 316, 317, 318, 319, 320, 321, 322, 323, 324,\n",
              "       325, 326, 327, 328, 329, 330, 331, 332, 333, 334, 335, 336, 337,\n",
              "       338, 339, 340, 341, 342, 343, 344, 345, 346, 347, 348, 349, 350,\n",
              "       351, 352, 353, 354, 355, 356, 357, 358, 359, 360, 361, 362, 363,\n",
              "       364, 365, 366, 367, 368, 369, 370, 371, 372, 373, 374, 375, 376,\n",
              "       377, 378, 379, 380, 381, 382, 383, 384, 385, 386, 387, 388, 389,\n",
              "       390, 391, 392, 393, 394, 395, 396, 397, 398, 399, 400, 401, 402,\n",
              "       403, 404, 405, 406, 407, 408, 409, 410, 411, 412, 413, 414, 415,\n",
              "       416, 417, 418, 419, 420, 421, 422, 423, 424, 425, 426, 427, 428,\n",
              "       429, 430, 431, 432, 433, 434, 435, 436, 437, 438, 439, 440, 441,\n",
              "       442, 443, 444, 445, 446, 447, 448, 449, 450, 451, 452, 453, 454,\n",
              "       455, 456, 457, 458, 459, 460, 461, 462, 463, 464, 465, 466, 467,\n",
              "       468, 469, 470, 471, 472, 473, 474, 475, 476, 477, 478, 479, 480,\n",
              "       481, 482, 483, 484, 485, 486, 487, 488, 489, 490, 491, 492, 493,\n",
              "       494, 495, 496, 497, 498, 499, 500, 501, 502, 503, 504, 505, 506,\n",
              "       507, 508, 509, 510, 511, 512, 513, 514, 515, 516, 517, 518, 519,\n",
              "       520, 521, 522, 523, 524, 525, 526, 527, 528, 529, 530, 531, 532,\n",
              "       533, 534, 535, 536, 537, 538, 539, 540, 541, 542, 543, 544, 545,\n",
              "       546, 547, 548, 549, 550, 551, 552, 553, 554, 555, 556, 557, 558,\n",
              "       559, 560, 561, 562, 563, 564, 565, 566, 567, 568, 569, 570, 571,\n",
              "       572, 573, 574, 575, 576, 577, 578, 579, 580, 581, 582, 583, 584,\n",
              "       585, 586, 587, 588, 589, 590, 591, 592, 593, 594, 595, 596, 597,\n",
              "       598, 599, 600, 601, 602, 603, 604, 605, 606, 607, 608, 609, 610,\n",
              "       611, 612, 613, 614, 615, 616, 617, 618, 619, 620, 621, 622, 623,\n",
              "       624, 625, 626, 627, 628, 629, 630, 631, 632, 633, 634, 635, 636,\n",
              "       637, 638, 639, 640, 641, 642, 643, 644, 645, 646, 647, 648, 649,\n",
              "       650, 651, 652, 653, 654, 655, 656, 657, 658, 659, 660, 661, 662,\n",
              "       663, 664, 665, 666, 667, 668, 669, 670, 671, 672, 673, 674, 675,\n",
              "       676, 677, 678, 679, 680, 681, 682, 683, 684, 685, 686, 687, 688,\n",
              "       689, 690, 691, 692, 693, 694, 695, 696, 697, 698, 699, 700, 701,\n",
              "       702, 703, 704, 705, 706, 707, 708, 709, 710, 711, 712, 713, 714,\n",
              "       715, 716, 717, 718, 719, 720, 721, 722, 723, 724, 725, 726, 727,\n",
              "       728, 729, 730, 731, 732, 733, 734, 735, 736, 737, 738, 739, 740,\n",
              "       741, 742, 743, 744, 745, 746, 747, 748, 749, 750, 751, 752, 753,\n",
              "       754, 755, 756, 757, 758, 759, 760, 761, 762, 763, 764, 765, 766,\n",
              "       767, 768, 769, 770, 771, 772, 773, 774, 775, 776, 777, 778, 779,\n",
              "       780, 781, 782, 783, 784, 785, 786, 787, 788, 789, 790, 791, 792,\n",
              "       793, 794, 795, 796, 797, 798, 799, 800, 801, 802, 803, 804, 805,\n",
              "       806, 807, 808, 809, 810, 811, 812, 813, 814, 815, 816, 817, 818,\n",
              "       819, 820, 821, 822, 823, 824, 825, 826, 827, 828, 829, 830, 831,\n",
              "       832, 833, 834, 835, 836, 837, 838, 839, 840, 841, 842, 843, 844,\n",
              "       845, 846, 847, 848, 849, 850, 851, 852, 853, 854, 855, 856, 857,\n",
              "       858, 859, 860, 861, 862, 863, 864, 865, 866, 867, 868, 869, 870,\n",
              "       871, 872, 873, 874, 875, 876, 877, 878, 879, 880, 881, 882, 883,\n",
              "       884, 885, 886, 887, 888, 889, 890, 891, 892, 893, 894, 895, 896,\n",
              "       897, 898, 899, 900, 901, 902, 903, 904, 905, 906, 907, 908, 909,\n",
              "       910, 911, 912, 913, 914, 915, 916, 917, 918, 919, 920, 921, 922,\n",
              "       923, 924, 925, 926, 927, 928, 929, 930, 931, 932, 933, 934, 935,\n",
              "       936, 937, 938, 939, 940, 941, 942, 943, 944, 945, 946, 947, 948,\n",
              "       949, 950, 951, 952, 953, 954, 955, 956, 957, 958, 959, 960, 961,\n",
              "       962, 963, 964, 965, 966, 967, 968, 969, 970, 971, 972, 973, 974,\n",
              "       975, 976, 977, 978, 979, 980, 981, 982, 983, 984, 985, 986, 987,\n",
              "       988, 989, 990, 991, 992, 993, 994, 995, 996, 997, 998, 999])"
            ]
          },
          "metadata": {},
          "execution_count": 9
        }
      ]
    },
    {
      "cell_type": "code",
      "source": [
        "x=np.sin(0.02*t)+2*np.random.rand(N)\n",
        "x"
      ],
      "metadata": {
        "colab": {
          "base_uri": "https://localhost:8080/"
        },
        "id": "N4nqQCH4orBa",
        "outputId": "947152b8-ec32-4dc3-eefe-39341083ca14"
      },
      "execution_count": 10,
      "outputs": [
        {
          "output_type": "execute_result",
          "data": {
            "text/plain": [
              "array([ 3.14279757e-02,  1.18226179e+00,  1.67359829e+00,  5.93322338e-01,\n",
              "        6.40874252e-01,  1.99876201e+00,  1.71907820e+00,  1.80991533e+00,\n",
              "        1.72648621e+00,  6.89498413e-01,  4.15121587e-01,  1.00120888e+00,\n",
              "        4.45104869e-01,  5.00783048e-01,  7.98336528e-01,  1.79362269e+00,\n",
              "        8.11483292e-01,  6.79895201e-01,  3.70006517e-01,  1.93004077e+00,\n",
              "        1.65218270e+00,  2.18932636e+00,  1.02020614e+00,  9.28676496e-01,\n",
              "        1.22373197e+00,  9.40370756e-01,  8.14839190e-01,  1.17023119e+00,\n",
              "        1.13770274e+00,  1.76174337e+00,  1.97825166e+00,  9.06742698e-01,\n",
              "        1.64612294e+00,  1.37691051e+00,  1.72181907e+00,  7.72926956e-01,\n",
              "        9.65077315e-01,  8.12757411e-01,  2.02192767e+00,  2.29883291e+00,\n",
              "        1.79809395e+00,  1.42111850e+00,  1.48008665e+00,  1.86820887e+00,\n",
              "        2.45288919e+00,  1.27661652e+00,  1.26465050e+00,  1.61680500e+00,\n",
              "        1.34123468e+00,  1.72716441e+00,  2.81246595e+00,  1.85886961e+00,\n",
              "        2.40145119e+00,  1.51641413e+00,  2.07405161e+00,  1.49400773e+00,\n",
              "        2.57121731e+00,  2.07123027e+00,  2.81715147e+00,  1.02376112e+00,\n",
              "        2.16641584e+00,  2.83414191e+00,  1.88911780e+00,  2.56586593e+00,\n",
              "        9.82449301e-01,  2.26245120e+00,  1.39036630e+00,  1.77595965e+00,\n",
              "        2.35206106e+00,  2.56960456e+00,  1.76552883e+00,  2.85868319e+00,\n",
              "        1.34243176e+00,  1.46254902e+00,  2.00656675e+00,  2.32733653e+00,\n",
              "        1.45146402e+00,  2.08264459e+00,  2.35445399e+00,  2.74422045e+00,\n",
              "        1.18578793e+00,  1.79695831e+00,  1.77031178e+00,  1.30138791e+00,\n",
              "        1.01504901e+00,  1.05982867e+00,  2.77232127e+00,  2.55681567e+00,\n",
              "        2.13338665e+00,  1.41976030e+00,  1.35960930e+00,  2.52201652e+00,\n",
              "        1.59890221e+00,  1.79388102e+00,  2.93545506e+00,  1.04263126e+00,\n",
              "        1.42996872e+00,  1.56777082e+00,  2.56436675e+00,  2.31756442e+00,\n",
              "        2.25902613e+00,  1.93833406e+00,  2.64939468e+00,  2.77081995e+00,\n",
              "        1.96559983e+00,  1.48953896e+00,  2.65310454e+00,  8.72087869e-01,\n",
              "        1.02067119e+00,  1.90133484e+00,  1.18598666e+00,  1.67245639e+00,\n",
              "        2.13316994e+00,  1.28959426e+00,  8.88163792e-01,  2.51613697e+00,\n",
              "        1.61359886e+00,  9.74721996e-01,  1.71394886e+00,  2.47840349e+00,\n",
              "        2.06994221e+00,  2.06472248e+00,  1.37312207e+00,  2.46726660e+00,\n",
              "        2.53770142e+00,  9.69650727e-01,  2.24868508e+00,  6.48409504e-01,\n",
              "        2.41991375e+00,  1.43514997e+00,  1.54527454e+00,  1.23885749e+00,\n",
              "        6.29136999e-01,  1.98174045e+00,  2.29842913e+00,  5.95273462e-01,\n",
              "        7.39692262e-01,  1.39333110e+00,  1.17385386e+00,  1.50930885e+00,\n",
              "        2.24179680e+00,  1.14445764e+00,  5.40129163e-01,  1.09770846e+00,\n",
              "        1.20719684e+00,  2.00187253e+00,  1.21971799e+00,  9.46977196e-01,\n",
              "        2.05240867e+00,  1.53780713e+00,  1.73691451e+00,  4.84626986e-01,\n",
              "        1.77563264e+00,  1.70807465e+00,  6.04086916e-01,  1.83241654e+00,\n",
              "        1.01936832e-01,  1.48103758e+00,  1.68345289e+00,  4.82555234e-01,\n",
              "        7.62556672e-01,  1.76776050e+00,  1.18785896e+00,  1.19380479e+00,\n",
              "        2.45465490e-01,  5.72626625e-01,  1.19124742e+00,  1.07362288e+00,\n",
              "        7.74159442e-01,  3.95654267e-01,  7.74942287e-01,  9.54383901e-01,\n",
              "        4.35134604e-01,  6.78489385e-01, -2.91343421e-01,  1.03247937e+00,\n",
              "       -1.61715585e-01, -3.33045838e-01, -8.96350925e-02,  3.71084042e-01,\n",
              "        7.23841956e-02,  5.35108871e-01,  6.12787703e-01,  1.46799506e+00,\n",
              "        9.96130062e-01,  8.86591169e-01,  7.86779774e-01,  8.72188349e-01,\n",
              "        2.47989473e-01,  1.86280415e-01,  1.01419143e+00, -3.85153240e-01,\n",
              "       -4.48155213e-03, -4.57417902e-01,  2.53542774e-01,  1.46611783e-01,\n",
              "       -3.92612733e-01,  8.44403299e-01,  1.48798605e-01,  2.21726552e-03,\n",
              "        8.47368609e-01, -7.04859772e-01,  9.51966734e-02,  1.20309333e+00,\n",
              "        5.95214709e-01, -2.45237606e-01, -6.05572074e-01,  6.15125045e-01,\n",
              "        1.23251312e-01, -3.90362644e-02, -4.91177536e-01,  7.96927338e-01,\n",
              "       -3.65847466e-01,  1.08798894e+00,  1.06718882e+00, -5.56433158e-01,\n",
              "       -7.03163154e-01, -8.71810128e-01, -1.08393585e-01,  1.47982235e-01,\n",
              "       -5.47022684e-01, -4.91169650e-01,  1.45817832e-01,  1.02264455e+00,\n",
              "       -9.57188113e-01, -3.60817936e-01,  4.25220059e-01, -3.47698823e-01,\n",
              "       -8.37290611e-01, -6.59087014e-01, -8.95373122e-01,  1.03875610e-01,\n",
              "       -6.15592196e-01, -6.09361921e-01, -9.28494209e-01,  4.07834223e-01,\n",
              "        4.88061477e-01, -7.22453987e-02,  9.32239555e-01, -4.28522297e-01,\n",
              "        4.74393916e-01, -9.50864525e-01,  9.85239422e-01,  4.90394922e-01,\n",
              "        3.61296801e-01,  6.03835595e-01,  4.05523515e-02,  3.64189303e-01,\n",
              "        9.13692944e-01, -8.07105670e-01, -4.46082225e-01, -5.94261884e-01,\n",
              "        4.74175817e-01, -5.15451629e-03, -8.26366548e-01,  7.20635166e-01,\n",
              "        3.15412040e-01,  6.06894049e-01,  1.76439324e-01,  2.73891682e-01,\n",
              "       -6.04200608e-01, -6.70410027e-01,  4.11830675e-01, -2.22366788e-01,\n",
              "        5.64150797e-01,  7.97596443e-02, -7.93452507e-02, -7.11244344e-01,\n",
              "       -5.92884843e-01,  4.28861619e-01, -6.74863487e-01,  4.82804219e-01,\n",
              "        7.71512029e-01,  7.64743398e-01, -6.35876708e-01, -7.11444429e-02,\n",
              "       -1.99496287e-01, -3.27030710e-01,  1.16381611e+00,  1.37113363e-01,\n",
              "       -4.44981075e-01, -5.82701293e-01,  9.59133605e-01,  1.10061099e+00,\n",
              "        3.59251358e-01,  3.02479038e-01, -2.15044802e-01,  1.47448268e+00,\n",
              "        1.46760045e+00,  3.38301879e-01,  4.39032664e-01, -2.92549708e-01,\n",
              "        1.72443771e-01,  1.00721325e+00,  1.21717195e-01, -2.41592662e-01,\n",
              "        6.22466518e-01,  1.64597400e+00,  7.59103003e-01,  1.68622377e+00,\n",
              "        3.79118016e-01,  5.53868195e-02,  7.30012426e-01,  1.41617291e+00,\n",
              "        9.31185143e-01,  2.67340570e-01,  1.32894374e+00,  5.39935422e-01,\n",
              "        7.83093985e-01,  7.15234242e-01,  1.75059287e+00,  3.39896174e-02,\n",
              "        2.70846538e-01,  2.21195270e-01,  1.79982447e+00,  6.97401840e-01,\n",
              "        1.50901943e+00,  4.11242860e-01,  4.18740535e-01,  1.61614884e+00,\n",
              "        1.33942915e+00,  1.16429831e+00,  2.16982535e-01,  2.14095092e+00,\n",
              "        4.89446963e-01,  3.56340799e-01,  1.99981184e+00,  1.49490980e+00,\n",
              "        1.48763116e+00,  9.87557678e-01,  1.38826898e+00,  5.59244991e-01,\n",
              "        1.23134584e+00,  1.41504503e+00,  4.71183975e-01,  1.96640425e+00,\n",
              "        1.31421858e+00,  2.39274064e+00,  2.42156798e+00,  2.40294942e+00,\n",
              "        1.00490996e+00,  1.66816410e+00,  1.94061692e+00,  1.15502532e+00,\n",
              "        1.15382406e+00,  1.14890703e+00,  1.18209987e+00,  2.17024163e+00,\n",
              "        1.49424042e+00,  1.87380094e+00,  1.93931283e+00,  2.26859268e+00,\n",
              "        1.05810029e+00,  1.09136376e+00,  1.61482475e+00,  9.64363130e-01,\n",
              "        9.25440143e-01,  1.14863025e+00,  1.46230170e+00,  1.17616968e+00,\n",
              "        2.72400482e+00,  1.83244952e+00,  1.74074382e+00,  2.82121834e+00,\n",
              "        2.78820373e+00,  1.13313720e+00,  1.74427157e+00,  1.86101577e+00,\n",
              "        1.83550953e+00,  9.29239874e-01,  2.69324992e+00,  2.00482005e+00,\n",
              "        2.17735393e+00,  1.85131039e+00,  2.74399132e+00,  9.93325010e-01,\n",
              "        2.74701258e+00,  2.71331143e+00,  2.16901078e+00,  1.88913201e+00,\n",
              "        1.21000514e+00,  1.78030302e+00,  2.97368449e+00,  2.92126199e+00,\n",
              "        2.63528754e+00,  2.28119060e+00,  1.42288597e+00,  1.08937334e+00,\n",
              "        1.76064932e+00,  2.44585541e+00,  1.75238818e+00,  1.81002907e+00,\n",
              "        2.55281246e+00,  2.42249319e+00,  1.17683190e+00,  2.37293082e+00,\n",
              "        1.71734441e+00,  2.01245843e+00,  1.13505561e+00,  2.67703675e+00,\n",
              "        2.84673502e+00,  1.40569253e+00,  2.17717636e+00,  2.17966740e+00,\n",
              "        1.25899954e+00,  1.79113433e+00,  1.03323827e+00,  2.67843554e+00,\n",
              "        1.25547166e+00,  2.87706817e+00,  2.52920856e+00,  1.59981728e+00,\n",
              "        2.05737026e+00,  2.20018167e+00,  1.99386813e+00,  1.37892649e+00,\n",
              "        2.21055617e+00,  2.24195321e+00,  2.77670762e+00,  1.74043959e+00,\n",
              "        1.62891095e+00,  1.99772919e+00,  1.24747539e+00,  2.29267136e+00,\n",
              "        1.01124231e+00,  2.74600750e+00,  1.63658388e+00,  7.78661334e-01,\n",
              "        2.72528503e+00,  1.80501048e+00,  1.18073724e+00,  1.61873419e+00,\n",
              "        2.66953156e+00,  1.72289761e+00,  1.07776379e+00,  1.04436089e+00,\n",
              "        1.63019195e+00,  7.92076250e-01,  2.35737055e+00,  2.11314865e+00,\n",
              "        2.44015736e+00,  1.39731666e+00,  1.19994986e+00,  1.21906305e+00,\n",
              "        1.88663509e+00,  6.02300338e-01,  1.80475995e+00,  2.12029235e+00,\n",
              "        9.09344311e-01,  2.39156852e+00,  1.44359389e+00,  2.17191551e+00,\n",
              "        1.32435021e+00,  2.05169648e+00,  7.45208682e-01,  1.58866128e+00,\n",
              "        2.17501906e+00,  1.56233699e+00,  1.64011410e+00,  1.15593887e+00,\n",
              "        1.90037638e+00,  2.17286698e+00,  6.32217963e-01,  1.49584933e+00,\n",
              "        7.65650476e-01,  5.39165108e-01,  1.41666305e-01,  1.42976791e+00,\n",
              "        1.99965289e-01,  1.31256745e+00,  1.27278801e+00,  1.74020928e+00,\n",
              "        1.27174264e-01,  6.56644902e-01,  9.64406253e-01,  1.30844263e+00,\n",
              "        1.23071000e+00,  1.06453192e+00,  5.52654411e-01,  7.18091821e-01,\n",
              "        8.00188688e-01,  7.93642277e-01, -2.23223954e-02, -4.23738783e-02,\n",
              "        2.80799708e-02,  5.49596426e-01,  4.66713451e-01,  7.12648385e-01,\n",
              "        1.67072732e+00, -2.73337826e-01,  1.00171023e+00,  7.31674056e-01,\n",
              "        5.03861225e-01,  6.86716267e-01,  5.21238389e-01,  9.39066416e-01,\n",
              "        9.69991635e-01, -4.75104746e-01,  2.37350569e-01, -5.66353052e-02,\n",
              "        7.57807023e-01,  2.75594555e-01,  1.37221580e+00,  1.10619727e+00,\n",
              "        4.10887449e-01, -2.82094002e-01,  1.27702330e-01, -2.26585426e-01,\n",
              "        1.16827163e+00,  8.51044833e-01, -2.37669291e-02,  8.56268738e-01,\n",
              "       -1.24541485e-01, -4.08036920e-02,  5.91326089e-01, -6.30522534e-01,\n",
              "        7.22508540e-02, -4.77817023e-01, -4.93346992e-01,  2.26317791e-01,\n",
              "       -2.75245809e-02,  7.46399378e-01, -1.76928642e-01,  1.79153935e-01,\n",
              "        3.48984454e-02,  2.10867464e-01,  4.12707571e-02, -7.14945419e-01,\n",
              "        2.09850247e-01, -2.88505015e-01,  3.37885647e-01,  9.31695090e-01,\n",
              "        5.02344688e-01, -2.35355512e-01, -4.65391672e-01, -2.79864723e-01,\n",
              "        6.00896949e-01, -1.11432662e-01,  1.60483747e-01, -8.11237061e-01,\n",
              "       -7.43650104e-01, -3.04637674e-01, -5.08882209e-01,  5.36042648e-01,\n",
              "        6.57509354e-01, -4.37257964e-02,  2.10583276e-01, -2.61680060e-01,\n",
              "       -9.64950112e-01,  8.16055553e-01, -4.65377958e-01, -9.83993225e-01,\n",
              "        3.68671914e-01,  9.77798969e-01,  5.39349723e-01, -3.83792464e-01,\n",
              "       -5.80928825e-01, -9.39787247e-02,  7.97008093e-01,  1.78168857e-01,\n",
              "       -9.15787362e-01,  5.57607062e-01, -3.10085170e-01, -2.77461219e-01,\n",
              "        1.34275516e-01,  3.02345871e-01, -6.81042106e-01, -2.97493532e-01,\n",
              "       -2.43669800e-01,  5.29014645e-01,  3.32070712e-01,  8.82253927e-01,\n",
              "       -5.47325565e-01, -5.10314984e-01,  8.30845142e-01, -1.84831598e-01,\n",
              "       -2.53269578e-01,  8.30457243e-02,  6.07727824e-01,  8.18462128e-01,\n",
              "       -2.23977927e-01,  1.11094073e+00, -3.98435414e-01, -3.30018715e-01,\n",
              "        9.12342303e-01,  9.04354883e-01,  6.25806324e-01,  5.51913019e-01,\n",
              "        9.08234941e-01, -3.04588631e-01,  6.96625497e-01,  1.30883452e+00,\n",
              "        2.14175838e-01, -2.67412432e-01,  1.06437863e+00, -4.03423995e-01,\n",
              "        1.64069585e-01, -1.99994464e-02, -1.26963779e-01,  1.42811113e+00,\n",
              "        6.39344061e-01,  6.18993255e-01,  9.95127778e-01,  6.50498782e-01,\n",
              "       -1.96438560e-01,  6.38335035e-01,  8.58185126e-01,  8.84452527e-01,\n",
              "        1.14390689e+00,  5.19946464e-01,  7.07613207e-01,  1.03816993e+00,\n",
              "        1.47281731e+00,  3.85157500e-01,  2.47758851e-01,  2.29478632e-01,\n",
              "        2.67318444e-01,  6.42110196e-01,  8.74582832e-01,  1.48177212e-01,\n",
              "        7.42567108e-01,  1.43926663e+00,  3.70625740e-01,  2.00028205e-02,\n",
              "        8.49170438e-01,  1.85406772e+00,  9.27923206e-01,  8.45881671e-02,\n",
              "        7.45637848e-01,  1.69781218e+00,  8.88919800e-01,  1.14519007e+00,\n",
              "        1.86301094e+00,  9.23590077e-01,  8.87995235e-01,  9.02950586e-01,\n",
              "        1.08493649e+00,  1.93350453e+00,  3.81017260e-01,  1.73431700e+00,\n",
              "        1.16408650e+00,  1.96390503e+00,  1.09186143e+00,  7.42662618e-01,\n",
              "        7.65275993e-01,  1.35872080e+00,  1.00192741e+00,  1.99915163e+00,\n",
              "        2.07799309e+00,  2.19184249e+00,  6.72950324e-01,  1.22270929e+00,\n",
              "        1.29820447e+00,  1.68515172e+00,  2.44935335e+00,  2.10548839e+00,\n",
              "        6.85077612e-01,  2.05435303e+00,  6.47545968e-01,  1.84532241e+00,\n",
              "        6.85494965e-01,  2.40126045e+00,  1.60081375e+00,  1.48553300e+00,\n",
              "        8.38531127e-01,  1.65505811e+00,  9.89291541e-01,  1.64082289e+00,\n",
              "        2.52659153e+00,  2.63100842e+00,  2.57559164e+00,  1.95528413e+00,\n",
              "        1.64538341e+00,  2.74355227e+00,  1.98332533e+00,  1.35641129e+00,\n",
              "        2.06727005e+00,  1.30122048e+00,  2.17140594e+00,  1.58503055e+00,\n",
              "        1.03622653e+00,  8.86174683e-01,  2.06075367e+00,  1.83127015e+00,\n",
              "        1.34957665e+00,  1.80455662e+00,  2.70299405e+00,  1.22547239e+00,\n",
              "        2.38314176e+00,  1.13302592e+00,  2.24116877e+00,  1.45136501e+00,\n",
              "        1.69076598e+00,  2.00884778e+00,  1.28108186e+00,  1.98853371e+00,\n",
              "        2.83991757e+00,  1.32811669e+00,  1.35819945e+00,  1.74866021e+00,\n",
              "        1.75020449e+00,  1.22792458e+00,  2.49987657e+00,  1.64788488e+00,\n",
              "        2.23041791e+00,  2.17522581e+00,  1.45007451e+00,  1.50301382e+00,\n",
              "        1.52902052e+00,  2.28485338e+00,  2.16565281e+00,  1.18986275e+00,\n",
              "        1.45531582e+00,  1.25246099e+00,  2.31286555e+00,  1.26628048e+00,\n",
              "        1.94886319e+00,  1.70977052e+00,  1.03288822e+00,  1.97518419e+00,\n",
              "        1.35280197e+00,  2.11682491e+00,  2.83231177e+00,  2.74887197e+00,\n",
              "        2.50608748e+00,  1.52440462e+00,  1.71548509e+00,  1.47863493e+00,\n",
              "        1.20371862e+00,  2.22449725e+00,  9.18771143e-01,  2.17230521e+00,\n",
              "        1.82857116e+00,  9.39412264e-01,  1.24323660e+00,  1.54884771e+00,\n",
              "        2.05318989e+00,  1.47751061e+00,  2.01746971e+00,  2.24988637e+00,\n",
              "        8.39433899e-01,  8.62896959e-01,  2.29306157e+00,  2.21540709e+00,\n",
              "        1.47090709e+00,  1.64932996e+00,  1.51495461e+00,  1.02921886e+00,\n",
              "        9.32524416e-01,  1.40202379e+00,  1.78505619e+00,  1.94397646e+00,\n",
              "        1.39731465e+00,  1.29332161e+00,  1.99387063e+00,  2.08946102e+00,\n",
              "        1.39795213e+00,  1.03364489e+00,  1.44185658e+00,  7.80605394e-01,\n",
              "        1.22444562e+00,  2.03535171e+00,  1.57607399e+00,  9.14580724e-01,\n",
              "        1.91753193e+00,  1.62579217e+00,  5.89991455e-01,  1.49926457e+00,\n",
              "        1.54223432e+00,  1.08266975e+00,  1.74383135e+00,  1.49901314e+00,\n",
              "        1.10990828e+00,  1.02713140e+00,  1.04626243e+00,  3.17456527e-01,\n",
              "        8.93852549e-01,  1.70920333e+00,  9.66940699e-01,  1.11580755e+00,\n",
              "        1.26823413e+00,  1.29687578e+00,  7.08118623e-01,  7.64751075e-01,\n",
              "        8.54588196e-01,  1.16959732e+00,  1.65454946e+00,  5.65812360e-01,\n",
              "        2.69951163e-01,  1.76149764e+00,  6.48256446e-01,  1.31084778e-01,\n",
              "        1.70020312e-01,  5.23545680e-01,  2.32409922e-01,  1.44360010e+00,\n",
              "        1.11572114e+00,  2.41751571e-02, -2.15743594e-01,  1.38425441e+00,\n",
              "        1.50753275e-01,  1.62030975e+00,  1.39863555e+00,  1.51395756e+00,\n",
              "        8.73288126e-01,  1.15290694e+00, -3.56537285e-01, -3.56257921e-01,\n",
              "        2.15318053e-01,  7.96694043e-02, -3.59550803e-01,  1.43039039e+00,\n",
              "        3.81342145e-01,  2.25602425e-01, -4.10239094e-03, -2.92165853e-01,\n",
              "       -8.80751809e-02, -8.09429303e-02,  7.54070581e-03, -3.39500308e-01,\n",
              "        6.71213099e-01,  1.14736698e-01,  8.01250093e-01, -6.25014656e-01,\n",
              "        1.12069163e+00,  4.70650179e-01,  8.11536961e-02,  6.84157298e-01,\n",
              "        8.82130031e-01, -3.43000644e-01,  8.51793550e-01,  9.85223110e-01,\n",
              "       -5.13739452e-01,  7.49584724e-01,  9.65395837e-01, -4.27681276e-04,\n",
              "        8.45881217e-02,  2.42085863e-01,  8.34039117e-02, -6.22085232e-01,\n",
              "        9.45225587e-01,  4.74340970e-01,  4.37249262e-01, -8.70809185e-01,\n",
              "        3.64618527e-01, -7.32714485e-01, -4.50085588e-01, -6.98852423e-01,\n",
              "       -3.82753654e-01,  8.97910542e-01, -8.91130363e-01, -1.63310499e-01,\n",
              "        6.90805627e-02, -8.76704737e-01, -4.33314911e-01,  5.71461046e-01,\n",
              "        6.94539850e-01, -7.69978861e-01, -5.91004474e-01, -9.70096959e-01,\n",
              "       -9.42907666e-01,  5.34079418e-02,  4.48850459e-01, -7.47341298e-01,\n",
              "       -2.73538014e-01, -8.70591548e-01, -1.78902335e-01, -9.22120551e-01,\n",
              "        3.33409270e-02, -1.40170605e-01, -7.59409233e-01, -8.46703000e-01,\n",
              "        4.57776713e-01,  8.86280058e-01,  8.80874112e-01,  7.43120116e-01,\n",
              "        5.29207365e-01, -7.74275426e-01,  1.03115693e+00,  5.01464482e-01,\n",
              "       -2.46391055e-01,  1.65477608e-01,  3.71054070e-01, -4.65274771e-01,\n",
              "        7.73896181e-01, -6.73415378e-01,  5.09718427e-01, -7.53265762e-01,\n",
              "       -4.39056515e-01, -7.91898341e-01,  8.35507230e-01, -8.24416146e-01,\n",
              "       -9.28645433e-02,  5.03036166e-01,  6.60297195e-02,  1.50212758e-02,\n",
              "       -5.21715997e-01, -2.37638998e-01, -7.06772465e-02, -5.39795960e-01,\n",
              "        7.87436642e-01, -1.81489613e-01,  8.95901054e-01, -1.22677140e-01,\n",
              "       -1.37714314e-01,  1.01515727e+00,  9.30905000e-01,  8.03928359e-01,\n",
              "       -3.81642393e-01,  4.30691933e-01, -4.42081654e-01,  1.31765384e+00,\n",
              "        1.17363421e+00,  1.18118851e+00,  1.16520988e+00,  1.38098064e+00,\n",
              "        1.11914227e+00,  9.80163684e-01,  2.26352950e-02,  1.01619758e+00,\n",
              "       -1.17908977e-01,  1.22711615e+00,  1.58596070e+00, -2.91647008e-01,\n",
              "        1.62069485e+00, -3.29085995e-01,  3.99806694e-01,  1.11293869e+00,\n",
              "        7.85209505e-02,  1.32601476e+00,  6.74061430e-01,  3.00656466e-01,\n",
              "        1.11719416e+00,  5.95187897e-01,  1.01291814e+00,  9.35684295e-01,\n",
              "        4.41496917e-01,  9.85269325e-01,  1.55414254e+00,  1.55196272e+00,\n",
              "        5.81101519e-01,  1.12243572e+00,  7.94624739e-01,  6.47210274e-01,\n",
              "        6.75417965e-01,  1.50204032e+00,  2.04774202e+00,  9.89501363e-01,\n",
              "        1.28045132e+00,  1.01816318e+00,  1.47232883e+00,  6.93535846e-01,\n",
              "        4.66968508e-01,  1.70802183e+00,  1.79747083e+00,  1.37813482e+00,\n",
              "        2.06624463e+00,  8.14684709e-01,  3.20959261e-01,  1.74876469e+00,\n",
              "        1.85582576e+00,  2.09946967e+00,  2.26421105e+00,  1.07194970e+00,\n",
              "        8.84607340e-01,  6.40438426e-01,  9.79500624e-01,  1.49877073e+00,\n",
              "        1.01664549e+00,  9.10015508e-01,  1.32207627e+00,  1.46141224e+00,\n",
              "        7.85585513e-01,  1.82698649e+00,  1.42913773e+00,  1.56972509e+00,\n",
              "        2.60457917e+00,  7.94912942e-01,  1.49269553e+00,  1.79032075e+00,\n",
              "        2.47330462e+00,  2.41480485e+00,  2.32180430e+00,  2.53721204e+00,\n",
              "        7.65910700e-01,  1.32329009e+00,  1.65612297e+00,  2.29291184e+00,\n",
              "        2.77786600e+00,  2.69122640e+00,  1.91105266e+00,  2.82085767e+00,\n",
              "        2.33586911e+00,  1.95563513e+00,  1.80521763e+00,  2.44627250e+00,\n",
              "        2.11555575e+00,  2.56279854e+00,  1.22816631e+00,  9.09681798e-01])"
            ]
          },
          "metadata": {},
          "execution_count": 10
        }
      ]
    },
    {
      "cell_type": "code",
      "source": [
        "df = pd.DataFrame(x)\n",
        "df.head()"
      ],
      "metadata": {
        "colab": {
          "base_uri": "https://localhost:8080/",
          "height": 206
        },
        "id": "SbkYnhK1otc-",
        "outputId": "805dc084-b9e6-4171-95e5-79de840d962d"
      },
      "execution_count": 11,
      "outputs": [
        {
          "output_type": "execute_result",
          "data": {
            "text/plain": [
              "          0\n",
              "0  0.031428\n",
              "1  1.182262\n",
              "2  1.673598\n",
              "3  0.593322\n",
              "4  0.640874"
            ],
            "text/html": [
              "\n",
              "  <div id=\"df-790bb91f-503f-45bf-b9d8-454dce5f213d\">\n",
              "    <div class=\"colab-df-container\">\n",
              "      <div>\n",
              "<style scoped>\n",
              "    .dataframe tbody tr th:only-of-type {\n",
              "        vertical-align: middle;\n",
              "    }\n",
              "\n",
              "    .dataframe tbody tr th {\n",
              "        vertical-align: top;\n",
              "    }\n",
              "\n",
              "    .dataframe thead th {\n",
              "        text-align: right;\n",
              "    }\n",
              "</style>\n",
              "<table border=\"1\" class=\"dataframe\">\n",
              "  <thead>\n",
              "    <tr style=\"text-align: right;\">\n",
              "      <th></th>\n",
              "      <th>0</th>\n",
              "    </tr>\n",
              "  </thead>\n",
              "  <tbody>\n",
              "    <tr>\n",
              "      <th>0</th>\n",
              "      <td>0.031428</td>\n",
              "    </tr>\n",
              "    <tr>\n",
              "      <th>1</th>\n",
              "      <td>1.182262</td>\n",
              "    </tr>\n",
              "    <tr>\n",
              "      <th>2</th>\n",
              "      <td>1.673598</td>\n",
              "    </tr>\n",
              "    <tr>\n",
              "      <th>3</th>\n",
              "      <td>0.593322</td>\n",
              "    </tr>\n",
              "    <tr>\n",
              "      <th>4</th>\n",
              "      <td>0.640874</td>\n",
              "    </tr>\n",
              "  </tbody>\n",
              "</table>\n",
              "</div>\n",
              "      <button class=\"colab-df-convert\" onclick=\"convertToInteractive('df-790bb91f-503f-45bf-b9d8-454dce5f213d')\"\n",
              "              title=\"Convert this dataframe to an interactive table.\"\n",
              "              style=\"display:none;\">\n",
              "        \n",
              "  <svg xmlns=\"http://www.w3.org/2000/svg\" height=\"24px\"viewBox=\"0 0 24 24\"\n",
              "       width=\"24px\">\n",
              "    <path d=\"M0 0h24v24H0V0z\" fill=\"none\"/>\n",
              "    <path d=\"M18.56 5.44l.94 2.06.94-2.06 2.06-.94-2.06-.94-.94-2.06-.94 2.06-2.06.94zm-11 1L8.5 8.5l.94-2.06 2.06-.94-2.06-.94L8.5 2.5l-.94 2.06-2.06.94zm10 10l.94 2.06.94-2.06 2.06-.94-2.06-.94-.94-2.06-.94 2.06-2.06.94z\"/><path d=\"M17.41 7.96l-1.37-1.37c-.4-.4-.92-.59-1.43-.59-.52 0-1.04.2-1.43.59L10.3 9.45l-7.72 7.72c-.78.78-.78 2.05 0 2.83L4 21.41c.39.39.9.59 1.41.59.51 0 1.02-.2 1.41-.59l7.78-7.78 2.81-2.81c.8-.78.8-2.07 0-2.86zM5.41 20L4 18.59l7.72-7.72 1.47 1.35L5.41 20z\"/>\n",
              "  </svg>\n",
              "      </button>\n",
              "      \n",
              "  <style>\n",
              "    .colab-df-container {\n",
              "      display:flex;\n",
              "      flex-wrap:wrap;\n",
              "      gap: 12px;\n",
              "    }\n",
              "\n",
              "    .colab-df-convert {\n",
              "      background-color: #E8F0FE;\n",
              "      border: none;\n",
              "      border-radius: 50%;\n",
              "      cursor: pointer;\n",
              "      display: none;\n",
              "      fill: #1967D2;\n",
              "      height: 32px;\n",
              "      padding: 0 0 0 0;\n",
              "      width: 32px;\n",
              "    }\n",
              "\n",
              "    .colab-df-convert:hover {\n",
              "      background-color: #E2EBFA;\n",
              "      box-shadow: 0px 1px 2px rgba(60, 64, 67, 0.3), 0px 1px 3px 1px rgba(60, 64, 67, 0.15);\n",
              "      fill: #174EA6;\n",
              "    }\n",
              "\n",
              "    [theme=dark] .colab-df-convert {\n",
              "      background-color: #3B4455;\n",
              "      fill: #D2E3FC;\n",
              "    }\n",
              "\n",
              "    [theme=dark] .colab-df-convert:hover {\n",
              "      background-color: #434B5C;\n",
              "      box-shadow: 0px 1px 3px 1px rgba(0, 0, 0, 0.15);\n",
              "      filter: drop-shadow(0px 1px 2px rgba(0, 0, 0, 0.3));\n",
              "      fill: #FFFFFF;\n",
              "    }\n",
              "  </style>\n",
              "\n",
              "      <script>\n",
              "        const buttonEl =\n",
              "          document.querySelector('#df-790bb91f-503f-45bf-b9d8-454dce5f213d button.colab-df-convert');\n",
              "        buttonEl.style.display =\n",
              "          google.colab.kernel.accessAllowed ? 'block' : 'none';\n",
              "\n",
              "        async function convertToInteractive(key) {\n",
              "          const element = document.querySelector('#df-790bb91f-503f-45bf-b9d8-454dce5f213d');\n",
              "          const dataTable =\n",
              "            await google.colab.kernel.invokeFunction('convertToInteractive',\n",
              "                                                     [key], {});\n",
              "          if (!dataTable) return;\n",
              "\n",
              "          const docLinkHtml = 'Like what you see? Visit the ' +\n",
              "            '<a target=\"_blank\" href=https://colab.research.google.com/notebooks/data_table.ipynb>data table notebook</a>'\n",
              "            + ' to learn more about interactive tables.';\n",
              "          element.innerHTML = '';\n",
              "          dataTable['output_type'] = 'display_data';\n",
              "          await google.colab.output.renderOutput(dataTable, element);\n",
              "          const docLink = document.createElement('div');\n",
              "          docLink.innerHTML = docLinkHtml;\n",
              "          element.appendChild(docLink);\n",
              "        }\n",
              "      </script>\n",
              "    </div>\n",
              "  </div>\n",
              "  "
            ]
          },
          "metadata": {},
          "execution_count": 11
        }
      ]
    },
    {
      "cell_type": "code",
      "source": [
        "plt.plot(df)\n",
        "plt.show()"
      ],
      "metadata": {
        "colab": {
          "base_uri": "https://localhost:8080/",
          "height": 265
        },
        "id": "euwaQ8ogowgT",
        "outputId": "a93256c3-68d5-40bf-81bf-43e8e1293489"
      },
      "execution_count": 12,
      "outputs": [
        {
          "output_type": "display_data",
          "data": {
            "text/plain": [
              "<Figure size 432x288 with 1 Axes>"
            ],
            "image/png": "[encoded data removed]"
          },
          "metadata": {
            "needs_background": "light"
          }
        }
      ]
    },
    {
      "cell_type": "code",
      "source": [
        "values=df.values\n",
        "train,test = values[0:Tp,:], values[Tp:N,:]"
      ],
      "metadata": {
        "id": "xYX3mD34oyCY"
      },
      "execution_count": 13,
      "outputs": []
    },
    {
      "cell_type": "code",
      "source": [
        "len(values)"
      ],
      "metadata": {
        "colab": {
          "base_uri": "https://localhost:8080/"
        },
        "id": "PuB5mtTyo8eB",
        "outputId": "8b7f08f3-0264-46ca-9f76-c9caab0391a6"
      },
      "execution_count": 16,
      "outputs": [
        {
          "output_type": "execute_result",
          "data": {
            "text/plain": [
              "1000"
            ]
          },
          "metadata": {},
          "execution_count": 16
        }
      ]
    },
    {
      "cell_type": "code",
      "source": [
        "len(train)"
      ],
      "metadata": {
        "colab": {
          "base_uri": "https://localhost:8080/"
        },
        "id": "JF0JM9Efo0sn",
        "outputId": "e5c381ff-6f46-4d30-80f3-ad034dfcf506"
      },
      "execution_count": 17,
      "outputs": [
        {
          "output_type": "execute_result",
          "data": {
            "text/plain": [
              "800"
            ]
          },
          "metadata": {},
          "execution_count": 17
        }
      ]
    },
    {
      "cell_type": "code",
      "source": [
        "len(test)"
      ],
      "metadata": {
        "colab": {
          "base_uri": "https://localhost:8080/"
        },
        "id": "tRrmDnAho2xh",
        "outputId": "d481d0e8-d801-4420-e0ad-84d4c34786b8"
      },
      "execution_count": 18,
      "outputs": [
        {
          "output_type": "execute_result",
          "data": {
            "text/plain": [
              "200"
            ]
          },
          "metadata": {},
          "execution_count": 18
        }
      ]
    },
    {
      "cell_type": "code",
      "source": [
        "test = np.append(test,np.repeat(test[-1,],step))\n",
        "train = np.append(train,np.repeat(train[-1,],step))"
      ],
      "metadata": {
        "id": "UZJiTxIso-f4"
      },
      "execution_count": 19,
      "outputs": []
    },
    {
      "cell_type": "code",
      "source": [
        "trainX,trainY =convertToMatrix(train,step)\n",
        "testX,testY =convertToMatrix(test,step)\n",
        "trainX = np.reshape(trainX, (trainX.shape[0], 1, trainX.shape[1]))\n",
        "testX = np.reshape(testX, (testX.shape[0], 1, testX.shape[1]))"
      ],
      "metadata": {
        "id": "kZogbzfhpERE"
      },
      "execution_count": 22,
      "outputs": []
    },
    {
      "cell_type": "code",
      "source": [
        "trainX"
      ],
      "metadata": {
        "colab": {
          "base_uri": "https://localhost:8080/"
        },
        "id": "P3Z3MCdtpJtC",
        "outputId": "08035047-bb3e-4e84-9fa6-086d51d82633"
      },
      "execution_count": 23,
      "outputs": [
        {
          "output_type": "execute_result",
          "data": {
            "text/plain": [
              "array([[[ 0.03142798,  1.18226179,  1.67359829,  0.59332234]],\n",
              "\n",
              "       [[ 1.18226179,  1.67359829,  0.59332234,  0.64087425]],\n",
              "\n",
              "       [[ 1.67359829,  0.59332234,  0.64087425,  1.99876201]],\n",
              "\n",
              "       ...,\n",
              "\n",
              "       [[ 0.02417516, -0.21574359,  1.38425441,  1.38425441]],\n",
              "\n",
              "       [[-0.21574359,  1.38425441,  1.38425441,  1.38425441]],\n",
              "\n",
              "       [[ 1.38425441,  1.38425441,  1.38425441,  1.38425441]]])"
            ]
          },
          "metadata": {},
          "execution_count": 23
        }
      ]
    },
    {
      "cell_type": "code",
      "source": [
        "model = Sequential()"
      ],
      "metadata": {
        "id": "wfCtDudbpoDw"
      },
      "execution_count": 24,
      "outputs": []
    },
    {
      "cell_type": "code",
      "source": [
        "model.add(SimpleRNN(units=32, input_shape=(1,step), activation=\"relu\"))"
      ],
      "metadata": {
        "id": "gLSN1Qilpq2B"
      },
      "execution_count": 25,
      "outputs": []
    },
    {
      "cell_type": "code",
      "source": [
        "model.add(Dense(8, activation=\"relu\")) \n",
        "model.add(Dense(1))\n",
        "model.compile(loss='mean_squared_error', optimizer='rmsprop')\n",
        "model.summary()"
      ],
      "metadata": {
        "colab": {
          "base_uri": "https://localhost:8080/"
        },
        "id": "J4YkzMALpsrm",
        "outputId": "ef4c9f47-69a4-453b-ffb6-de4abd30cda8"
      },
      "execution_count": 26,
      "outputs": [
        {
          "output_type": "stream",
          "name": "stdout",
          "text": [
            "Model: \"sequential_2\"\n",
            "_________________________________________________________________\n",
            " Layer (type)                Output Shape              Param #   \n",
            "=================================================================\n",
            " simple_rnn_2 (SimpleRNN)    (None, 32)                1184      \n",
            "                                                                 \n",
            " dense_3 (Dense)             (None, 8)                 264       \n",
            "                                                                 \n",
            " dense_4 (Dense)             (None, 1)                 9         \n",
            "                                                                 \n",
            "=================================================================\n",
            "Total params: 1,457\n",
            "Trainable params: 1,457\n",
            "Non-trainable params: 0\n",
            "_________________________________________________________________\n"
          ]
        }
      ]
    },
    {
      "cell_type": "code",
      "source": [
        "model.fit(trainX,trainY, epochs=100, batch_size=16, verbose=2)\n",
        "trainPredict = model.predict(trainX)\n",
        "testPredict= model.predict(testX)"
      ],
      "metadata": {
        "colab": {
          "base_uri": "https://localhost:8080/"
        },
        "id": "Q5DFw0RGpuqi",
        "outputId": "25a97bfc-c2de-47fb-976e-c2dcef568566"
      },
      "execution_count": 27,
      "outputs": [
        {
          "output_type": "stream",
          "name": "stdout",
          "text": [
            "Epoch 1/100\n",
            "50/50 - 2s - loss: 2.1542 - 2s/epoch - 34ms/step\n",
            "Epoch 2/100\n",
            "50/50 - 0s - loss: 0.4898 - 222ms/epoch - 4ms/step\n",
            "Epoch 3/100\n",
            "50/50 - 0s - loss: 0.4034 - 143ms/epoch - 3ms/step\n",
            "Epoch 4/100\n",
            "50/50 - 0s - loss: 0.3918 - 129ms/epoch - 3ms/step\n",
            "Epoch 5/100\n",
            "50/50 - 0s - loss: 0.3880 - 83ms/epoch - 2ms/step\n",
            "Epoch 6/100\n",
            "50/50 - 0s - loss: 0.3839 - 85ms/epoch - 2ms/step\n",
            "Epoch 7/100\n",
            "50/50 - 0s - loss: 0.3855 - 83ms/epoch - 2ms/step\n",
            "Epoch 8/100\n",
            "50/50 - 0s - loss: 0.3832 - 90ms/epoch - 2ms/step\n",
            "Epoch 9/100\n",
            "50/50 - 0s - loss: 0.3834 - 85ms/epoch - 2ms/step\n",
            "Epoch 10/100\n",
            "50/50 - 0s - loss: 0.3835 - 80ms/epoch - 2ms/step\n",
            "Epoch 11/100\n",
            "50/50 - 0s - loss: 0.3811 - 83ms/epoch - 2ms/step\n",
            "Epoch 12/100\n",
            "50/50 - 0s - loss: 0.3820 - 94ms/epoch - 2ms/step\n",
            "Epoch 13/100\n",
            "50/50 - 0s - loss: 0.3798 - 85ms/epoch - 2ms/step\n",
            "Epoch 14/100\n",
            "50/50 - 0s - loss: 0.3799 - 80ms/epoch - 2ms/step\n",
            "Epoch 15/100\n",
            "50/50 - 0s - loss: 0.3789 - 88ms/epoch - 2ms/step\n",
            "Epoch 16/100\n",
            "50/50 - 0s - loss: 0.3799 - 86ms/epoch - 2ms/step\n",
            "Epoch 17/100\n",
            "50/50 - 0s - loss: 0.3769 - 96ms/epoch - 2ms/step\n",
            "Epoch 18/100\n",
            "50/50 - 0s - loss: 0.3758 - 89ms/epoch - 2ms/step\n",
            "Epoch 19/100\n",
            "50/50 - 0s - loss: 0.3789 - 94ms/epoch - 2ms/step\n",
            "Epoch 20/100\n",
            "50/50 - 0s - loss: 0.3771 - 80ms/epoch - 2ms/step\n",
            "Epoch 21/100\n",
            "50/50 - 0s - loss: 0.3769 - 100ms/epoch - 2ms/step\n",
            "Epoch 22/100\n",
            "50/50 - 0s - loss: 0.3767 - 84ms/epoch - 2ms/step\n",
            "Epoch 23/100\n",
            "50/50 - 0s - loss: 0.3771 - 86ms/epoch - 2ms/step\n",
            "Epoch 24/100\n",
            "50/50 - 0s - loss: 0.3756 - 84ms/epoch - 2ms/step\n",
            "Epoch 25/100\n",
            "50/50 - 0s - loss: 0.3766 - 86ms/epoch - 2ms/step\n",
            "Epoch 26/100\n",
            "50/50 - 0s - loss: 0.3764 - 82ms/epoch - 2ms/step\n",
            "Epoch 27/100\n",
            "50/50 - 0s - loss: 0.3742 - 78ms/epoch - 2ms/step\n",
            "Epoch 28/100\n",
            "50/50 - 0s - loss: 0.3749 - 83ms/epoch - 2ms/step\n",
            "Epoch 29/100\n",
            "50/50 - 0s - loss: 0.3746 - 90ms/epoch - 2ms/step\n",
            "Epoch 30/100\n",
            "50/50 - 0s - loss: 0.3754 - 84ms/epoch - 2ms/step\n",
            "Epoch 31/100\n",
            "50/50 - 0s - loss: 0.3748 - 80ms/epoch - 2ms/step\n",
            "Epoch 32/100\n",
            "50/50 - 0s - loss: 0.3728 - 86ms/epoch - 2ms/step\n",
            "Epoch 33/100\n",
            "50/50 - 0s - loss: 0.3746 - 87ms/epoch - 2ms/step\n",
            "Epoch 34/100\n",
            "50/50 - 0s - loss: 0.3734 - 92ms/epoch - 2ms/step\n",
            "Epoch 35/100\n",
            "50/50 - 0s - loss: 0.3724 - 85ms/epoch - 2ms/step\n",
            "Epoch 36/100\n",
            "50/50 - 0s - loss: 0.3721 - 83ms/epoch - 2ms/step\n",
            "Epoch 37/100\n",
            "50/50 - 0s - loss: 0.3740 - 82ms/epoch - 2ms/step\n",
            "Epoch 38/100\n",
            "50/50 - 0s - loss: 0.3730 - 91ms/epoch - 2ms/step\n",
            "Epoch 39/100\n",
            "50/50 - 0s - loss: 0.3727 - 86ms/epoch - 2ms/step\n",
            "Epoch 40/100\n",
            "50/50 - 0s - loss: 0.3718 - 86ms/epoch - 2ms/step\n",
            "Epoch 41/100\n",
            "50/50 - 0s - loss: 0.3720 - 79ms/epoch - 2ms/step\n",
            "Epoch 42/100\n",
            "50/50 - 0s - loss: 0.3721 - 87ms/epoch - 2ms/step\n",
            "Epoch 43/100\n",
            "50/50 - 0s - loss: 0.3699 - 86ms/epoch - 2ms/step\n",
            "Epoch 44/100\n",
            "50/50 - 0s - loss: 0.3739 - 86ms/epoch - 2ms/step\n",
            "Epoch 45/100\n",
            "50/50 - 0s - loss: 0.3680 - 81ms/epoch - 2ms/step\n",
            "Epoch 46/100\n",
            "50/50 - 0s - loss: 0.3715 - 96ms/epoch - 2ms/step\n",
            "Epoch 47/100\n",
            "50/50 - 0s - loss: 0.3705 - 90ms/epoch - 2ms/step\n",
            "Epoch 48/100\n",
            "50/50 - 0s - loss: 0.3675 - 84ms/epoch - 2ms/step\n",
            "Epoch 49/100\n",
            "50/50 - 0s - loss: 0.3658 - 85ms/epoch - 2ms/step\n",
            "Epoch 50/100\n",
            "50/50 - 0s - loss: 0.3683 - 81ms/epoch - 2ms/step\n",
            "Epoch 51/100\n",
            "50/50 - 0s - loss: 0.3690 - 87ms/epoch - 2ms/step\n",
            "Epoch 52/100\n",
            "50/50 - 0s - loss: 0.3691 - 86ms/epoch - 2ms/step\n",
            "Epoch 53/100\n",
            "50/50 - 0s - loss: 0.3675 - 83ms/epoch - 2ms/step\n",
            "Epoch 54/100\n",
            "50/50 - 0s - loss: 0.3676 - 91ms/epoch - 2ms/step\n",
            "Epoch 55/100\n",
            "50/50 - 0s - loss: 0.3668 - 90ms/epoch - 2ms/step\n",
            "Epoch 56/100\n",
            "50/50 - 0s - loss: 0.3672 - 84ms/epoch - 2ms/step\n",
            "Epoch 57/100\n",
            "50/50 - 0s - loss: 0.3672 - 94ms/epoch - 2ms/step\n",
            "Epoch 58/100\n",
            "50/50 - 0s - loss: 0.3666 - 81ms/epoch - 2ms/step\n",
            "Epoch 59/100\n",
            "50/50 - 0s - loss: 0.3682 - 79ms/epoch - 2ms/step\n",
            "Epoch 60/100\n",
            "50/50 - 0s - loss: 0.3660 - 93ms/epoch - 2ms/step\n",
            "Epoch 61/100\n",
            "50/50 - 0s - loss: 0.3665 - 78ms/epoch - 2ms/step\n",
            "Epoch 62/100\n",
            "50/50 - 0s - loss: 0.3647 - 80ms/epoch - 2ms/step\n",
            "Epoch 63/100\n",
            "50/50 - 0s - loss: 0.3643 - 79ms/epoch - 2ms/step\n",
            "Epoch 64/100\n",
            "50/50 - 0s - loss: 0.3647 - 84ms/epoch - 2ms/step\n",
            "Epoch 65/100\n",
            "50/50 - 0s - loss: 0.3663 - 82ms/epoch - 2ms/step\n",
            "Epoch 66/100\n",
            "50/50 - 0s - loss: 0.3647 - 85ms/epoch - 2ms/step\n",
            "Epoch 67/100\n",
            "50/50 - 0s - loss: 0.3643 - 84ms/epoch - 2ms/step\n",
            "Epoch 68/100\n",
            "50/50 - 0s - loss: 0.3628 - 83ms/epoch - 2ms/step\n",
            "Epoch 69/100\n",
            "50/50 - 0s - loss: 0.3642 - 106ms/epoch - 2ms/step\n",
            "Epoch 70/100\n",
            "50/50 - 0s - loss: 0.3647 - 94ms/epoch - 2ms/step\n",
            "Epoch 71/100\n",
            "50/50 - 0s - loss: 0.3603 - 138ms/epoch - 3ms/step\n",
            "Epoch 72/100\n",
            "50/50 - 0s - loss: 0.3632 - 141ms/epoch - 3ms/step\n",
            "Epoch 73/100\n",
            "50/50 - 0s - loss: 0.3624 - 145ms/epoch - 3ms/step\n",
            "Epoch 74/100\n",
            "50/50 - 0s - loss: 0.3624 - 152ms/epoch - 3ms/step\n",
            "Epoch 75/100\n",
            "50/50 - 0s - loss: 0.3608 - 123ms/epoch - 2ms/step\n",
            "Epoch 76/100\n",
            "50/50 - 0s - loss: 0.3616 - 132ms/epoch - 3ms/step\n",
            "Epoch 77/100\n",
            "50/50 - 0s - loss: 0.3628 - 124ms/epoch - 2ms/step\n",
            "Epoch 78/100\n",
            "50/50 - 0s - loss: 0.3625 - 123ms/epoch - 2ms/step\n",
            "Epoch 79/100\n",
            "50/50 - 0s - loss: 0.3608 - 119ms/epoch - 2ms/step\n",
            "Epoch 80/100\n",
            "50/50 - 0s - loss: 0.3580 - 131ms/epoch - 3ms/step\n",
            "Epoch 81/100\n",
            "50/50 - 0s - loss: 0.3607 - 142ms/epoch - 3ms/step\n",
            "Epoch 82/100\n",
            "50/50 - 0s - loss: 0.3588 - 150ms/epoch - 3ms/step\n",
            "Epoch 83/100\n",
            "50/50 - 0s - loss: 0.3593 - 130ms/epoch - 3ms/step\n",
            "Epoch 84/100\n",
            "50/50 - 0s - loss: 0.3607 - 133ms/epoch - 3ms/step\n",
            "Epoch 85/100\n",
            "50/50 - 0s - loss: 0.3590 - 123ms/epoch - 2ms/step\n",
            "Epoch 86/100\n",
            "50/50 - 0s - loss: 0.3607 - 120ms/epoch - 2ms/step\n",
            "Epoch 87/100\n",
            "50/50 - 0s - loss: 0.3576 - 130ms/epoch - 3ms/step\n",
            "Epoch 88/100\n",
            "50/50 - 0s - loss: 0.3570 - 109ms/epoch - 2ms/step\n",
            "Epoch 89/100\n",
            "50/50 - 0s - loss: 0.3572 - 129ms/epoch - 3ms/step\n",
            "Epoch 90/100\n",
            "50/50 - 0s - loss: 0.3572 - 91ms/epoch - 2ms/step\n",
            "Epoch 91/100\n",
            "50/50 - 0s - loss: 0.3580 - 83ms/epoch - 2ms/step\n",
            "Epoch 92/100\n",
            "50/50 - 0s - loss: 0.3586 - 97ms/epoch - 2ms/step\n",
            "Epoch 93/100\n",
            "50/50 - 0s - loss: 0.3578 - 82ms/epoch - 2ms/step\n",
            "Epoch 94/100\n",
            "50/50 - 0s - loss: 0.3554 - 85ms/epoch - 2ms/step\n",
            "Epoch 95/100\n",
            "50/50 - 0s - loss: 0.3578 - 82ms/epoch - 2ms/step\n",
            "Epoch 96/100\n",
            "50/50 - 0s - loss: 0.3567 - 87ms/epoch - 2ms/step\n",
            "Epoch 97/100\n",
            "50/50 - 0s - loss: 0.3561 - 79ms/epoch - 2ms/step\n",
            "Epoch 98/100\n",
            "50/50 - 0s - loss: 0.3501 - 83ms/epoch - 2ms/step\n",
            "Epoch 99/100\n",
            "50/50 - 0s - loss: 0.3548 - 84ms/epoch - 2ms/step\n",
            "Epoch 100/100\n",
            "50/50 - 0s - loss: 0.3565 - 82ms/epoch - 2ms/step\n",
            "25/25 [==============================] - 0s 2ms/step\n",
            "7/7 [==============================] - 0s 2ms/step\n"
          ]
        }
      ]
    },
    {
      "cell_type": "code",
      "source": [
        "predicted=np.concatenate((trainPredict,testPredict),axis=0)\n",
        "\n",
        "trainScore = model.evaluate(trainX, trainY, verbose=0)\n",
        "print(trainScore)"
      ],
      "metadata": {
        "colab": {
          "base_uri": "https://localhost:8080/"
        },
        "id": "dFJ-XilMpytJ",
        "outputId": "2247ae27-9243-4fc6-f4e3-94bd1e2d2cff"
      },
      "execution_count": 28,
      "outputs": [
        {
          "output_type": "stream",
          "name": "stdout",
          "text": [
            "0.35180771350860596\n"
          ]
        }
      ]
    },
    {
      "cell_type": "code",
      "source": [
        "index = df.index.values\n",
        "plt.plot(index,df)\n",
        "plt.plot(index,predicted)\n",
        "plt.axvline(df.index[Tp], c=\"r\")\n",
        "plt.show()"
      ],
      "metadata": {
        "colab": {
          "base_uri": "https://localhost:8080/",
          "height": 265
        },
        "id": "If7DL82Fp2fb",
        "outputId": "55c399fb-3f33-44e0-cc04-2bd77494e364"
      },
      "execution_count": 29,
      "outputs": [
        {
          "output_type": "display_data",
          "data": {
            "text/plain": [
              "<Figure size 432x288 with 1 Axes>"
            ],
            "image/png": "[encoded data removed]"
          },
          "metadata": {
            "needs_background": "light"
          }
        }
      ]
    },
    {
      "cell_type": "code",
      "source": [
        "import pandas as pd\n",
        "import tensorflow as tf\n",
        "\n",
        "\n",
        "inputs = pd.DataFrame(data={\"Week_no\": [1,2, 3, 4, 5, 6],\n",
        "                        \"Feature_1\": [1, 2, 3, 4, 5, 6],\n",
        "                        \"Feature_2\": [1, 2, 3, 4, 5, 6],\n",
        "                        \"Feature_3\": [1, 2, 3, 4, 5, 6],\n",
        "                        \"Feature_4\": [1, 2, 3, 4, 5, 6],\n",
        "                        \"Feature_5\": [1, 2, 3, 4, 5, 6],\n",
        "                        \"Target\": [1, 2, 3, 4, 5, 6]})\n",
        "\n",
        "n = len(inputs)\n",
        "\n",
        "train_df = inputs[0:int(n*0.7)].drop(columns = ['Target', 'Week_no'])\n",
        "train_ans = inputs[0:int(n*0.7)]['Target']\n",
        "\n",
        "test_df = inputs[int(n*0.7):].drop(columns = ['Target', 'Week_no'])\n",
        "test_ans = inputs[int(n*0.7):]['Target']\n",
        "\n",
        "model = tf.keras.models.Sequential([\n",
        "    tf.keras.layers.SimpleRNN(5, return_sequences=True, input_shape=[None, 1]),\n",
        "    tf.keras.layers.SimpleRNN(5, return_sequences=True),\n",
        "    tf.keras.layers.SimpleRNN(1)\n",
        "])\n",
        "model.compile(loss=\"mse\", optimizer=\"adam\")\n",
        "history = model.fit(train_df.to_numpy()[..., None], train_ans, epochs=20)"
      ],
      "metadata": {
        "colab": {
          "base_uri": "https://localhost:8080/"
        },
        "id": "y85Utj6mp38p",
        "outputId": "b27947e8-5b29-4065-e92a-eb001c31bb46"
      },
      "execution_count": 40,
      "outputs": [
        {
          "output_type": "stream",
          "name": "stdout",
          "text": [
            "Epoch 1/20\n",
            "1/1 [==============================] - 3s 3s/step - loss: 11.4178\n",
            "Epoch 2/20\n",
            "1/1 [==============================] - 0s 14ms/step - loss: 11.2933\n",
            "Epoch 3/20\n",
            "1/1 [==============================] - 0s 13ms/step - loss: 11.1617\n",
            "Epoch 4/20\n",
            "1/1 [==============================] - 0s 15ms/step - loss: 11.0224\n",
            "Epoch 5/20\n",
            "1/1 [==============================] - 0s 19ms/step - loss: 10.8751\n",
            "Epoch 6/20\n",
            "1/1 [==============================] - 0s 14ms/step - loss: 10.7198\n",
            "Epoch 7/20\n",
            "1/1 [==============================] - 0s 15ms/step - loss: 10.5574\n",
            "Epoch 8/20\n",
            "1/1 [==============================] - 0s 16ms/step - loss: 10.3886\n",
            "Epoch 9/20\n",
            "1/1 [==============================] - 0s 13ms/step - loss: 10.2145\n",
            "Epoch 10/20\n",
            "1/1 [==============================] - 0s 15ms/step - loss: 10.0357\n",
            "Epoch 11/20\n",
            "1/1 [==============================] - 0s 16ms/step - loss: 9.8523\n",
            "Epoch 12/20\n",
            "1/1 [==============================] - 0s 17ms/step - loss: 9.6636\n",
            "Epoch 13/20\n",
            "1/1 [==============================] - 0s 25ms/step - loss: 9.4683\n",
            "Epoch 14/20\n",
            "1/1 [==============================] - 0s 21ms/step - loss: 9.2645\n",
            "Epoch 15/20\n",
            "1/1 [==============================] - 0s 22ms/step - loss: 9.0509\n",
            "Epoch 16/20\n",
            "1/1 [==============================] - 0s 17ms/step - loss: 8.8263\n",
            "Epoch 17/20\n",
            "1/1 [==============================] - 0s 16ms/step - loss: 8.5908\n",
            "Epoch 18/20\n",
            "1/1 [==============================] - 0s 30ms/step - loss: 8.3454\n",
            "Epoch 19/20\n",
            "1/1 [==============================] - 0s 20ms/step - loss: 8.0923\n",
            "Epoch 20/20\n",
            "1/1 [==============================] - 0s 18ms/step - loss: 7.8339\n"
          ]
        }
      ]
    },
    {
      "cell_type": "code",
      "source": [
        "test_ans"
      ],
      "metadata": {
        "colab": {
          "base_uri": "https://localhost:8080/"
        },
        "id": "rysCFXZrqsaS",
        "outputId": "c2f4bca8-874c-4ddf-d8f9-13866a11595e"
      },
      "execution_count": 36,
      "outputs": [
        {
          "output_type": "execute_result",
          "data": {
            "text/plain": [
              "4    5\n",
              "5    6\n",
              "Name: Target, dtype: int64"
            ]
          },
          "metadata": {},
          "execution_count": 36
        }
      ]
    },
    {
      "cell_type": "code",
      "source": [
        "PredictX = model.predict(test_df)"
      ],
      "metadata": {
        "colab": {
          "base_uri": "https://localhost:8080/"
        },
        "id": "1Wrmw8e1qP5s",
        "outputId": "08097935-0488-434c-a803-2b4ec1b40a81"
      },
      "execution_count": 37,
      "outputs": [
        {
          "output_type": "stream",
          "name": "stdout",
          "text": [
            "1/1 [==============================] - 0s 25ms/step\n"
          ]
        }
      ]
    },
    {
      "cell_type": "code",
      "source": [
        "PredictX"
      ],
      "metadata": {
        "colab": {
          "base_uri": "https://localhost:8080/"
        },
        "id": "_TkadWsAqkaX",
        "outputId": "71566960-da0b-4286-9d9d-8cb64add1ae9"
      },
      "execution_count": 38,
      "outputs": [
        {
          "output_type": "execute_result",
          "data": {
            "text/plain": [
              "array([[-0.6273601],\n",
              "       [-0.7237637]], dtype=float32)"
            ]
          },
          "metadata": {},
          "execution_count": 38
        }
      ]
    },
    {
      "cell_type": "code",
      "source": [],
      "metadata": {
        "id": "wlVvDSmeqlw7"
      },
      "execution_count": null,
      "outputs": []
    }
  ]
}