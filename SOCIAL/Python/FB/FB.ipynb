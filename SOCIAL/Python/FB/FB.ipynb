{
  "nbformat": 4,
  "nbformat_minor": 0,
  "metadata": {
    "colab": {
      "provenance": []
    },
    "kernelspec": {
      "name": "python3",
      "display_name": "Python 3"
    },
    "language_info": {
      "name": "python"
    }
  },
  "cells": [
    {
      "cell_type": "code",
      "source": [
        "!pip install facebook-sdk "
      ],
      "metadata": {
        "colab": {
          "base_uri": "https://localhost:8080/"
        },
        "id": "eXyF5KJkoqss",
        "outputId": "a0bcafeb-b136-4443-d810-3353e02f0426"
      },
      "execution_count": 11,
      "outputs": [
        {
          "output_type": "stream",
          "name": "stdout",
          "text": [
            "Looking in indexes: https://pypi.org/simple, https://us-python.pkg.dev/colab-wheels/public/simple/\n",
            "Requirement already satisfied: facebook-sdk in /usr/local/lib/python3.8/dist-packages (3.1.0)\n",
            "Requirement already satisfied: requests in /usr/local/lib/python3.8/dist-packages (from facebook-sdk) (2.25.1)\n",
            "Requirement already satisfied: idna<3,>=2.5 in /usr/local/lib/python3.8/dist-packages (from requests->facebook-sdk) (2.10)\n",
            "Requirement already satisfied: chardet<5,>=3.0.2 in /usr/local/lib/python3.8/dist-packages (from requests->facebook-sdk) (4.0.0)\n",
            "Requirement already satisfied: certifi>=2017.4.17 in /usr/local/lib/python3.8/dist-packages (from requests->facebook-sdk) (2022.12.7)\n",
            "Requirement already satisfied: urllib3<1.27,>=1.21.1 in /usr/local/lib/python3.8/dist-packages (from requests->facebook-sdk) (1.26.14)\n"
          ]
        }
      ]
    },
    {
      "cell_type": "code",
      "source": [
        "#https://developers.facebook.com/tools/explorer/"
      ],
      "metadata": {
        "id": "ARdC9bz-lTGz"
      },
      "execution_count": null,
      "outputs": []
    },
    {
      "cell_type": "code",
      "source": [
        "import json\n",
        "import facebook\n",
        "\n",
        "def main():\n",
        "\ttoken = \"EAAHFxnpH8k4BAOwfpFfCpdtbOZC9dOmEMNs5XbUQwZBdqcqZCFKmHtH5gLBshDBp7hc7dyFu16K8ZCGC08w6f3dP1tWBvOWNFORnElbm3WRq7QJymHA1zXB3OCZASlr2ZAgak5pZA6FK8EnckyTAiyu4SXubUnlcAvhRDOIuzNzC6ZANU3E7reTWHPu8wKCgpTPGVQzGXdDHxtyk5HwWD27xHmhClUV3ZCdKGfXFLpM3Ubz9xkZAEbN0QpZB5riI0rj5LAZD\"\n",
        "\tgraph = facebook.GraphAPI(token)\n",
        "\tprofile = graph.get_object('me', fields ='first_name, gender, birthday, email')\n",
        "\t\n",
        "\t# return desired fields\n",
        "\tprint(json.dumps(profile, indent = 4))\n",
        "\n",
        "if __name__ == '__main__':\n",
        "\tmain()\n"
      ],
      "metadata": {
        "colab": {
          "base_uri": "https://localhost:8080/"
        },
        "id": "hqjxCDFFpb1t",
        "outputId": "07ff5519-69ec-460f-c4b3-f8e44352d5be"
      },
      "execution_count": 12,
      "outputs": [
        {
          "output_type": "stream",
          "name": "stdout",
          "text": [
            "{\n",
            "    \"first_name\": \"Sarin\",\n",
            "    \"id\": \"100346386337207\"\n",
            "}\n"
          ]
        }
      ]
    },
    {
      "cell_type": "code",
      "source": [
        "token = \"EAAHFxnpH8k4BAD5p11SxdOMwtdaadzQUR0e5V7KfDk45LZAnPZConR6MLGIuTVRAgS3BpRWTbtZCaUu4xkdSe996qObzmrO4TsA0OZA3sSZA80QeZArJUtPsuvNxVka9UgiUJnz1DiVFL5z8C8irg83YTpKTZApyOFcctmw7gNWQe6ZAbPU9mg55DrM9L0ZC1OzFKfLUfLvS7LnrMskcn86EtugaDdQlPt7LeCSp4cQDGDYABhi3GEdJBSYBZCmFeXD4kZD\"\n",
        "graph = facebook.GraphAPI(access_token=token, version = 2.8)"
      ],
      "metadata": {
        "id": "7Y4RH6JSpyPF"
      },
      "execution_count": 15,
      "outputs": []
    },
    {
      "cell_type": "code",
      "source": [
        "post = graph.get_object(id='100090855360247')\n",
        "post"
      ],
      "metadata": {
        "id": "Cs5-46PfqFKG",
        "colab": {
          "base_uri": "https://localhost:8080/"
        },
        "outputId": "b55fe3fe-7e3b-4242-fd54-dc122c44a983"
      },
      "execution_count": 16,
      "outputs": [
        {
          "output_type": "execute_result",
          "data": {
            "text/plain": [
              "{'name': 'Sarin CR', 'id': '100090855360247'}"
            ]
          },
          "metadata": {},
          "execution_count": 16
        }
      ]
    },
    {
      "cell_type": "code",
      "source": [
        "profile = graph.get_object(\"me\")\n",
        "profile"
      ],
      "metadata": {
        "id": "QJKP6U1ArS5T",
        "colab": {
          "base_uri": "https://localhost:8080/"
        },
        "outputId": "97dbd18c-c3bf-4f54-aa72-2e0fa06e435c"
      },
      "execution_count": 17,
      "outputs": [
        {
          "output_type": "execute_result",
          "data": {
            "text/plain": [
              "{'name': 'Sarin CR', 'id': '100346386337207'}"
            ]
          },
          "metadata": {},
          "execution_count": 17
        }
      ]
    },
    {
      "cell_type": "code",
      "source": [
        "friends = graph.get_connections(\"me\", \"friends\")\n",
        "friends "
      ],
      "metadata": {
        "id": "sMSNzjrptwHB",
        "colab": {
          "base_uri": "https://localhost:8080/"
        },
        "outputId": "43716f4f-c0ab-4b17-f7cb-14c0dd777f6b"
      },
      "execution_count": 18,
      "outputs": [
        {
          "output_type": "execute_result",
          "data": {
            "text/plain": [
              "{'data': []}"
            ]
          },
          "metadata": {},
          "execution_count": 18
        }
      ]
    },
    {
      "cell_type": "code",
      "source": [],
      "metadata": {
        "id": "v2npTFpGw2Ks"
      },
      "execution_count": 10,
      "outputs": []
    }
  ]
}