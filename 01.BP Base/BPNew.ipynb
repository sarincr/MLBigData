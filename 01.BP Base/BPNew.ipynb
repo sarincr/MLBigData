{
  "cells": [
    {
      "cell_type": "code",
      "source": [
        "# Import Libraries\n",
        "import numpy as np\n",
        "import pandas as pd\n",
        "from sklearn.datasets import load_iris\n",
        "from sklearn.model_selection import train_test_split\n",
        "import matplotlib.pyplot as plt"
      ],
      "metadata": {
        "id": "8KxxOjbzzoCj"
      },
      "execution_count": null,
      "outputs": []
    },
    {
      "cell_type": "markdown",
      "source": [
        "X=np.array([[5.1, 3.5, 1.4, 0.2],\n",
        "       [4.9, 3. , 1.4, 0.2],\n",
        "       [4.7, 3.2, 1.3, 0.2],\n",
        "       [4.6, 3.1, 1.5, 0.2],\n",
        "       [5. , 3.6, 1.4, 0.2],\n",
        "       [5.4, 3.9, 1.7, 0.4],\n",
        "       [4.6, 3.4, 1.4, 0.3],\n",
        "       [5. , 3.4, 1.5, 0.2],\n",
        "       [4.4, 2.9, 1.4, 0.2],\n",
        "       [4.9, 3.1, 1.5, 0.1],\n",
        "       [5.4, 3.7, 1.5, 0.2],\n",
        "       [4.8, 3.4, 1.6, 0.2],\n",
        "       [4.8, 3. , 1.4, 0.1],\n",
        "       [4.3, 3. , 1.1, 0.1],\n",
        "       [5.8, 4. , 1.2, 0.2],\n",
        "       [5.7, 4.4, 1.5, 0.4],\n",
        "       [5.4, 3.9, 1.3, 0.4],\n",
        "       [5.1, 3.5, 1.4, 0.3],\n",
        "       [5.7, 3.8, 1.7, 0.3],\n",
        "       [5.1, 3.8, 1.5, 0.3],\n",
        "       [5.4, 3.4, 1.7, 0.2],\n",
        "       [5.1, 3.7, 1.5, 0.4],\n",
        "       [4.6, 3.6, 1. , 0.2],\n",
        "       [5.1, 3.3, 1.7, 0.5],\n",
        "       [4.8, 3.4, 1.9, 0.2],\n",
        "       [5. , 3. , 1.6, 0.2],\n",
        "       [5. , 3.4, 1.6, 0.4],\n",
        "       [5.2, 3.5, 1.5, 0.2],\n",
        "       [5.2, 3.4, 1.4, 0.2],\n",
        "       [4.7, 3.2, 1.6, 0.2],\n",
        "       [4.8, 3.1, 1.6, 0.2],\n",
        "       [5.4, 3.4, 1.5, 0.4],\n",
        "       [5.2, 4.1, 1.5, 0.1],\n",
        "       [5.5, 4.2, 1.4, 0.2],\n",
        "       [4.9, 3.1, 1.5, 0.2],\n",
        "       [5. , 3.2, 1.2, 0.2],\n",
        "       [5.5, 3.5, 1.3, 0.2],\n",
        "       [4.9, 3.6, 1.4, 0.1],\n",
        "       [4.4, 3. , 1.3, 0.2],\n",
        "       [5.1, 3.4, 1.5, 0.2],\n",
        "       [5. , 3.5, 1.3, 0.3],\n",
        "       [4.5, 2.3, 1.3, 0.3],\n",
        "       [4.4, 3.2, 1.3, 0.2],\n",
        "       [5. , 3.5, 1.6, 0.6],\n",
        "       [5.1, 3.8, 1.9, 0.4],\n",
        "       [4.8, 3. , 1.4, 0.3],\n",
        "       [5.1, 3.8, 1.6, 0.2],\n",
        "       [4.6, 3.2, 1.4, 0.2],\n",
        "       [5.3, 3.7, 1.5, 0.2],\n",
        "       [5. , 3.3, 1.4, 0.2],\n",
        "       [7. , 3.2, 4.7, 1.4],\n",
        "       [6.4, 3.2, 4.5, 1.5],\n",
        "       [6.9, 3.1, 4.9, 1.5],\n",
        "       [5.5, 2.3, 4. , 1.3],\n",
        "       [6.5, 2.8, 4.6, 1.5],\n",
        "       [5.7, 2.8, 4.5, 1.3],\n",
        "       [6.3, 3.3, 4.7, 1.6],\n",
        "       [4.9, 2.4, 3.3, 1. ],\n",
        "       [6.6, 2.9, 4.6, 1.3],\n",
        "       [5.2, 2.7, 3.9, 1.4],\n",
        "       [5. , 2. , 3.5, 1. ],\n",
        "       [5.9, 3. , 4.2, 1.5],\n",
        "       [6. , 2.2, 4. , 1. ],\n",
        "       [6.1, 2.9, 4.7, 1.4],\n",
        "       [5.6, 2.9, 3.6, 1.3],\n",
        "       [6.7, 3.1, 4.4, 1.4],\n",
        "       [5.6, 3. , 4.5, 1.5],\n",
        "       [5.8, 2.7, 4.1, 1. ],\n",
        "       [6.2, 2.2, 4.5, 1.5],\n",
        "       [5.6, 2.5, 3.9, 1.1],\n",
        "       [5.9, 3.2, 4.8, 1.8],\n",
        "       [6.1, 2.8, 4. , 1.3],\n",
        "       [6.3, 2.5, 4.9, 1.5],\n",
        "       [6.1, 2.8, 4.7, 1.2],\n",
        "       [6.4, 2.9, 4.3, 1.3],\n",
        "       [6.6, 3. , 4.4, 1.4],\n",
        "       [6.8, 2.8, 4.8, 1.4],\n",
        "       [6.7, 3. , 5. , 1.7],\n",
        "       [6. , 2.9, 4.5, 1.5],\n",
        "       [5.7, 2.6, 3.5, 1. ],\n",
        "       [5.5, 2.4, 3.8, 1.1],\n",
        "       [5.5, 2.4, 3.7, 1. ],\n",
        "       [5.8, 2.7, 3.9, 1.2],\n",
        "       [6. , 2.7, 5.1, 1.6],\n",
        "       [5.4, 3. , 4.5, 1.5],\n",
        "       [6. , 3.4, 4.5, 1.6],\n",
        "       [6.7, 3.1, 4.7, 1.5],\n",
        "       [6.3, 2.3, 4.4, 1.3],\n",
        "       [5.6, 3. , 4.1, 1.3],\n",
        "       [5.5, 2.5, 4. , 1.3],\n",
        "       [5.5, 2.6, 4.4, 1.2],\n",
        "       [6.1, 3. , 4.6, 1.4],\n",
        "       [5.8, 2.6, 4. , 1.2],\n",
        "       [5. , 2.3, 3.3, 1. ],\n",
        "       [5.6, 2.7, 4.2, 1.3],\n",
        "       [5.7, 3. , 4.2, 1.2],\n",
        "       [5.7, 2.9, 4.2, 1.3],\n",
        "       [6.2, 2.9, 4.3, 1.3],\n",
        "       [5.1, 2.5, 3. , 1.1],\n",
        "       [5.7, 2.8, 4.1, 1.3],\n",
        "       [6.3, 3.3, 6. , 2.5],\n",
        "       [5.8, 2.7, 5.1, 1.9],\n",
        "       [7.1, 3. , 5.9, 2.1],\n",
        "       [6.3, 2.9, 5.6, 1.8],\n",
        "       [6.5, 3. , 5.8, 2.2],\n",
        "       [7.6, 3. , 6.6, 2.1],\n",
        "       [4.9, 2.5, 4.5, 1.7],\n",
        "       [7.3, 2.9, 6.3, 1.8],\n",
        "       [6.7, 2.5, 5.8, 1.8],\n",
        "       [7.2, 3.6, 6.1, 2.5],\n",
        "       [6.5, 3.2, 5.1, 2. ],\n",
        "       [6.4, 2.7, 5.3, 1.9],\n",
        "       [6.8, 3. , 5.5, 2.1],\n",
        "       [5.7, 2.5, 5. , 2. ],\n",
        "       [5.8, 2.8, 5.1, 2.4],\n",
        "       [6.4, 3.2, 5.3, 2.3],\n",
        "       [6.5, 3. , 5.5, 1.8],\n",
        "       [7.7, 3.8, 6.7, 2.2],\n",
        "       [7.7, 2.6, 6.9, 2.3],\n",
        "       [6. , 2.2, 5. , 1.5],\n",
        "       [6.9, 3.2, 5.7, 2.3],\n",
        "       [5.6, 2.8, 4.9, 2. ],\n",
        "       [7.7, 2.8, 6.7, 2. ],\n",
        "       [6.3, 2.7, 4.9, 1.8],\n",
        "       [6.7, 3.3, 5.7, 2.1],\n",
        "       [7.2, 3.2, 6. , 1.8],\n",
        "       [6.2, 2.8, 4.8, 1.8],\n",
        "       [6.1, 3. , 4.9, 1.8],\n",
        "       [6.4, 2.8, 5.6, 2.1],\n",
        "       [7.2, 3. , 5.8, 1.6],\n",
        "       [7.4, 2.8, 6.1, 1.9],\n",
        "       [7.9, 3.8, 6.4, 2. ],\n",
        "       [6.4, 2.8, 5.6, 2.2],\n",
        "       [6.3, 2.8, 5.1, 1.5],\n",
        "       [6.1, 2.6, 5.6, 1.4],\n",
        "       [7.7, 3. , 6.1, 2.3],\n",
        "       [6.3, 3.4, 5.6, 2.4],\n",
        "       [6.4, 3.1, 5.5, 1.8],\n",
        "       [6. , 3. , 4.8, 1.8],\n",
        "       [6.9, 3.1, 5.4, 2.1],\n",
        "       [6.7, 3.1, 5.6, 2.4],\n",
        "       [6.9, 3.1, 5.1, 2.3],\n",
        "       [5.8, 2.7, 5.1, 1.9],\n",
        "       [6.8, 3.2, 5.9, 2.3],\n",
        "       [6.7, 3.3, 5.7, 2.5],\n",
        "       [6.7, 3. , 5.2, 2.3],\n",
        "       [6.3, 2.5, 5. , 1.9],\n",
        "       [6.5, 3. , 5.2, 2. ],\n",
        "       [6.2, 3.4, 5.4, 2.3],\n",
        "       [5.9, 3. , 5.1, 1.8]])"
      ],
      "metadata": {
        "id": "LDibQm3sIUEV"
      }
    },
    {
      "cell_type": "markdown",
      "source": [
        "\n",
        "\n",
        "y=np.array([[1, 0, 0],\n",
        "       [1, 0, 0],\n",
        "       [1, 0, 0],\n",
        "       [1, 0, 0],\n",
        "       [1, 0, 0],\n",
        "       [1, 0, 0],\n",
        "       [1, 0, 0],\n",
        "       [1, 0, 0],\n",
        "       [1, 0, 0],\n",
        "       [1, 0, 0],\n",
        "       [1, 0, 0],\n",
        "       [1, 0, 0],\n",
        "       [1, 0, 0],\n",
        "       [1, 0, 0],\n",
        "       [1, 0, 0],\n",
        "       [1, 0, 0],\n",
        "       [1, 0, 0],\n",
        "       [1, 0, 0],\n",
        "       [1, 0, 0],\n",
        "       [1, 0, 0],\n",
        "       [1, 0, 0],\n",
        "       [1, 0, 0],\n",
        "       [1, 0, 0],\n",
        "       [1, 0, 0],\n",
        "       [1, 0, 0],\n",
        "       [1, 0, 0],\n",
        "       [1, 0, 0],\n",
        "       [1, 0, 0],\n",
        "       [1, 0, 0],\n",
        "       [1, 0, 0],\n",
        "       [1, 0, 0],\n",
        "       [1, 0, 0],\n",
        "       [1, 0, 0],\n",
        "       [1, 0, 0],\n",
        "       [1, 0, 0],\n",
        "       [1, 0, 0],\n",
        "       [1, 0, 0],\n",
        "       [1, 0, 0],\n",
        "       [1, 0, 0],\n",
        "       [1, 0, 0],\n",
        "       [1, 0, 0],\n",
        "       [1, 0, 0],\n",
        "       [1, 0, 0],\n",
        "       [1, 0, 0],\n",
        "       [1, 0, 0],\n",
        "       [1, 0, 0],\n",
        "       [1, 0, 0],\n",
        "       [1, 0, 0],\n",
        "       [1, 0, 0],\n",
        "       [1, 0, 0],\n",
        "       [0, 1, 0],\n",
        "       [0, 1, 0],\n",
        "       [0, 1, 0],\n",
        "       [0, 1, 0],\n",
        "       [0, 1, 0],\n",
        "       [0, 1, 0],\n",
        "       [0, 1, 0],\n",
        "       [0, 1, 0],\n",
        "       [0, 1, 0],\n",
        "       [0, 1, 0],\n",
        "       [0, 1, 0],\n",
        "       [0, 1, 0],\n",
        "       [0, 1, 0],\n",
        "       [0, 1, 0],\n",
        "       [0, 1, 0],\n",
        "       [0, 1, 0],\n",
        "       [0, 1, 0],\n",
        "       [0, 1, 0],\n",
        "       [0, 1, 0],\n",
        "       [0, 1, 0],\n",
        "       [0, 1, 0],\n",
        "       [0, 1, 0],\n",
        "       [0, 1, 0],\n",
        "       [0, 1, 0],\n",
        "       [0, 1, 0],\n",
        "       [0, 1, 0],\n",
        "       [0, 1, 0],\n",
        "       [0, 1, 0],\n",
        "       [0, 1, 0],\n",
        "       [0, 1, 0],\n",
        "       [0, 1, 0],\n",
        "       [0, 1, 0],\n",
        "       [0, 1, 0],\n",
        "       [0, 1, 0],\n",
        "       [0, 1, 0],\n",
        "       [0, 1, 0],\n",
        "       [0, 1, 0],\n",
        "       [0, 1, 0],\n",
        "       [0, 1, 0],\n",
        "       [0, 1, 0],\n",
        "       [0, 1, 0],\n",
        "       [0, 1, 0],\n",
        "       [0, 1, 0],\n",
        "       [0, 1, 0],\n",
        "       [0, 1, 0],\n",
        "       [0, 1, 0],\n",
        "       [0, 1, 0],\n",
        "       [0, 1, 0],\n",
        "       [0, 1, 0],\n",
        "       [0, 1, 0],\n",
        "       [0, 0, 1],\n",
        "       [0, 0, 1],\n",
        "       [0, 0, 1],\n",
        "       [0, 0, 1],\n",
        "       [0, 0, 1],\n",
        "       [0, 0, 1],\n",
        "       [0, 0, 1],\n",
        "       [0, 0, 1],\n",
        "       [0, 0, 1],\n",
        "       [0, 0, 1],\n",
        "       [0, 0, 1],\n",
        "       [0, 0, 1],\n",
        "       [0, 0, 1],\n",
        "       [0, 0, 1],\n",
        "       [0, 0, 1],\n",
        "       [0, 0, 1],\n",
        "       [0, 0, 1],\n",
        "       [0, 0, 1],\n",
        "       [0, 0, 1],\n",
        "       [0, 0, 1],\n",
        "       [0, 0, 1],\n",
        "       [0, 0, 1],\n",
        "       [0, 0, 1],\n",
        "       [0, 0, 1],\n",
        "       [0, 0, 1],\n",
        "       [0, 0, 1],\n",
        "       [0, 0, 1],\n",
        "       [0, 0, 1],\n",
        "       [0, 0, 1],\n",
        "       [0, 0, 1],\n",
        "       [0, 0, 1],\n",
        "       [0, 0, 1],\n",
        "       [0, 0, 1],\n",
        "       [0, 0, 1],\n",
        "       [0, 0, 1],\n",
        "       [0, 0, 1],\n",
        "       [0, 0, 1],\n",
        "       [0, 0, 1],\n",
        "       [0, 0, 1],\n",
        "       [0, 0, 1],\n",
        "       [0, 0, 1],\n",
        "       [0, 0, 1],\n",
        "       [0, 0, 1],\n",
        "       [0, 0, 1],\n",
        "       [0, 0, 1],\n",
        "       [0, 0, 1],\n",
        "       [0, 0, 1],\n",
        "       [0, 0, 1],\n",
        "       [0, 0, 1],\n",
        "       [0, 0, 1]])"
      ],
      "metadata": {
        "id": "kKgEdXUbIa7E"
      }
    },
    {
      "cell_type": "code",
      "source": [
        "X=np.array([[5.1, 3.5, 1.4, 0.2],\n",
        "       [4.9, 3. , 1.4, 0.2],\n",
        "       [4.7, 3.2, 1.3, 0.2],\n",
        "       [4.6, 3.1, 1.5, 0.2],\n",
        "       [5. , 3.6, 1.4, 0.2],\n",
        "       [5.4, 3.9, 1.7, 0.4],\n",
        "       [4.6, 3.4, 1.4, 0.3],\n",
        "       [5. , 3.4, 1.5, 0.2],\n",
        "       [4.4, 2.9, 1.4, 0.2]\n",
        "   ])\n",
        "y=np.array([[0, 0, 1],\n",
        "       [0, 0, 1],\n",
        "       [0, 0, 1],\n",
        "       [0, 0, 1],\n",
        "       [0, 0, 1],\n",
        "       [0, 0, 1],\n",
        "       [0, 0, 1],\n",
        "       [0, 0, 1],\n",
        "       [0, 0, 1]\n",
        "])"
      ],
      "metadata": {
        "id": "WX3PAw1L3Wvp"
      },
      "execution_count": null,
      "outputs": []
    },
    {
      "cell_type": "markdown",
      "source": [
        "![image.png](data:image/png;base64,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)"
      ],
      "metadata": {
        "id": "fc-stQrCMU9_"
      }
    },
    {
      "cell_type": "code",
      "source": [
        "# Initialize variables\n",
        "learning_rate = 0.1\n",
        "iterations = 5000\n",
        "N = y.size\n",
        "\n",
        "# number of input features\n",
        "input_size = 4\n",
        "\n",
        "# number of hidden layers neurons\n",
        "hidden_size = 2 \n",
        "\n",
        "# number of neurons at the output layer\n",
        "output_size = 3  \n",
        "\n",
        "results = pd.DataFrame(columns=[\"mse\", \"accuracy\"])"
      ],
      "metadata": {
        "id": "2E2sMqGC291_"
      },
      "execution_count": null,
      "outputs": []
    },
    {
      "cell_type": "code",
      "source": [
        "# initializing weight for the hidden layer\n",
        "W1 = np.array(([[-0.36772361, -0.60568117],\n",
        "       [ 0.03006343, -0.37975563],\n",
        "       [ 1.20967769,  0.15982541],\n",
        "       [ 0.30467982, -0.91647593]]))\n",
        "# initializing weight for the output layer\n",
        "W2 = np.array([[-0.11305655, -0.40613628,  0.19968829],\n",
        "       [ 0.23021465,  0.3866166 , -0.20749574]])"
      ],
      "metadata": {
        "id": "u3LXSJet3B61"
      },
      "execution_count": null,
      "outputs": []
    },
    {
      "cell_type": "code",
      "source": [
        "def sigmoid(x):\n",
        "    return 1 / (1 + np.exp(-x))\n",
        "\n",
        "def mean_squared_error(y_pred, y_true):\n",
        "    return ((y_pred - y_true)**2).sum() / (2*y_pred.size)"
      ],
      "metadata": {
        "id": "l67iqzus3EDQ"
      },
      "execution_count": null,
      "outputs": []
    },
    {
      "cell_type": "code",
      "source": [
        "for itr in range(iterations):    \n",
        "    \n",
        "    # feedforward propagation\n",
        "    # on hidden layer\n",
        "    Z1 = np.dot(X, W1)\n",
        "    A1 = sigmoid(Z1)\n",
        "    \n",
        "    # on output layer\n",
        "    Z2 = np.dot(A1, W2)\n",
        "    A2 = sigmoid(Z2)\n",
        "    \n",
        "    # backpropagation\n",
        "    E1 = A2 - y\n",
        "    dW2 = E1 * A2 * (1 - A2)\n",
        "    W2_update = np.dot(A1.T, dW2)\n",
        "\n",
        "    E2 = np.dot(dW2, W2.T)\n",
        "    dW1 = E2 * A1 * (1 - A1) \n",
        "    W1_update = np.dot(X.T, dW1)\n",
        "\n",
        "    W2 = W2 - learning_rate * W2_update\n",
        "    W1 = W1 - learning_rate * W1_update"
      ],
      "metadata": {
        "id": "_020Lpa63Fep"
      },
      "execution_count": null,
      "outputs": []
    },
    {
      "cell_type": "code",
      "source": [
        "# feedforward\n",
        "Z1 = np.dot(X, W1)\n",
        "A1 = sigmoid(Z1)\n",
        "\n",
        "Z2 = np.dot(A1, W2)\n",
        "A2 = sigmoid(Z2)"
      ],
      "metadata": {
        "id": "UI5N5VRD3HIK"
      },
      "execution_count": null,
      "outputs": []
    },
    {
      "cell_type": "code",
      "source": [
        "A2"
      ],
      "metadata": {
        "colab": {
          "base_uri": "https://localhost:8080/"
        },
        "id": "4sZEXbmx4A4p",
        "outputId": "511afba3-9645-4c46-d3b7-7cd52e0f70b0"
      },
      "execution_count": null,
      "outputs": [
        {
          "output_type": "execute_result",
          "data": {
            "text/plain": [
              "array([[0.01075851, 0.0107516 , 0.98924206],\n",
              "       [0.01078128, 0.01077765, 0.98921974],\n",
              "       [0.010789  , 0.01078583, 0.98921207],\n",
              "       [0.01078125, 0.01077975, 0.98922005],\n",
              "       [0.01075837, 0.01075165, 0.98924222],\n",
              "       [0.01073404, 0.01072414, 0.98926611],\n",
              "       [0.01077399, 0.01076979, 0.98922694],\n",
              "       [0.01075876, 0.01075285, 0.98924194],\n",
              "       [0.01080923, 0.01081097, 0.98919251]])"
            ]
          },
          "metadata": {},
          "execution_count": 8
        }
      ]
    },
    {
      "cell_type": "code",
      "source": [
        "y"
      ],
      "metadata": {
        "colab": {
          "base_uri": "https://localhost:8080/"
        },
        "id": "b1ndiLLG4-uE",
        "outputId": "44889b09-9b83-4990-e4c7-bd807430b0b7"
      },
      "execution_count": null,
      "outputs": [
        {
          "output_type": "execute_result",
          "data": {
            "text/plain": [
              "array([[0, 0, 1],\n",
              "       [0, 0, 1],\n",
              "       [0, 0, 1],\n",
              "       [0, 0, 1],\n",
              "       [0, 0, 1],\n",
              "       [0, 0, 1],\n",
              "       [0, 0, 1],\n",
              "       [0, 0, 1],\n",
              "       [0, 0, 1]])"
            ]
          },
          "metadata": {},
          "execution_count": 9
        }
      ]
    },
    {
      "cell_type": "code",
      "source": [
        "np.round(A2)"
      ],
      "metadata": {
        "id": "lUVBCeQO5EI3",
        "colab": {
          "base_uri": "https://localhost:8080/"
        },
        "outputId": "91a7c5ad-8a48-4570-8123-db7d13a7769b"
      },
      "execution_count": null,
      "outputs": [
        {
          "output_type": "execute_result",
          "data": {
            "text/plain": [
              "array([[0., 0., 1.],\n",
              "       [0., 0., 1.],\n",
              "       [0., 0., 1.],\n",
              "       [0., 0., 1.],\n",
              "       [0., 0., 1.],\n",
              "       [0., 0., 1.],\n",
              "       [0., 0., 1.],\n",
              "       [0., 0., 1.],\n",
              "       [0., 0., 1.]])"
            ]
          },
          "metadata": {},
          "execution_count": 10
        }
      ]
    },
    {
      "cell_type": "code",
      "source": [],
      "metadata": {
        "id": "1jzNJayxI5Nr"
      },
      "execution_count": null,
      "outputs": []
    }
  ],
  "metadata": {
    "colab": {
      "provenance": []
    },
    "kernelspec": {
      "display_name": "Python 3",
      "name": "python3"
    },
    "language_info": {
      "name": "python"
    }
  },
  "nbformat": 4,
  "nbformat_minor": 0
}