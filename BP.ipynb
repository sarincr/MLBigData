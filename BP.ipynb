{
  "cells": [
    {
      "cell_type": "code",
      "execution_count": 1,
      "metadata": {
        "id": "Q4Hp8j4KZFdj"
      },
      "outputs": [],
      "source": [
        "inputs = [1.2, 5.1, 2.1]\n",
        "weights = [3.1, 2.1, 8.7]\n",
        "bias = 3.0"
      ]
    },
    {
      "cell_type": "code",
      "execution_count": 2,
      "metadata": {
        "id": "QszRJIQ0aogI"
      },
      "outputs": [],
      "source": [
        "output = inputs[0]*weights[0] + inputs[1]*weights[1] + inputs[2]*weights[2] + bias"
      ]
    },
    {
      "cell_type": "code",
      "execution_count": 3,
      "metadata": {
        "colab": {
          "base_uri": "https://localhost:8080/"
        },
        "id": "XsOvlBK4apdU",
        "outputId": "ce02faec-b115-4c64-cd90-6105f616fc8d"
      },
      "outputs": [
        {
          "output_type": "stream",
          "name": "stdout",
          "text": [
            "35.7\n"
          ]
        }
      ],
      "source": [
        "print(output)"
      ]
    },
    {
      "cell_type": "code",
      "source": [
        "X = [0,0,1,1]\n",
        "Y = [0,1,0,1]\n",
        "W = [1,1]\n",
        "bias = -1\n",
        "Out1=X[0]*W[0]+ Y[0]*W[1]+ bias\n",
        "if Out1>0:\n",
        "    print(1)\n",
        "else:\n",
        "    print(0)\n",
        "Out2=X[1]*W[0]+ Y[1]*W[1]+ bias\n",
        "if Out2>0:\n",
        "    print(1)\n",
        "else:\n",
        "    print(0)\n",
        "Out3=X[2]*W[0]+ Y[2]*W[1]+ bias\n",
        "if Out3>0:\n",
        "    print(1)\n",
        "else:\n",
        "    print(0)\n",
        "Out4=X[3]*W[0]+ Y[3]*W[1]+ bias\n",
        "if Out4>0:\n",
        "    print(1)\n",
        "else:\n",
        "    print(0)"
      ],
      "metadata": {
        "colab": {
          "base_uri": "https://localhost:8080/"
        },
        "id": "WzxQx7L2PqhX",
        "outputId": "4f07cce8-8b44-4231-cb0e-1b59dfda1c7d"
      },
      "execution_count": 4,
      "outputs": [
        {
          "output_type": "stream",
          "name": "stdout",
          "text": [
            "0\n",
            "0\n",
            "0\n",
            "1\n"
          ]
        }
      ]
    },
    {
      "cell_type": "code",
      "execution_count": 5,
      "metadata": {
        "id": "ktee10TJap2-"
      },
      "outputs": [],
      "source": [
        "inputs = [1.0, 2.0, 3.0, 2.5]\n",
        "\n",
        "weights1 = [0.2, 0.8, -0.5, 1.0]\n",
        "weights2 = [0.5, -0.91, 0.26, -0.5]\n",
        "weights3 = [-0.26, -0.27, 0.17, 0.87]\n",
        "\n",
        "bias1 = 2.0\n",
        "bias2 = 3.0\n",
        "bias3 = 0.5"
      ]
    },
    {
      "cell_type": "code",
      "execution_count": 6,
      "metadata": {
        "colab": {
          "base_uri": "https://localhost:8080/"
        },
        "id": "9il9BEAPavMy",
        "outputId": "0db53305-4759-454f-b2d7-61a7e502c920"
      },
      "outputs": [
        {
          "output_type": "stream",
          "name": "stdout",
          "text": [
            "[4.8, 1.21, 2.385]\n"
          ]
        }
      ],
      "source": [
        "output = [inputs[0]*weights1[0] + inputs[1]*weights1[1] + inputs[2]*weights1[2] + inputs[3]*weights1[3] + bias1,\n",
        "          inputs[0]*weights2[0] + inputs[1]*weights2[1] + inputs[2]*weights2[2] + inputs[3]*weights2[3] + bias2,\n",
        "          inputs[0]*weights3[0] + inputs[1]*weights3[1] + inputs[2]*weights3[2] + inputs[3]*weights3[3] + bias3]\n",
        "print(output)"
      ]
    },
    {
      "cell_type": "code",
      "execution_count": 7,
      "metadata": {
        "id": "8OHRlTyQawud"
      },
      "outputs": [],
      "source": [
        "import numpy as np \n",
        "\n",
        "inputs = [1.0, 2.0, 3.0, 2.5]\n",
        "weights = [[0.2, 0.8, -0.5, 1.0],\n",
        "           [0.5, -0.91, 0.26, -0.5],\n",
        "           [-0.26, -0.27, 0.17, 0.87]]\n",
        "\n",
        "biases = [2.0, 3.0, 0.5]"
      ]
    },
    {
      "cell_type": "code",
      "execution_count": 8,
      "metadata": {
        "colab": {
          "base_uri": "https://localhost:8080/"
        },
        "id": "fMrYI-CRa3kU",
        "outputId": "069c2f83-a152-44b0-b966-87692d4896f2"
      },
      "outputs": [
        {
          "output_type": "stream",
          "name": "stdout",
          "text": [
            "[4.8   1.21  2.385]\n"
          ]
        }
      ],
      "source": [
        "output = np.dot(weights, inputs) + biases\n",
        "print(output)"
      ]
    },
    {
      "cell_type": "code",
      "execution_count": 9,
      "metadata": {
        "colab": {
          "base_uri": "https://localhost:8080/"
        },
        "id": "obCPyDyNcekG",
        "outputId": "29434698-1af6-42ad-f888-7eda8f7f760a"
      },
      "outputs": [
        {
          "output_type": "stream",
          "name": "stdout",
          "text": [
            "0.35667494393873245\n",
            "0.35667494393873245\n",
            "0.6931471805599453\n"
          ]
        }
      ],
      "source": [
        "import math\n",
        "\n",
        "X = [0.7, 0.1, 0.2]\n",
        "target_output = [1, 0, 0]\n",
        "\n",
        "loss = -(math.log(X[0]) * target_output[0] +\n",
        "         math.log(X[1]) * target_output[1] +\n",
        "         math.log(X[2]) * target_output[2])\n",
        "\n",
        "print(loss)\n",
        "\n",
        "print(-math.log(0.7))\n",
        "print(-math.log(0.5))"
      ]
    },
    {
      "cell_type": "code",
      "execution_count": 10,
      "metadata": {
        "id": "tkkUND3Qa3-W"
      },
      "outputs": [],
      "source": [
        "import numpy as np \n",
        "\n",
        "np.random.seed(0)\n",
        "\n",
        "X = [[1, 2, 3, 2.5],\n",
        "     [2.0, 5.0, -1.0, 2.0],\n",
        "     [-1.5, 2.7, 3.3, -0.8]]"
      ]
    },
    {
      "cell_type": "code",
      "execution_count": 11,
      "metadata": {
        "id": "tbO5oPJabD6y"
      },
      "outputs": [],
      "source": [
        "class Layer_Dense:\n",
        "    def __init__(self, n_inputs, n_neurons):\n",
        "        self.weights = 0.10 * np.random.randn(n_inputs, n_neurons)\n",
        "        self.biases = np.zeros((1, n_neurons))\n",
        "    def forward(self, inputs):\n",
        "        self.output = np.dot(inputs, self.weights) + self.biases"
      ]
    },
    {
      "cell_type": "code",
      "execution_count": 12,
      "metadata": {
        "id": "g1bqnGWHbFq6"
      },
      "outputs": [],
      "source": [
        "layer1 = Layer_Dense(4,5)"
      ]
    },
    {
      "cell_type": "code",
      "execution_count": 13,
      "metadata": {
        "id": "XJydh5B2bMIW"
      },
      "outputs": [],
      "source": [
        "layer2 = Layer_Dense(5,2)"
      ]
    },
    {
      "cell_type": "code",
      "execution_count": 14,
      "metadata": {
        "colab": {
          "base_uri": "https://localhost:8080/"
        },
        "id": "8Hl_smo8bcwR",
        "outputId": "a2b15f1f-2395-409b-8476-1c56731ec168"
      },
      "outputs": [
        {
          "output_type": "stream",
          "name": "stdout",
          "text": [
            "[[ 0.10758131  1.03983522  0.24462411  0.31821498  0.18851053]\n",
            " [-0.08349796  0.70846411  0.00293357  0.44701525  0.36360538]\n",
            " [-0.50763245  0.55688422  0.07987797 -0.34889573  0.04553042]]\n"
          ]
        }
      ],
      "source": [
        "layer1.forward(X)\n",
        "print(layer1.output)"
      ]
    },
    {
      "cell_type": "code",
      "execution_count": 15,
      "metadata": {
        "id": "gH_5gq1mbRpC"
      },
      "outputs": [],
      "source": [
        "layer2.forward(layer1.output)"
      ]
    },
    {
      "cell_type": "code",
      "execution_count": 16,
      "metadata": {
        "colab": {
          "base_uri": "https://localhost:8080/"
        },
        "id": "CP7_xZucbrgJ",
        "outputId": "4a470ea3-036d-4428-eeeb-0104af570d06"
      },
      "outputs": [
        {
          "output_type": "stream",
          "name": "stdout",
          "text": [
            "Looking in indexes: https://pypi.org/simple, https://us-python.pkg.dev/colab-wheels/public/simple/\n",
            "Requirement already satisfied: nnfs in /usr/local/lib/python3.8/dist-packages (0.5.1)\n",
            "Requirement already satisfied: numpy in /usr/local/lib/python3.8/dist-packages (from nnfs) (1.22.4)\n"
          ]
        }
      ],
      "source": [
        "import numpy as np \n",
        "!pip install nnfs\n",
        "import nnfs\n",
        "from nnfs.datasets import spiral_data  \n",
        "\n",
        "nnfs.init()\n",
        "\n",
        "X, y = spiral_data(100, 3)   "
      ]
    },
    {
      "cell_type": "code",
      "execution_count": 17,
      "metadata": {
        "id": "9jcQ1qMkbvKP"
      },
      "outputs": [],
      "source": [
        "class Layer_Dense:\n",
        "    def __init__(self, n_inputs, n_neurons):\n",
        "        self.weights = 0.10 * np.random.randn(n_inputs, n_neurons)\n",
        "        self.biases = np.zeros((1, n_neurons))\n",
        "    def forward(self, inputs):\n",
        "        self.output = np.dot(inputs, self.weights) + self.biases\n"
      ]
    },
    {
      "cell_type": "code",
      "execution_count": 18,
      "metadata": {
        "id": "npoh8jnib0BK"
      },
      "outputs": [],
      "source": [
        "class Activation_ReLU:\n",
        "    def forward(self, inputs):\n",
        "        self.output = np.maximum(0, inputs)"
      ]
    },
    {
      "cell_type": "code",
      "execution_count": 19,
      "metadata": {
        "colab": {
          "base_uri": "https://localhost:8080/"
        },
        "id": "fq7PWAUGb1me",
        "outputId": "f51cc188-be9c-4230-d927-cb8f2419b60f"
      },
      "outputs": [
        {
          "output_type": "stream",
          "name": "stdout",
          "text": [
            "[[0.00000000e+00 0.00000000e+00 0.00000000e+00 0.00000000e+00\n",
            "  0.00000000e+00]\n",
            " [0.00000000e+00 0.00000000e+00 0.00000000e+00 4.65504505e-04\n",
            "  4.56846210e-05]\n",
            " [0.00000000e+00 5.93469958e-05 0.00000000e+00 2.03573116e-04\n",
            "  6.10024377e-04]\n",
            " ...\n",
            " [1.13291524e-01 0.00000000e+00 0.00000000e+00 8.11079666e-02\n",
            "  0.00000000e+00]\n",
            " [1.34588361e-01 0.00000000e+00 3.09493970e-02 5.66337556e-02\n",
            "  0.00000000e+00]\n",
            " [1.07817926e-01 0.00000000e+00 0.00000000e+00 8.72561932e-02\n",
            "  0.00000000e+00]]\n"
          ]
        }
      ],
      "source": [
        "layer1 = Layer_Dense(2,5)\n",
        "activation1 = Activation_ReLU()\n",
        "\n",
        "layer1.forward(X)\n",
        "\n",
        "#print(layer1.output)\n",
        "activation1.forward(layer1.output)\n",
        "print(activation1.output)"
      ]
    },
    {
      "cell_type": "code",
      "source": [
        "import numpy as np\n",
        "import nnfs\n",
        "from nnfs.datasets import spiral_data\n",
        "\n",
        "nnfs.init()\n"
      ],
      "metadata": {
        "id": "R3GuthC6ZKm6"
      },
      "execution_count": 20,
      "outputs": []
    },
    {
      "cell_type": "code",
      "execution_count": 21,
      "metadata": {
        "id": "JqLrXCHccB14"
      },
      "outputs": [],
      "source": [
        "class Layer_Dense:\n",
        "    def __init__(self, n_inputs, n_neurons):\n",
        "        self.weights = 0.1 * np.random.randn(n_inputs, n_neurons)\n",
        "        self.biases = np.zeros((1, n_neurons))\n",
        "    def forward(self, inputs):\n",
        "        self.output = np.dot(inputs, self.weights) + self.biases"
      ]
    },
    {
      "cell_type": "code",
      "execution_count": 22,
      "metadata": {
        "id": "zPAos_8JcDp_"
      },
      "outputs": [],
      "source": [
        "class Activation_ReLU:\n",
        "    def forward(self, inputs):\n",
        "        self.output = np.maximum(0, inputs)\n",
        "\n",
        "class Activation_Softmax:\n",
        "    def forward(self, inputs):\n",
        "        exp_values = np.exp(inputs - np.max(inputs, axis=1, keepdims=True))\n",
        "        probabilities = exp_values / np.sum(exp_values, axis=1, keepdims=True)\n",
        "        self.output = probabilities\n"
      ]
    },
    {
      "cell_type": "code",
      "execution_count": 23,
      "metadata": {
        "colab": {
          "base_uri": "https://localhost:8080/"
        },
        "id": "3UFPohPFcJTA",
        "outputId": "66c99b51-1f59-4554-b857-d4146e8626fd"
      },
      "outputs": [
        {
          "output_type": "execute_result",
          "data": {
            "text/plain": [
              "array([[ 0.00000000e+00,  0.00000000e+00],\n",
              "       [ 2.99555692e-03,  9.64660756e-03],\n",
              "       [ 1.28809698e-02,  1.55628482e-02],\n",
              "       [ 2.99747903e-02,  4.44809627e-03],\n",
              "       [ 3.93124595e-02,  9.32828337e-03],\n",
              "       [ 8.28829070e-04,  5.04982509e-02],\n",
              "       [ 5.34835160e-02,  2.85062827e-02],\n",
              "       [ 4.17361967e-02,  5.70752136e-02],\n",
              "       [ 5.54633923e-02,  5.87686822e-02],\n",
              "       [ 8.16038325e-02,  4.00659069e-02],\n",
              "       [ 8.91875103e-02,  4.74197045e-02],\n",
              "       [ 1.07160836e-01, -2.93638241e-02],\n",
              "       [ 1.21183202e-01, -2.64751446e-03],\n",
              "       [ 1.28777727e-01,  2.56794747e-02],\n",
              "       [ 1.41112968e-01, -9.22449492e-03],\n",
              "       [ 1.50579467e-01, -1.68126337e-02],\n",
              "       [ 1.13476366e-01, -1.15077794e-01],\n",
              "       [ 1.71552509e-01, -7.51816481e-03],\n",
              "       [ 1.67186841e-01, -7.14591444e-02],\n",
              "       [ 1.91325873e-01,  1.50793232e-02],\n",
              "       [ 1.36771902e-01,  1.48679554e-01],\n",
              "       [ 1.35606423e-01, -1.63114399e-01],\n",
              "       [ 1.04024746e-01, -1.96370989e-01],\n",
              "       [ 2.15633541e-01, -8.64653736e-02],\n",
              "       [-9.83033329e-02, -2.21598670e-01],\n",
              "       [ 2.46031418e-01, -5.68994507e-02],\n",
              "       [ 1.24166250e-01, -2.31420174e-01],\n",
              "       [ 1.32641941e-01, -2.38298729e-01],\n",
              "       [-1.23804301e-01, -2.54291832e-01],\n",
              "       [-1.46155268e-01, -2.53862590e-01],\n",
              "       [ 1.02452915e-02, -3.02857071e-01],\n",
              "       [-5.56905754e-02, -3.08139235e-01],\n",
              "       [ 1.11795291e-01, -3.03283602e-01],\n",
              "       [ 2.38806710e-01, -2.32556373e-01],\n",
              "       [-4.07022871e-02, -3.41013879e-01],\n",
              "       [-1.60721049e-01, -3.14890444e-01],\n",
              "       [-3.25695068e-01, -1.61722347e-01],\n",
              "       [-3.47926050e-01, -1.36481121e-01],\n",
              "       [-1.85074612e-01, -3.36272657e-01],\n",
              "       [-2.37354815e-01, -3.14405680e-01],\n",
              "       [-1.47814021e-01, -3.76031458e-01],\n",
              "       [-1.18350260e-01, -3.96870673e-01],\n",
              "       [-1.04012094e-01, -4.11294430e-01],\n",
              "       [-3.56893986e-01,  2.47549772e-01],\n",
              "       [-3.85084093e-01, -2.21903399e-01],\n",
              "       [-4.21105951e-01, -1.71117917e-01],\n",
              "       [-3.57668996e-01, -2.96596050e-01],\n",
              "       [-4.32741880e-01,  1.95242479e-01],\n",
              "       [-3.79777759e-01, -3.01408201e-01],\n",
              "       [-4.90725726e-01,  6.45234585e-02],\n",
              "       [-5.02019227e-01, -5.52514270e-02],\n",
              "       [-4.15472955e-01,  3.04570675e-01],\n",
              "       [-5.04104018e-01,  1.47544429e-01],\n",
              "       [-5.34662068e-01,  2.72004325e-02],\n",
              "       [-4.07161713e-01,  3.62960041e-01],\n",
              "       [-2.72887409e-01,  4.83915746e-01],\n",
              "       [-3.16287279e-01,  4.68966633e-01],\n",
              "       [-2.10548550e-01,  5.35878778e-01],\n",
              "       [-3.95798415e-01,  4.31942016e-01],\n",
              "       [-2.88308799e-01,  5.21580160e-01],\n",
              "       [-3.21319461e-01,  5.13870835e-01],\n",
              "       [-1.82880193e-01,  5.88396072e-01],\n",
              "       [-2.59437025e-01,  5.69997609e-01],\n",
              "       [-4.48756903e-01,  4.51193869e-01],\n",
              "       [ 1.72540992e-01,  6.23013735e-01],\n",
              "       [ 5.35037480e-02,  6.54381990e-01],\n",
              "       [-2.78893858e-01,  6.05526745e-01],\n",
              "       [ 4.44151521e-01,  5.10630906e-01],\n",
              "       [ 9.03030708e-02,  6.80906713e-01],\n",
              "       [ 4.55620110e-01,  5.27424932e-01],\n",
              "       [ 6.45984292e-01,  2.87494838e-01],\n",
              "       [ 5.84617138e-01,  4.15401071e-01],\n",
              "       [ 7.27224171e-01,  8.40271171e-03],\n",
              "       [ 3.36008549e-01,  6.56367481e-01],\n",
              "       [ 7.35656083e-01,  1.32395625e-01],\n",
              "       [ 6.16297543e-01,  4.40565974e-01],\n",
              "       [ 6.28073633e-01,  4.41419423e-01],\n",
              "       [ 7.26366043e-01,  2.78083950e-01],\n",
              "       [ 7.81131148e-01,  1.02893755e-01],\n",
              "       [ 7.88548410e-01, -1.22324094e-01],\n",
              "       [ 7.57483721e-01,  2.81448126e-01],\n",
              "       [ 5.82662702e-01, -5.74391544e-01],\n",
              "       [ 6.53483987e-01, -5.08931339e-01],\n",
              "       [ 8.14698577e-01,  1.97872922e-01],\n",
              "       [ 1.65076673e-01, -8.32271755e-01],\n",
              "       [-9.34221819e-02, -8.53488147e-01],\n",
              "       [ 1.28543124e-01, -8.59123707e-01],\n",
              "       [ 5.83978891e-01, -6.56686246e-01],\n",
              "       [ 7.80273199e-01, -4.25790071e-01],\n",
              "       [-8.29009637e-02, -8.95159364e-01],\n",
              "       [ 4.63849485e-01, -7.81850338e-01],\n",
              "       [-3.39549899e-01, -8.54177773e-01],\n",
              "       [ 2.57485043e-02, -9.28936124e-01],\n",
              "       [-4.14920419e-01, -8.42794180e-01],\n",
              "       [-2.33394891e-01, -9.20362711e-01],\n",
              "       [-4.80520338e-01, -8.30617011e-01],\n",
              "       [-2.65596241e-01, -9.32615042e-01],\n",
              "       [-9.34677541e-01, -2.93908089e-01],\n",
              "       [-5.06961346e-01, -8.50229502e-01],\n",
              "       [-7.00584829e-01, -7.13569164e-01],\n",
              "       [-0.00000000e+00, -0.00000000e+00],\n",
              "       [-2.37636777e-05, -1.01009822e-02],\n",
              "       [-2.85904994e-03, -1.99986864e-02],\n",
              "       [-2.96508409e-02, -6.25310186e-03],\n",
              "       [-1.54620195e-02, -3.73284407e-02],\n",
              "       [-4.47676741e-02,  2.33798083e-02],\n",
              "       [-5.01458272e-02, -3.40366103e-02],\n",
              "       [-5.57611808e-02, -4.34762090e-02],\n",
              "       [-5.77887744e-02,  5.64836562e-02],\n",
              "       [-7.21631050e-02,  5.52896857e-02],\n",
              "       [-5.88949509e-02,  8.20635408e-02],\n",
              "       [-9.36308503e-02,  5.98242730e-02],\n",
              "       [-1.18445486e-01, -2.57496666e-02],\n",
              "       [-3.85806710e-02,  1.25517607e-01],\n",
              "       [-1.35726988e-01,  3.97006609e-02],\n",
              "       [-9.16938111e-02,  1.20619588e-01],\n",
              "       [-7.41407052e-02,  1.43606886e-01],\n",
              "       [-1.37312800e-01,  1.03111513e-01],\n",
              "       [-7.76325166e-02,  1.64411202e-01],\n",
              "       [-3.55057046e-02,  1.88606262e-01],\n",
              "       [-7.07798749e-02,  1.89215153e-01],\n",
              "       [-1.77902266e-01,  1.15525723e-01],\n",
              "       [-4.30656187e-02,  2.18009338e-01],\n",
              "       [ 9.47438180e-02,  2.12126598e-01],\n",
              "       [-1.13965355e-01,  2.13965908e-01],\n",
              "       [-2.92110667e-02,  2.50830054e-01],\n",
              "       [-4.12407555e-02,  2.59368002e-01],\n",
              "       [ 2.41241619e-01,  1.27211019e-01],\n",
              "       [ 1.59243613e-01,  2.33737692e-01],\n",
              "       [ 1.57247782e-01,  2.47145116e-01],\n",
              "       [ 2.39067562e-02,  3.02085787e-01],\n",
              "       [ 2.32032150e-01,  2.10267216e-01],\n",
              "       [ 1.04369961e-01,  3.05918366e-01],\n",
              "       [ 2.35107496e-01,  2.36295521e-01],\n",
              "       [ 1.79523319e-01,  2.92777270e-01],\n",
              "       [ 3.41323912e-01,  9.21153203e-02],\n",
              "       [ 3.55456382e-01,  7.66952783e-02],\n",
              "       [ 3.27276438e-01,  1.80470958e-01],\n",
              "       [ 3.81890804e-01,  3.86176892e-02],\n",
              "       [ 2.89765954e-01,  2.66878128e-01],\n",
              "       [ 2.68961608e-01,  3.01510036e-01],\n",
              "       [ 4.03800040e-01, -9.19708386e-02],\n",
              "       [ 4.16720092e-01, -7.95361474e-02],\n",
              "       [ 3.76112401e-01, -2.17241064e-01],\n",
              "       [ 3.19485776e-02, -4.43294644e-01],\n",
              "       [ 2.89429367e-01, -3.50488544e-01],\n",
              "       [ 4.63996798e-01, -2.45621055e-02],\n",
              "       [ 1.85740978e-01, -4.36904401e-01],\n",
              "       [ 4.84158278e-01, -2.58612800e-02],\n",
              "       [ 4.13589716e-01, -2.71879643e-01],\n",
              "       [ 3.22098076e-01, -3.89010072e-01],\n",
              "       [-1.52347535e-01, -4.92109060e-01],\n",
              "       [ 3.86825025e-01, -3.55326086e-01],\n",
              "       [ 3.71773154e-01, -3.85211796e-01],\n",
              "       [ 1.62570089e-01, -5.20664632e-01],\n",
              "       [ 2.58585244e-01, -4.91706878e-01],\n",
              "       [-2.77088165e-01, -4.93142456e-01],\n",
              "       [ 2.71145850e-01, -5.07914066e-01],\n",
              "       [ 2.40553409e-01, -5.34195065e-01],\n",
              "       [-1.94979012e-02, -5.95640540e-01],\n",
              "       [-6.26916364e-02, -6.02809429e-01],\n",
              "       [-6.09022141e-01, -9.35261697e-02],\n",
              "       [-5.36692202e-01, -3.22748154e-01],\n",
              "       [-4.09688324e-01, -4.86943692e-01],\n",
              "       [-9.27474126e-02, -6.39776886e-01],\n",
              "       [-6.28976762e-01, -1.88326120e-01],\n",
              "       [-2.95126259e-01, -5.97783387e-01],\n",
              "       [-1.91789702e-01, -6.49023235e-01],\n",
              "       [-6.75281405e-01,  1.25632852e-01],\n",
              "       [-6.89081788e-01, -1.04561344e-01],\n",
              "       [-6.84671879e-01,  1.76559985e-01],\n",
              "       [-7.16190279e-01,  3.75063084e-02],\n",
              "       [-6.63356125e-01,  2.98134685e-01],\n",
              "       [-7.17866004e-01, -1.68488741e-01],\n",
              "       [-7.09262490e-01, -2.35934705e-01],\n",
              "       [-6.08644307e-01,  4.51079965e-01],\n",
              "       [-7.67671525e-01, -2.83790333e-03],\n",
              "       [-7.68544078e-01,  1.19491868e-01],\n",
              "       [-7.33914554e-01,  2.86570013e-01],\n",
              "       [-6.05272949e-01,  5.20015776e-01],\n",
              "       [-6.55299366e-01,  4.72839653e-01],\n",
              "       [-7.99242437e-01,  1.75022930e-01],\n",
              "       [-6.42871678e-01,  5.22272348e-01],\n",
              "       [-8.38365436e-01, -5.55246091e-03],\n",
              "       [-4.41790260e-02,  8.47333908e-01],\n",
              "       [-7.50967443e-01,  4.16194111e-01],\n",
              "       [-5.69446802e-01,  6.56008542e-01],\n",
              "       [-3.12734917e-02,  8.78231227e-01],\n",
              "       [-2.88415402e-01,  8.40797246e-01],\n",
              "       [ 7.10775614e-01,  5.50436974e-01],\n",
              "       [-3.58261794e-01,  8.35520685e-01],\n",
              "       [ 4.21108097e-01,  8.17056775e-01],\n",
              "       [ 3.82092923e-01,  8.47107053e-01],\n",
              "       [-3.72496545e-02,  9.38655138e-01],\n",
              "       [ 7.47896850e-01,  5.84970891e-01],\n",
              "       [ 5.88822305e-01,  7.57702231e-01],\n",
              "       [ 9.14996028e-01,  3.21083277e-01],\n",
              "       [ 9.58145797e-01,  2.04843029e-01],\n",
              "       [ 8.38562548e-01, -5.26035070e-01],\n",
              "       [ 9.69426990e-01, -2.45380044e-01],\n",
              "       [ 0.00000000e+00,  0.00000000e+00],\n",
              "       [ 9.14306752e-03,  4.29356797e-03],\n",
              "       [ 1.91021413e-02, -6.57494133e-03],\n",
              "       [ 2.96353418e-02, -6.32615155e-03],\n",
              "       [ 3.85543592e-02, -1.20850252e-02],\n",
              "       [ 3.78438421e-02,  3.34455334e-02],\n",
              "       [ 5.96956834e-02, -1.04651796e-02],\n",
              "       [ 7.04677626e-02,  5.81241259e-03],\n",
              "       [ 6.98159263e-02, -4.06900719e-02],\n",
              "       [ 8.22631791e-02, -3.86940874e-02],\n",
              "       [ 5.07112965e-02, -8.73579159e-02],\n",
              "       [ 7.33842030e-02, -8.34292397e-02],\n",
              "       [ 4.56192940e-02, -1.12299860e-01],\n",
              "       [ 1.03771001e-01, -8.04656297e-02],\n",
              "       [ 1.22611716e-01, -7.04579800e-02],\n",
              "       [ 9.53920186e-02, -1.17716625e-01],\n",
              "       [ 6.04712553e-02, -1.49876654e-01],\n",
              "       [ 1.44758979e-02, -1.71105921e-01],\n",
              "       [-1.48597717e-01, -1.04769118e-01],\n",
              "       [ 1.78390555e-02, -1.91088319e-01],\n",
              "       [ 8.76751468e-02, -1.82003379e-01],\n",
              "       [ 9.10300482e-03, -2.11925805e-01],\n",
              "       [ 1.60965777e-04, -2.22222164e-01],\n",
              "       [-1.25921011e-01, -1.95238277e-01],\n",
              "       [ 8.02290589e-02, -2.28763655e-01],\n",
              "       [-1.35362729e-01, -2.13180527e-01],\n",
              "       [-1.71858355e-01, -1.98588163e-01],\n",
              "       [-2.05292791e-01, -1.79541185e-01],\n",
              "       [-1.45042375e-01, -2.42805570e-01],\n",
              "       [-2.14010790e-01, -2.00017393e-01],\n",
              "       [-9.73699614e-02, -2.86960721e-01],\n",
              "       [-2.44014725e-01, -1.96234643e-01],\n",
              "       [-2.66582936e-01, -1.82791352e-01],\n",
              "       [-3.33262712e-01, -6.86169323e-03],\n",
              "       [-2.61409342e-01, -2.22738206e-01],\n",
              "       [-3.30370843e-01,  1.25866413e-01],\n",
              "       [-2.47638479e-01,  2.66282916e-01],\n",
              "       [-2.43963838e-01, -2.83127666e-01],\n",
              "       [-3.38751167e-01,  1.80498064e-01],\n",
              "       [-2.97227621e-01,  2.58542061e-01],\n",
              "       [-3.98896396e-01,  6.42675310e-02],\n",
              "       [-3.84470344e-01,  1.53933972e-01],\n",
              "       [-3.46745014e-01,  2.44437188e-01],\n",
              "       [-3.50296497e-01,  2.56800681e-01],\n",
              "       [-3.31782788e-01,  2.95721233e-01],\n",
              "       [-4.49742019e-01,  6.59067407e-02],\n",
              "       [ 4.17104848e-02,  4.62770551e-01],\n",
              "       [ 7.30770975e-02,  4.69089448e-01],\n",
              "       [-3.08974892e-01,  3.73647630e-01],\n",
              "       [-3.92718226e-01,  3.01243097e-01],\n",
              "       [ 8.95722732e-02,  4.97044086e-01],\n",
              "       [-1.36970177e-01,  4.96608764e-01],\n",
              "       [ 9.95909050e-02,  5.15724599e-01],\n",
              "       [ 3.27057391e-02,  5.34353554e-01],\n",
              "       [ 3.37681264e-01,  4.28359687e-01],\n",
              "       [ 3.86817127e-01,  3.98766190e-01],\n",
              "       [ 9.06921476e-02,  5.58338881e-01],\n",
              "       [-3.84592935e-02,  5.74471653e-01],\n",
              "       [-3.84191386e-02,  5.84597528e-01],\n",
              "       [ 5.39511859e-01,  2.53169537e-01],\n",
              "       [ 1.98358148e-01,  5.72680950e-01],\n",
              "       [ 4.31343615e-01,  4.39997524e-01],\n",
              "       [ 4.62868482e-01,  4.21850264e-01],\n",
              "       [ 5.94172835e-01,  2.27853715e-01],\n",
              "       [ 2.30009332e-01,  6.04162455e-01],\n",
              "       [ 6.55944824e-01,  2.85461489e-02],\n",
              "       [ 6.49851620e-01, -1.48786068e-01],\n",
              "       [ 6.72798991e-01, -7.31845647e-02],\n",
              "       [ 6.86836302e-01, -6.66679395e-03],\n",
              "       [ 6.62706614e-01, -2.15839580e-01],\n",
              "       [ 5.96542180e-01, -3.79587144e-01],\n",
              "       [ 4.35550809e-01,  5.69763780e-01],\n",
              "       [ 1.71986911e-02, -7.27069318e-01],\n",
              "       [ 4.78151858e-01, -5.61329544e-01],\n",
              "       [ 6.74676895e-01, -3.21760178e-01],\n",
              "       [ 5.90618432e-01, -4.74437416e-01],\n",
              "       [ 2.63736039e-01, -7.20951378e-01],\n",
              "       [ 4.09585685e-01, -6.61194265e-01],\n",
              "       [ 7.77826965e-01, -1.25451937e-01],\n",
              "       [-5.36717594e-01, -5.90513289e-01],\n",
              "       [ 1.98979661e-01, -7.83199668e-01],\n",
              "       [-3.31806332e-01, -7.47881055e-01],\n",
              "       [ 2.74292469e-01, -7.81547248e-01],\n",
              "       [-6.44940972e-01, -5.35666525e-01],\n",
              "       [-2.93879867e-01, -7.95965552e-01],\n",
              "       [-4.96032059e-01, -7.00800896e-01],\n",
              "       [ 9.54423249e-02, -8.63427818e-01],\n",
              "       [-7.90659189e-01, -3.83570313e-01],\n",
              "       [-7.27896988e-01, -5.10185719e-01],\n",
              "       [-8.80292356e-01, -1.82395741e-01],\n",
              "       [-4.37859565e-01, -7.96696484e-01],\n",
              "       [-5.75886071e-01, -7.16427982e-01],\n",
              "       [-7.67105818e-01,  5.24532199e-01],\n",
              "       [-5.22328019e-01, -7.80790865e-01],\n",
              "       [-8.67685974e-01, -3.85566771e-01],\n",
              "       [-9.11101043e-01,  3.01196396e-01],\n",
              "       [-9.64920223e-01, -9.61308330e-02],\n",
              "       [-9.50698435e-01,  2.37015888e-01],\n",
              "       [-9.79386806e-01, -1.43879965e-01],\n",
              "       [-9.42788780e-01,  3.33390683e-01]], dtype=float32)"
            ]
          },
          "metadata": {},
          "execution_count": 23
        }
      ],
      "source": [
        "\n",
        "X, y = spiral_data(samples=100, classes=3)\n",
        "\n",
        "X"
      ]
    },
    {
      "cell_type": "code",
      "source": [
        "y"
      ],
      "metadata": {
        "colab": {
          "base_uri": "https://localhost:8080/"
        },
        "id": "8R6iQU0zZamg",
        "outputId": "b90a4f04-7c32-427f-c782-8159a3cbb9e2"
      },
      "execution_count": 24,
      "outputs": [
        {
          "output_type": "execute_result",
          "data": {
            "text/plain": [
              "array([0, 0, 0, 0, 0, 0, 0, 0, 0, 0, 0, 0, 0, 0, 0, 0, 0, 0, 0, 0, 0, 0,\n",
              "       0, 0, 0, 0, 0, 0, 0, 0, 0, 0, 0, 0, 0, 0, 0, 0, 0, 0, 0, 0, 0, 0,\n",
              "       0, 0, 0, 0, 0, 0, 0, 0, 0, 0, 0, 0, 0, 0, 0, 0, 0, 0, 0, 0, 0, 0,\n",
              "       0, 0, 0, 0, 0, 0, 0, 0, 0, 0, 0, 0, 0, 0, 0, 0, 0, 0, 0, 0, 0, 0,\n",
              "       0, 0, 0, 0, 0, 0, 0, 0, 0, 0, 0, 0, 1, 1, 1, 1, 1, 1, 1, 1, 1, 1,\n",
              "       1, 1, 1, 1, 1, 1, 1, 1, 1, 1, 1, 1, 1, 1, 1, 1, 1, 1, 1, 1, 1, 1,\n",
              "       1, 1, 1, 1, 1, 1, 1, 1, 1, 1, 1, 1, 1, 1, 1, 1, 1, 1, 1, 1, 1, 1,\n",
              "       1, 1, 1, 1, 1, 1, 1, 1, 1, 1, 1, 1, 1, 1, 1, 1, 1, 1, 1, 1, 1, 1,\n",
              "       1, 1, 1, 1, 1, 1, 1, 1, 1, 1, 1, 1, 1, 1, 1, 1, 1, 1, 1, 1, 1, 1,\n",
              "       1, 1, 2, 2, 2, 2, 2, 2, 2, 2, 2, 2, 2, 2, 2, 2, 2, 2, 2, 2, 2, 2,\n",
              "       2, 2, 2, 2, 2, 2, 2, 2, 2, 2, 2, 2, 2, 2, 2, 2, 2, 2, 2, 2, 2, 2,\n",
              "       2, 2, 2, 2, 2, 2, 2, 2, 2, 2, 2, 2, 2, 2, 2, 2, 2, 2, 2, 2, 2, 2,\n",
              "       2, 2, 2, 2, 2, 2, 2, 2, 2, 2, 2, 2, 2, 2, 2, 2, 2, 2, 2, 2, 2, 2,\n",
              "       2, 2, 2, 2, 2, 2, 2, 2, 2, 2, 2, 2, 2, 2], dtype=uint8)"
            ]
          },
          "metadata": {},
          "execution_count": 24
        }
      ]
    },
    {
      "cell_type": "code",
      "source": [
        "dense1 = Layer_Dense(2,3)\n",
        "activation1 = Activation_ReLU()"
      ],
      "metadata": {
        "id": "V7j06yqtZWZF"
      },
      "execution_count": 25,
      "outputs": []
    },
    {
      "cell_type": "code",
      "source": [
        "dense2 = Layer_Dense(3, 3)\n",
        "activation2 = Activation_Softmax()"
      ],
      "metadata": {
        "id": "G2rl6CL5ZoBl"
      },
      "execution_count": 26,
      "outputs": []
    },
    {
      "cell_type": "code",
      "source": [
        "dense1.forward(X)\n",
        "activation1.forward(dense1.output)\n",
        "\n",
        "dense2.forward(activation1.output)\n",
        "activation2.forward(dense2.output)\n",
        "\n",
        "print(activation2.output[:5])"
      ],
      "metadata": {
        "colab": {
          "base_uri": "https://localhost:8080/"
        },
        "id": "79YdySrSZpjy",
        "outputId": "320dc386-272a-4393-a2ac-93af39d90ddf"
      },
      "execution_count": 27,
      "outputs": [
        {
          "output_type": "stream",
          "name": "stdout",
          "text": [
            "[[0.33333334 0.33333334 0.33333334]\n",
            " [0.33331734 0.3333183  0.33336434]\n",
            " [0.3332888  0.33329153 0.33341965]\n",
            " [0.33325943 0.33326396 0.33347666]\n",
            " [0.33323312 0.33323926 0.33352762]]\n"
          ]
        }
      ]
    },
    {
      "cell_type": "code",
      "execution_count": 28,
      "metadata": {
        "colab": {
          "base_uri": "https://localhost:8080/"
        },
        "id": "FvzmGx_FcL9V",
        "outputId": "1869589f-265d-46a5-e109-e92ce7626d71"
      },
      "outputs": [
        {
          "output_type": "stream",
          "name": "stdout",
          "text": [
            "[[0.33333334 0.33333334 0.33333334]\n",
            " [0.3333332  0.3333332  0.33333364]\n",
            " [0.3333329  0.33333293 0.3333342 ]\n",
            " [0.3333326  0.33333263 0.33333477]\n",
            " [0.33333233 0.3333324  0.33333528]]\n",
            "Loss: 1.0986104\n"
          ]
        }
      ],
      "source": [
        "import numpy as np \n",
        "import nnfs\n",
        "from nnfs.datasets import spiral_data\n",
        "\n",
        "\n",
        "nnfs.init()\n",
        "\n",
        "class Layer_Dense:\n",
        "    def __init__(self, n_inputs, n_neurons):\n",
        "        self.weights = 0.01 * np.random.randn(n_inputs, n_neurons)\n",
        "        self.biases = np.zeros((1, n_neurons))\n",
        "    def forward(self, inputs):\n",
        "        self.output = np.dot(inputs, self.weights) + self.biases\n",
        "\n",
        "\n",
        "class Activation_ReLU:\n",
        "    def forward(self, inputs):\n",
        "        self.output = np.maximum(0, inputs)\n",
        "\n",
        "class Activation_Softmax:\n",
        "    def forward(self, inputs):\n",
        "        exp_values = np.exp(inputs - np.max(inputs, axis=1, keepdims=True))\n",
        "        probabilities = exp_values / np.sum(exp_values, axis=1, keepdims=True)\n",
        "        self.output = probabilities\n",
        "\n",
        "class Loss:\n",
        "    def calculate(self, output, y):\n",
        "        sample_losses = self.forward(output, y)\n",
        "        data_loss = np.mean(sample_losses)\n",
        "        return data_loss\n",
        "\n",
        "class Loss_CategoricalCrossentropy(Loss):\n",
        "    def forward(self, y_pred, y_true):\n",
        "        samples = len(y_pred)\n",
        "        y_pred_clipped = np.clip(y_pred, 1e-7, 1-1e-7)\n",
        "\n",
        "        if len(y_true.shape) == 1:\n",
        "            correct_confidences = y_pred_clipped[range(samples), y_true]\n",
        "\n",
        "        elif len(y_true.shape) == 2:\n",
        "            correct_confidences = np.sum(y_pred_clipped*y_true, axis=1)\n",
        "\n",
        "        negative_log_likelihoods = -np.log(correct_confidences)\n",
        "        return negative_log_likelihoods\n",
        "\n",
        "\n",
        "\n",
        "\n",
        "X, y = spiral_data(samples=100, classes=3)\n",
        "\n",
        "dense1 = Layer_Dense(2,3)\n",
        "activation1 = Activation_ReLU()\n",
        "\n",
        "dense2 = Layer_Dense(3, 3)\n",
        "activation2 = Activation_Softmax()\n",
        "\n",
        "dense1.forward(X)\n",
        "activation1.forward(dense1.output)\n",
        "\n",
        "dense2.forward(activation1.output)\n",
        "activation2.forward(dense2.output)\n",
        "\n",
        "print(activation2.output[:5])\n",
        "\n",
        "loss_function = Loss_CategoricalCrossentropy()\n",
        "loss = loss_function.calculate(activation2.output, y)\n",
        "\n",
        "print(\"Loss:\", loss)"
      ]
    },
    {
      "cell_type": "code",
      "execution_count": 29,
      "metadata": {
        "id": "cfnz22VNcy9b"
      },
      "outputs": [],
      "source": [
        "import numpy as np"
      ]
    },
    {
      "cell_type": "code",
      "execution_count": 30,
      "metadata": {
        "colab": {
          "base_uri": "https://localhost:8080/"
        },
        "id": "_epLZna1bwih",
        "outputId": "cefb08f8-356e-40e0-9e6a-63762146a669"
      },
      "outputs": [
        {
          "output_type": "stream",
          "name": "stdout",
          "text": [
            "[[0 0 1]\n",
            " [0 1 1]\n",
            " [1 0 1]\n",
            " [1 1 1]]\n"
          ]
        }
      ],
      "source": [
        "X = np.array([ [ 0, 0, 1 ],\n",
        "               [ 0, 1, 1 ],\n",
        "               [ 1, 0, 1 ],\n",
        "               [ 1, 1, 1 ] ])\n",
        "print(X)\n"
      ]
    },
    {
      "cell_type": "code",
      "execution_count": 31,
      "metadata": {
        "colab": {
          "base_uri": "https://localhost:8080/"
        },
        "id": "LTzMMFDqb0rw",
        "outputId": "a5e82a70-0806-4d8c-c10d-b8ee1e847844"
      },
      "outputs": [
        {
          "output_type": "stream",
          "name": "stdout",
          "text": [
            "[[0]\n",
            " [0]\n",
            " [1]\n",
            " [1]]\n"
          ]
        }
      ],
      "source": [
        "y = np.array([[0,0,1,1]]).T\n",
        "print(y)"
      ]
    },
    {
      "cell_type": "code",
      "execution_count": 32,
      "metadata": {
        "colab": {
          "base_uri": "https://localhost:8080/"
        },
        "id": "hO_y7jQ_b309",
        "outputId": "f3122369-7448-44ab-9901-c6371258e067"
      },
      "outputs": [
        {
          "output_type": "stream",
          "name": "stdout",
          "text": [
            "[[0.0127423 ]\n",
            " [0.35011024]\n",
            " [0.05558225]]\n"
          ]
        }
      ],
      "source": [
        "n_inputs = 3\n",
        "n_outputs = 1\n",
        "#Wo = 2 * np.random.random( (n_inputs, n_outputs) ) - 1\n",
        "Wo = np.random.random( (n_inputs, n_outputs) ) * np.sqrt(2.0/n_inputs)\n",
        "print(Wo)"
      ]
    },
    {
      "cell_type": "code",
      "execution_count": 33,
      "metadata": {
        "id": "Yo7zDjIab7Dp"
      },
      "outputs": [],
      "source": [
        "def sigmoid(z):\n",
        "    \"\"\"The sigmoid activation function.\"\"\"\n",
        "    return 1 / (1 + np.exp(-z))"
      ]
    },
    {
      "cell_type": "code",
      "execution_count": 34,
      "metadata": {
        "id": "_3qCpcN_cGqC"
      },
      "outputs": [],
      "source": [
        "def relu(z):\n",
        "    \"\"\"The ReLU activation function.\"\"\"\n",
        "    return max(0, z)"
      ]
    },
    {
      "cell_type": "code",
      "execution_count": 35,
      "metadata": {
        "id": "l1H3MsiLcHIk"
      },
      "outputs": [],
      "source": [
        "def sigmoid_prime(z):\n",
        "    \"\"\"The derivative of sigmoid for z.\"\"\"\n",
        "    return z * (1 - z)"
      ]
    },
    {
      "cell_type": "code",
      "execution_count": 36,
      "metadata": {
        "colab": {
          "base_uri": "https://localhost:8080/"
        },
        "id": "Htrz1spdcKnn",
        "outputId": "99336751-df33-486c-d4b8-883677c3fff2"
      },
      "outputs": [
        {
          "output_type": "stream",
          "name": "stdout",
          "text": [
            "l1:\n",
            " [[0.00966773]\n",
            " [0.0078645 ]\n",
            " [0.99359   ]\n",
            " [0.9921176 ]]\n"
          ]
        }
      ],
      "source": [
        "for n in range(10000):\n",
        "    # forward propagation\n",
        "    l1 = sigmoid(np.dot(X, Wo))\n",
        "    \n",
        "    # compute the loss\n",
        "    l1_error = y - l1\n",
        "    #print(\"l1_error:\\n\", l1_error)\n",
        "    \n",
        "    # multiply the loss by the slope of the sigmoid at l1\n",
        "    l1_delta = l1_error * sigmoid_prime(l1)\n",
        "    #print(\"l1_delta:\\n\", l1_delta)\n",
        "    \n",
        "    #print(\"error:\", l1_error, \"\\nderivative:\", sigmoid(l1, True), \"\\ndelta:\", l1_delta, \"\\n\", \"-\"*10, \"\\n\")\n",
        "    # update weights\n",
        "    Wo += np.dot(X.T, l1_delta)\n",
        "\n",
        "print(\"l1:\\n\", l1)"
      ]
    },
    {
      "cell_type": "code",
      "execution_count": 37,
      "metadata": {
        "id": "70O5Y6qjcWd6"
      },
      "outputs": [],
      "source": [
        "def sigmoid(z):\n",
        "    return 1 / (1 + np.exp(-z))"
      ]
    },
    {
      "cell_type": "code",
      "execution_count": 38,
      "metadata": {
        "id": "TBp2ei2Yct1k"
      },
      "outputs": [],
      "source": [
        "w = np.array([0.2, 0.3, 0.8])\n",
        "b = 0.5\n",
        "x = np.array([0.5, 0.6, 0.1])"
      ]
    },
    {
      "cell_type": "code",
      "execution_count": 39,
      "metadata": {
        "colab": {
          "base_uri": "https://localhost:8080/"
        },
        "id": "wZ_7azYMime8",
        "outputId": "6bf3d5fd-5889-4646-891d-586e418363de"
      },
      "outputs": [
        {
          "output_type": "stream",
          "name": "stdout",
          "text": [
            "[0.2 0.3 0.8]\n"
          ]
        }
      ],
      "source": [
        "print(w)"
      ]
    },
    {
      "cell_type": "code",
      "execution_count": 40,
      "metadata": {
        "colab": {
          "base_uri": "https://localhost:8080/"
        },
        "id": "HrLGM8kJinGE",
        "outputId": "03aa5e7c-5c4d-470a-e50d-e12120067b45"
      },
      "outputs": [
        {
          "output_type": "stream",
          "name": "stdout",
          "text": [
            "0.5\n"
          ]
        }
      ],
      "source": [
        "print(b)"
      ]
    },
    {
      "cell_type": "code",
      "execution_count": 41,
      "metadata": {
        "colab": {
          "base_uri": "https://localhost:8080/"
        },
        "id": "BGvlC4HAcwi3",
        "outputId": "ba41e249-cce5-4c76-d36e-b1f6e9f8935c"
      },
      "outputs": [
        {
          "output_type": "stream",
          "name": "stdout",
          "text": [
            "z: 0.8600000000000001\n",
            "a: 0.7026606543447316\n"
          ]
        }
      ],
      "source": [
        "z = w.dot(x) + b\n",
        "print(\"z:\", z)\n",
        "print(\"a:\", sigmoid(z))"
      ]
    },
    {
      "cell_type": "code",
      "execution_count": 42,
      "metadata": {
        "id": "3CouBr3JiIe2"
      },
      "outputs": [],
      "source": [
        "def activation(z):\n",
        "    if z > 0:\n",
        "        return 1\n",
        "    return 0"
      ]
    },
    {
      "cell_type": "code",
      "execution_count": 43,
      "metadata": {
        "id": "bw14dg1niMTZ"
      },
      "outputs": [],
      "source": [
        "w = np.array([1, 1])\n",
        "b = -1"
      ]
    },
    {
      "cell_type": "code",
      "execution_count": 44,
      "metadata": {
        "colab": {
          "base_uri": "https://localhost:8080/"
        },
        "id": "8NTjWSOBjEfw",
        "outputId": "71bdb8c1-7132-4bbc-d891-b5db5baba097"
      },
      "outputs": [
        {
          "output_type": "stream",
          "name": "stdout",
          "text": [
            "[1 1]\n"
          ]
        }
      ],
      "source": [
        "print(w)"
      ]
    },
    {
      "cell_type": "code",
      "execution_count": 45,
      "metadata": {
        "colab": {
          "base_uri": "https://localhost:8080/"
        },
        "id": "0Sa-FWgljFJt",
        "outputId": "34aedf7d-ccc0-4396-d1fe-3df12f8ef5ac"
      },
      "outputs": [
        {
          "output_type": "stream",
          "name": "stdout",
          "text": [
            "-1\n"
          ]
        }
      ],
      "source": [
        "print(b)"
      ]
    },
    {
      "cell_type": "code",
      "execution_count": 46,
      "metadata": {
        "colab": {
          "base_uri": "https://localhost:8080/"
        },
        "id": "8c-PdIzliVHq",
        "outputId": "5f6b1a1a-b1fc-4ff4-a340-f1934ecd5feb"
      },
      "outputs": [
        {
          "output_type": "stream",
          "name": "stdout",
          "text": [
            "0 AND 0: 0\n"
          ]
        }
      ],
      "source": [
        "x = np.array([0, 0])\n",
        "print(\"0 AND 0:\", activation(w.dot(x) + b))"
      ]
    },
    {
      "cell_type": "code",
      "execution_count": 47,
      "metadata": {
        "colab": {
          "base_uri": "https://localhost:8080/"
        },
        "id": "-Sy1BngZiQhH",
        "outputId": "afac098c-849a-4557-a7e5-667829759ad1"
      },
      "outputs": [
        {
          "output_type": "stream",
          "name": "stdout",
          "text": [
            "1 AND 0: 0\n",
            "0 AND 1: 0\n",
            "1 AND 1: 1\n"
          ]
        }
      ],
      "source": [
        "x = np.array([1, 0])\n",
        "print(\"1 AND 0:\", activation(w.dot(x) + b))\n",
        "x = np.array([0, 1])\n",
        "print(\"0 AND 1:\", activation(w.dot(x) + b))\n",
        "x = np.array([1, 1])\n",
        "print(\"1 AND 1:\", activation(w.dot(x) + b))"
      ]
    }
  ],
  "metadata": {
    "colab": {
      "provenance": []
    },
    "kernelspec": {
      "display_name": "Python 3",
      "name": "python3"
    },
    "language_info": {
      "name": "python"
    }
  },
  "nbformat": 4,
  "nbformat_minor": 0
}