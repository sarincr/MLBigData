{
  "cells": [
    {
      "cell_type": "code",
      "execution_count": 1,
      "metadata": {
        "id": "aaeTOceNfavV"
      },
      "outputs": [],
      "source": [
        "import pandas as pd\n",
        "import numpy as np\n",
        "from keras.models import Sequential\n",
        "from keras.layers import Dense, SimpleRNN,LSTM,Dropout\n",
        "from sklearn.preprocessing import MinMaxScaler,StandardScaler\n",
        "from sklearn.metrics import mean_squared_error\n",
        "import math\n",
        "import matplotlib.pyplot as plt\n",
        "import plotly.express as px"
      ]
    },
    {
      "cell_type": "code",
      "execution_count": 2,
      "metadata": {
        "id": "tFUQobY7favY"
      },
      "outputs": [],
      "source": [
        "data=pd.read_csv('graph.csv')\n",
        "#data=data[\"Sunspots\"]\n",
        "scaler=MinMaxScaler(feature_range=(0,1))\n",
        "column=['X']\n",
        "data=scaler.fit_transform(data[column]).flatten()"
      ]
    },
    {
      "cell_type": "code",
      "execution_count": 3,
      "metadata": {
        "id": "G9h8RAR7favY"
      },
      "outputs": [],
      "source": [
        "n=len(data)\n",
        "split=int(n*0.9)\n",
        "train_data=data[range(split)]\n",
        "test_data=data[split:]\n"
      ]
    },
    {
      "cell_type": "code",
      "execution_count": 4,
      "metadata": {
        "colab": {
          "base_uri": "https://localhost:8080/"
        },
        "id": "JBsSylsBfavZ",
        "outputId": "3f23b932-4071-4528-aa31-5484d79d4d8f"
      },
      "outputs": [
        {
          "output_type": "execute_result",
          "data": {
            "text/plain": [
              "198"
            ]
          },
          "metadata": {},
          "execution_count": 4
        }
      ],
      "source": [
        "len(train_data)"
      ]
    },
    {
      "cell_type": "code",
      "execution_count": 5,
      "metadata": {
        "id": "lLKRdt3JfavZ"
      },
      "outputs": [],
      "source": [
        "hidden_units=50\n",
        "time_steps=2\n",
        "input_shape=(time_steps,1)\n",
        "y_ind=np.arange(time_steps,len(train_data),time_steps)\n",
        "y_train=train_data[y_ind]\n",
        "x_train=train_data[range(len(y_train)*time_steps)]\n",
        "x_train=np.reshape(x_train,(len(y_train),time_steps,1))"
      ]
    },
    {
      "cell_type": "code",
      "execution_count": 6,
      "metadata": {
        "id": "AjmKUkt-fava"
      },
      "outputs": [],
      "source": [
        "model=Sequential()\n",
        "model.add(LSTM(hidden_units,return_sequences=True,input_shape=input_shape))\n",
        "model.add(Dropout(0.2))\n",
        "model.add(LSTM(hidden_units,return_sequences=True))\n",
        "model.add(Dropout(0.2))\n",
        "model.add(LSTM(hidden_units,return_sequences=True))\n",
        "model.add(Dropout(0.2))\n",
        "model.add(LSTM(hidden_units))\n",
        "model.add(Dropout(0.2))\n",
        "model.add(Dense(units=1))\n",
        "model.compile(loss='mean_squared_error',optimizer='adam')"
      ]
    },
    {
      "cell_type": "code",
      "execution_count": null,
      "metadata": {
        "colab": {
          "base_uri": "https://localhost:8080/"
        },
        "id": "zWw8FCkefavb",
        "outputId": "08ef1448-be1d-4e8a-d9a3-2f46483358f4"
      },
      "outputs": [
        {
          "output_type": "stream",
          "name": "stdout",
          "text": [
            "Epoch 1/50\n"
          ]
        }
      ],
      "source": [
        "model.fit(x_train,y_train,epochs=50,batch_size=32)"
      ]
    },
    {
      "cell_type": "code",
      "execution_count": null,
      "metadata": {
        "id": "sB9RGXy-favb"
      },
      "outputs": [],
      "source": [
        "train_pred=model.predict(x_train)"
      ]
    },
    {
      "cell_type": "code",
      "source": [
        "train_pred"
      ],
      "metadata": {
        "id": "FokSi_txijgJ"
      },
      "execution_count": null,
      "outputs": []
    },
    {
      "cell_type": "code",
      "source": [
        " y_train"
      ],
      "metadata": {
        "id": "e2HXAO_ginZH"
      },
      "execution_count": null,
      "outputs": []
    }
  ],
  "metadata": {
    "kernelspec": {
      "display_name": "base",
      "language": "python",
      "name": "python3"
    },
    "language_info": {
      "codemirror_mode": {
        "name": "ipython",
        "version": 3
      },
      "file_extension": ".py",
      "mimetype": "text/x-python",
      "name": "python",
      "nbconvert_exporter": "python",
      "pygments_lexer": "ipython3",
      "version": "3.9.13"
    },
    "orig_nbformat": 4,
    "vscode": {
      "interpreter": {
        "hash": "3b41cfa5255bee4fd2dc8b76f2ffcd9e273dab5b3dca4d1b25887bf92f15abae"
      }
    },
    "colab": {
      "provenance": []
    }
  },
  "nbformat": 4,
  "nbformat_minor": 0
}