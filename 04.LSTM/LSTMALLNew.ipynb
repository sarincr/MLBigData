{
  "nbformat": 4,
  "nbformat_minor": 0,
  "metadata": {
    "colab": {
      "provenance": []
    },
    "kernelspec": {
      "name": "python3",
      "display_name": "Python 3"
    }
  },
  "cells": [
    {
      "cell_type": "code",
      "metadata": {
        "id": "3MHNgQOnLU2Q"
      },
      "source": [
        "import pandas as pd\n",
        "import keras\n",
        "import numpy as np\n",
        "from sklearn import preprocessing\n",
        "from sklearn.model_selection import train_test_split\n",
        "from keras.models import Sequential\n",
        "from keras.layers import Dense\n",
        "from keras.models import load_model\n",
        "import tensorflow as tf\n",
        "from sklearn.metrics import mean_squared_error \n",
        "import keras\n",
        "import numpy as np\n",
        "import pandas as pd\n",
        "import matplotlib.pyplot as plt\n",
        "import seaborn as sns\n"
      ],
      "execution_count": 1,
      "outputs": []
    },
    {
      "cell_type": "code",
      "metadata": {
        "id": "BD1xL900LcOO"
      },
      "source": [
        "df = pd.read_excel(\"DOE.xlsx\", index_col=0)\n",
        "dataset = df.values"
      ],
      "execution_count": 2,
      "outputs": []
    },
    {
      "cell_type": "code",
      "source": [
        "X = dataset[:,1:4]\n",
        "Y = dataset[:,-3]"
      ],
      "metadata": {
        "id": "G9nRelOHD-T6"
      },
      "execution_count": 3,
      "outputs": []
    },
    {
      "cell_type": "code",
      "metadata": {
        "colab": {
          "base_uri": "https://localhost:8080/"
        },
        "id": "mWtdcFsqL759",
        "outputId": "4ecab4c1-d501-43e9-d1c8-9c94677e2e5a"
      },
      "source": [
        "model = keras.models.Sequential()\n",
        "model.add(keras.layers.Dense(1000, activation='relu', input_shape=(3,)))\n",
        "model.add(keras.layers.Dense(800, activation='relu'))\n",
        "model.add(keras.layers.Dense(600, activation='relu'))\n",
        "model.add(keras.layers.Dense(400, activation='relu'))\n",
        "model.add(keras.layers.Dense(200, activation='relu'))\n",
        "model.add(keras.layers.Dense(100, activation='relu'))\n",
        "model.add(keras.layers.Dense(50, activation='relu'))\n",
        "model.add(keras.layers.Dense(25, activation='relu'))\n",
        "model.add(keras.layers.Dense(10, activation='relu'))\n",
        "model.add(keras.layers.Dense(1))\n",
        "model.compile(optimizer='adam', loss=tf.keras.losses.MeanAbsolutePercentageError())\n",
        "hist = model.fit(X, Y,batch_size=10, epochs=100, validation_data=(X,Y))\n",
        "y_pred = model.predict(X)"
      ],
      "execution_count": null,
      "outputs": [
        {
          "output_type": "stream",
          "name": "stdout",
          "text": [
            "Epoch 1/100\n",
            "3/3 [==============================] - 9s 474ms/step - loss: 87.8050 - val_loss: 42.7301\n",
            "Epoch 2/100\n",
            "3/3 [==============================] - 0s 92ms/step - loss: 33.6516 - val_loss: 33.6531\n",
            "Epoch 3/100\n",
            "3/3 [==============================] - 0s 71ms/step - loss: 30.1727 - val_loss: 27.7320\n",
            "Epoch 4/100\n",
            "3/3 [==============================] - 0s 78ms/step - loss: 27.1090 - val_loss: 30.4433\n",
            "Epoch 5/100\n",
            "3/3 [==============================] - 0s 80ms/step - loss: 18.3109 - val_loss: 13.6740\n",
            "Epoch 6/100\n",
            "3/3 [==============================] - 0s 151ms/step - loss: 11.0290 - val_loss: 11.4981\n",
            "Epoch 7/100\n",
            "3/3 [==============================] - 0s 48ms/step - loss: 11.7645 - val_loss: 7.1698\n",
            "Epoch 8/100\n",
            "3/3 [==============================] - 0s 42ms/step - loss: 7.9361 - val_loss: 9.8615\n",
            "Epoch 9/100\n",
            "3/3 [==============================] - 0s 47ms/step - loss: 9.5209 - val_loss: 13.3715\n",
            "Epoch 10/100\n",
            "3/3 [==============================] - 0s 64ms/step - loss: 13.0832 - val_loss: 10.0888\n",
            "Epoch 11/100\n",
            "3/3 [==============================] - 0s 41ms/step - loss: 13.2926 - val_loss: 5.7340\n",
            "Epoch 12/100\n",
            "3/3 [==============================] - 0s 68ms/step - loss: 12.3198 - val_loss: 11.7880\n",
            "Epoch 13/100\n",
            "3/3 [==============================] - 0s 90ms/step - loss: 8.2974 - val_loss: 7.7321\n",
            "Epoch 14/100\n",
            "3/3 [==============================] - 0s 63ms/step - loss: 5.3616 - val_loss: 2.8119\n",
            "Epoch 15/100\n",
            "3/3 [==============================] - 0s 63ms/step - loss: 2.3676 - val_loss: 3.7140\n",
            "Epoch 16/100\n",
            "3/3 [==============================] - 0s 66ms/step - loss: 3.1382 - val_loss: 2.3641\n",
            "Epoch 17/100\n",
            "3/3 [==============================] - 0s 60ms/step - loss: 2.2465 - val_loss: 1.8251\n",
            "Epoch 18/100\n",
            "3/3 [==============================] - 0s 63ms/step - loss: 3.4614 - val_loss: 5.6391\n",
            "Epoch 19/100\n",
            "3/3 [==============================] - 0s 70ms/step - loss: 4.1276 - val_loss: 14.7958\n",
            "Epoch 20/100\n",
            "3/3 [==============================] - 0s 65ms/step - loss: 13.7874 - val_loss: 7.5042\n",
            "Epoch 21/100\n",
            "3/3 [==============================] - 0s 59ms/step - loss: 11.1593 - val_loss: 4.8094\n",
            "Epoch 22/100\n",
            "3/3 [==============================] - 0s 60ms/step - loss: 9.7037 - val_loss: 10.5034\n",
            "Epoch 23/100\n",
            "3/3 [==============================] - 0s 63ms/step - loss: 5.9680 - val_loss: 4.2976\n",
            "Epoch 24/100\n",
            "3/3 [==============================] - 0s 63ms/step - loss: 5.2598 - val_loss: 2.6791\n",
            "Epoch 25/100\n",
            "3/3 [==============================] - 0s 71ms/step - loss: 2.2631 - val_loss: 1.5088\n",
            "Epoch 26/100\n",
            "3/3 [==============================] - 0s 58ms/step - loss: 2.2912 - val_loss: 4.8929\n",
            "Epoch 27/100\n",
            "3/3 [==============================] - 0s 54ms/step - loss: 4.0287 - val_loss: 5.9536\n",
            "Epoch 28/100\n",
            "3/3 [==============================] - 0s 42ms/step - loss: 5.6671 - val_loss: 12.5327\n",
            "Epoch 29/100\n",
            "3/3 [==============================] - 0s 46ms/step - loss: 9.3898 - val_loss: 13.1705\n",
            "Epoch 30/100\n",
            "3/3 [==============================] - 0s 44ms/step - loss: 10.5568 - val_loss: 8.7223\n",
            "Epoch 31/100\n",
            "3/3 [==============================] - 0s 41ms/step - loss: 11.1964 - val_loss: 2.0845\n",
            "Epoch 32/100\n",
            "3/3 [==============================] - 0s 45ms/step - loss: 3.9698 - val_loss: 3.5128\n",
            "Epoch 33/100\n",
            "3/3 [==============================] - 0s 46ms/step - loss: 2.7373 - val_loss: 3.7586\n",
            "Epoch 34/100\n",
            "3/3 [==============================] - 0s 44ms/step - loss: 2.1646 - val_loss: 2.9426\n",
            "Epoch 35/100\n",
            "3/3 [==============================] - 0s 45ms/step - loss: 1.9689 - val_loss: 2.1821\n",
            "Epoch 36/100\n",
            "3/3 [==============================] - 0s 47ms/step - loss: 1.3807 - val_loss: 1.5234\n",
            "Epoch 37/100\n",
            "3/3 [==============================] - 0s 40ms/step - loss: 1.1048 - val_loss: 2.8580\n",
            "Epoch 38/100\n",
            "3/3 [==============================] - 0s 44ms/step - loss: 2.6080 - val_loss: 1.6246\n",
            "Epoch 39/100\n",
            "3/3 [==============================] - 0s 40ms/step - loss: 1.7905 - val_loss: 1.9129\n",
            "Epoch 40/100\n",
            "3/3 [==============================] - 0s 38ms/step - loss: 1.8677 - val_loss: 1.1239\n",
            "Epoch 41/100\n",
            "3/3 [==============================] - 0s 41ms/step - loss: 1.7438 - val_loss: 0.5976\n",
            "Epoch 42/100\n",
            "3/3 [==============================] - 0s 49ms/step - loss: 1.3967 - val_loss: 0.8297\n",
            "Epoch 43/100\n"
          ]
        }
      ]
    },
    {
      "cell_type": "code",
      "metadata": {
        "id": "7D6Jjdqd33Go"
      },
      "source": [],
      "execution_count": null,
      "outputs": []
    }
  ]
}