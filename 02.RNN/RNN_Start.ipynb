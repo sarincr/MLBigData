{
  "cells": [
    {
      "cell_type": "code",
      "execution_count": null,
      "metadata": {
        "id": "iNRWH6mdWV0D"
      },
      "outputs": [],
      "source": [
        "import pandas as pd\n",
        "import numpy as np\n",
        "from keras.models import Sequential\n",
        "from keras.layers import Dense, SimpleRNN,LSTM,Dropout\n",
        "from sklearn.preprocessing import MinMaxScaler,StandardScaler\n",
        "from sklearn.metrics import mean_squared_error\n",
        "import math\n",
        "import matplotlib.pyplot as plt\n",
        "import plotly.express as px"
      ]
    },
    {
      "cell_type": "code",
      "execution_count": null,
      "metadata": {
        "id": "VQ8mX_2sWV0F"
      },
      "outputs": [],
      "source": [
        "hidden_units=50\n",
        "input_shape=(3,1)\n",
        "\n",
        "model=Sequential()\n",
        "\n",
        "model.add(SimpleRNN(100,input_shape=input_shape,return_sequences=True,activation='tanh'))\n",
        "model.add(Dropout(0.2))\n",
        "model.add(SimpleRNN(80,return_sequences=True))\n",
        "model.add(Dropout(0.2))\n",
        "model.add(SimpleRNN(60,return_sequences=True))\n",
        "model.add(Dropout(0.2))\n",
        "model.add(SimpleRNN(90,return_sequences=True))\n",
        "model.add(Dropout(0.2))\n",
        "model.add(SimpleRNN(60,return_sequences=True))\n",
        "model.add(Dropout(0.2))\n",
        "model.add(SimpleRNN(80,return_sequences=True))\n",
        "model.add(Dropout(0.2))\n",
        "model.add(SimpleRNN(20))\n",
        "model.add(Dropout(0.2))\n",
        "model.add(Dense(units=1,activation='tanh'))\n",
        "model.compile(loss='mean_squared_error',optimizer='adam')"
      ]
    },
    {
      "cell_type": "code",
      "source": [
        "data=pd.read_csv('graph.csv')\n",
        "xtrain=data.iloc[0:190,0:1].values\n",
        "ytrain=data.iloc[0:190,1].values\n",
        "xtest=data.iloc[190:220,0:1].values\n",
        "ytest=data.iloc[190:220,1].values"
      ],
      "metadata": {
        "id": "uBNxyt8AqeyX"
      },
      "execution_count": null,
      "outputs": []
    },
    {
      "cell_type": "code",
      "execution_count": null,
      "metadata": {
        "id": "Xaj5bXaYWV0G",
        "outputId": "20140ad3-a892-4b39-928d-582e422e51f5",
        "colab": {
          "base_uri": "https://localhost:8080/"
        }
      },
      "outputs": [
        {
          "output_type": "stream",
          "name": "stdout",
          "text": [
            "Epoch 1/40\n"
          ]
        },
        {
          "output_type": "stream",
          "name": "stderr",
          "text": [
            "WARNING:tensorflow:Model was constructed with shape (None, 3, 1) for input KerasTensor(type_spec=TensorSpec(shape=(None, 3, 1), dtype=tf.float32, name='simple_rnn_input'), name='simple_rnn_input', description=\"created by layer 'simple_rnn_input'\"), but it was called on an input with incompatible shape (None, 1, 1).\n",
            "WARNING:tensorflow:Model was constructed with shape (None, 3, 1) for input KerasTensor(type_spec=TensorSpec(shape=(None, 3, 1), dtype=tf.float32, name='simple_rnn_input'), name='simple_rnn_input', description=\"created by layer 'simple_rnn_input'\"), but it was called on an input with incompatible shape (None, 1, 1).\n"
          ]
        },
        {
          "output_type": "stream",
          "name": "stdout",
          "text": [
            "6/6 [==============================] - 17s 10ms/step - loss: 78350.2422\n",
            "Epoch 2/40\n",
            "6/6 [==============================] - 0s 10ms/step - loss: 78154.3750\n",
            "Epoch 3/40\n",
            "6/6 [==============================] - 0s 9ms/step - loss: 78142.6719\n",
            "Epoch 4/40\n",
            "6/6 [==============================] - 0s 8ms/step - loss: 78138.6406\n",
            "Epoch 5/40\n",
            "6/6 [==============================] - 0s 8ms/step - loss: 78138.0000\n",
            "Epoch 6/40\n",
            "6/6 [==============================] - 0s 8ms/step - loss: 78137.7578\n",
            "Epoch 7/40\n",
            "6/6 [==============================] - 0s 8ms/step - loss: 78137.7500\n",
            "Epoch 8/40\n",
            "6/6 [==============================] - 0s 8ms/step - loss: 78137.1172\n",
            "Epoch 9/40\n",
            "6/6 [==============================] - 0s 8ms/step - loss: 78137.3594\n",
            "Epoch 10/40\n",
            "6/6 [==============================] - 0s 8ms/step - loss: 78136.9609\n",
            "Epoch 11/40\n",
            "6/6 [==============================] - 0s 10ms/step - loss: 78137.1406\n",
            "Epoch 12/40\n",
            "6/6 [==============================] - 0s 8ms/step - loss: 78137.0703\n",
            "Epoch 13/40\n",
            "6/6 [==============================] - 0s 10ms/step - loss: 78136.9141\n",
            "Epoch 14/40\n",
            "6/6 [==============================] - 0s 8ms/step - loss: 78137.0078\n",
            "Epoch 15/40\n",
            "6/6 [==============================] - 0s 8ms/step - loss: 78137.1562\n",
            "Epoch 16/40\n",
            "6/6 [==============================] - 0s 8ms/step - loss: 78136.8594\n",
            "Epoch 17/40\n",
            "6/6 [==============================] - 0s 9ms/step - loss: 78137.0391\n",
            "Epoch 18/40\n",
            "6/6 [==============================] - 0s 10ms/step - loss: 78136.9375\n",
            "Epoch 19/40\n",
            "6/6 [==============================] - 0s 8ms/step - loss: 78136.9297\n",
            "Epoch 20/40\n",
            "6/6 [==============================] - 0s 8ms/step - loss: 78136.8438\n",
            "Epoch 21/40\n",
            "6/6 [==============================] - 0s 8ms/step - loss: 78136.8672\n",
            "Epoch 22/40\n",
            "6/6 [==============================] - 0s 10ms/step - loss: 78136.6875\n",
            "Epoch 23/40\n",
            "6/6 [==============================] - 0s 9ms/step - loss: 78136.7656\n",
            "Epoch 24/40\n",
            "6/6 [==============================] - 0s 8ms/step - loss: 78136.7656\n",
            "Epoch 25/40\n",
            "6/6 [==============================] - 0s 8ms/step - loss: 78136.6484\n",
            "Epoch 26/40\n",
            "6/6 [==============================] - 0s 9ms/step - loss: 78136.6641\n",
            "Epoch 27/40\n",
            "6/6 [==============================] - 0s 9ms/step - loss: 78136.5859\n",
            "Epoch 28/40\n",
            "6/6 [==============================] - 0s 12ms/step - loss: 78136.6875\n",
            "Epoch 29/40\n",
            "6/6 [==============================] - 0s 8ms/step - loss: 78136.7812\n",
            "Epoch 30/40\n",
            "6/6 [==============================] - 0s 8ms/step - loss: 78136.6406\n",
            "Epoch 31/40\n",
            "6/6 [==============================] - 0s 8ms/step - loss: 78136.5781\n",
            "Epoch 32/40\n",
            "6/6 [==============================] - 0s 9ms/step - loss: 78136.5469\n",
            "Epoch 33/40\n",
            "6/6 [==============================] - 0s 8ms/step - loss: 78136.5938\n",
            "Epoch 34/40\n",
            "6/6 [==============================] - 0s 8ms/step - loss: 78136.7344\n",
            "Epoch 35/40\n",
            "6/6 [==============================] - 0s 8ms/step - loss: 78136.6719\n",
            "Epoch 36/40\n",
            "6/6 [==============================] - 0s 9ms/step - loss: 78136.5625\n",
            "Epoch 37/40\n",
            "6/6 [==============================] - 0s 8ms/step - loss: 78136.6641\n",
            "Epoch 38/40\n",
            "6/6 [==============================] - 0s 9ms/step - loss: 78136.5234\n",
            "Epoch 39/40\n",
            "6/6 [==============================] - 0s 8ms/step - loss: 78136.5078\n",
            "Epoch 40/40\n",
            "6/6 [==============================] - 0s 10ms/step - loss: 78136.5156\n"
          ]
        },
        {
          "output_type": "execute_result",
          "data": {
            "text/plain": [
              "<keras.callbacks.History at 0x7feef6ef47c0>"
            ]
          },
          "metadata": {},
          "execution_count": 4
        }
      ],
      "source": [
        "model.fit(xtrain,ytrain,epochs=40,batch_size=32)"
      ]
    },
    {
      "cell_type": "code",
      "execution_count": null,
      "metadata": {
        "id": "6tgd_bRuWV0H",
        "outputId": "77ee1608-fada-45de-cc17-05cc7aef7370",
        "colab": {
          "base_uri": "https://localhost:8080/"
        }
      },
      "outputs": [
        {
          "output_type": "stream",
          "name": "stderr",
          "text": [
            "WARNING:tensorflow:Model was constructed with shape (None, 3, 1) for input KerasTensor(type_spec=TensorSpec(shape=(None, 3, 1), dtype=tf.float32, name='simple_rnn_input'), name='simple_rnn_input', description=\"created by layer 'simple_rnn_input'\"), but it was called on an input with incompatible shape (None, 1, 1).\n"
          ]
        },
        {
          "output_type": "stream",
          "name": "stdout",
          "text": [
            "6/6 [==============================] - 1s 4ms/step\n"
          ]
        }
      ],
      "source": [
        "test_pred=model.predict(xtrain)"
      ]
    },
    {
      "cell_type": "code",
      "source": [
        "test_pred"
      ],
      "metadata": {
        "id": "iJyf1trWXcWp",
        "outputId": "e4ea679b-e1e9-4843-fe9e-48681fde192f",
        "colab": {
          "base_uri": "https://localhost:8080/"
        }
      },
      "execution_count": null,
      "outputs": [
        {
          "output_type": "execute_result",
          "data": {
            "text/plain": [
              "array([[0.999798  ],\n",
              "       [0.9997981 ],\n",
              "       [0.99979806],\n",
              "       [0.9997981 ],\n",
              "       [0.99979806],\n",
              "       [0.9997981 ],\n",
              "       [0.9997981 ],\n",
              "       [0.9997981 ],\n",
              "       [0.99979806],\n",
              "       [0.99979806],\n",
              "       [0.9997981 ],\n",
              "       [0.99979794],\n",
              "       [0.9997981 ],\n",
              "       [0.9997982 ],\n",
              "       [0.99979794],\n",
              "       [0.9997981 ],\n",
              "       [0.999798  ],\n",
              "       [0.9997981 ],\n",
              "       [0.99979806],\n",
              "       [0.99979806],\n",
              "       [0.99979806],\n",
              "       [0.99979794],\n",
              "       [0.999798  ],\n",
              "       [0.999798  ],\n",
              "       [0.99979806],\n",
              "       [0.99979794],\n",
              "       [0.99979794],\n",
              "       [0.999798  ],\n",
              "       [0.99979794],\n",
              "       [0.99979806],\n",
              "       [0.99979794],\n",
              "       [0.99979794],\n",
              "       [0.999798  ],\n",
              "       [0.99979806],\n",
              "       [0.99979794],\n",
              "       [0.999798  ],\n",
              "       [0.99979794],\n",
              "       [0.99979806],\n",
              "       [0.999798  ],\n",
              "       [0.999798  ],\n",
              "       [0.999798  ],\n",
              "       [0.999798  ],\n",
              "       [0.99979806],\n",
              "       [0.99979794],\n",
              "       [0.999798  ],\n",
              "       [0.99979806],\n",
              "       [0.999798  ],\n",
              "       [0.99979794],\n",
              "       [0.9997979 ],\n",
              "       [0.9997979 ],\n",
              "       [0.99979806],\n",
              "       [0.999798  ],\n",
              "       [0.999798  ],\n",
              "       [0.999798  ],\n",
              "       [0.999798  ],\n",
              "       [0.999798  ],\n",
              "       [0.999798  ],\n",
              "       [0.9997979 ],\n",
              "       [0.999798  ],\n",
              "       [0.999798  ],\n",
              "       [0.999798  ],\n",
              "       [0.99979794],\n",
              "       [0.999798  ],\n",
              "       [0.99979806],\n",
              "       [0.99979806],\n",
              "       [0.999798  ],\n",
              "       [0.999798  ],\n",
              "       [0.999798  ],\n",
              "       [0.9997979 ],\n",
              "       [0.999798  ],\n",
              "       [0.999798  ],\n",
              "       [0.999798  ],\n",
              "       [0.999798  ],\n",
              "       [0.9997979 ],\n",
              "       [0.999798  ],\n",
              "       [0.99979794],\n",
              "       [0.999798  ],\n",
              "       [0.99979794],\n",
              "       [0.999798  ],\n",
              "       [0.9997979 ],\n",
              "       [0.99979794],\n",
              "       [0.999798  ],\n",
              "       [0.9997978 ],\n",
              "       [0.9997979 ],\n",
              "       [0.99979776],\n",
              "       [0.99979794],\n",
              "       [0.99979794],\n",
              "       [0.9997979 ],\n",
              "       [0.9997978 ],\n",
              "       [0.99979794],\n",
              "       [0.9997979 ],\n",
              "       [0.9997979 ],\n",
              "       [0.9997978 ],\n",
              "       [0.9997978 ],\n",
              "       [0.99979776],\n",
              "       [0.9997979 ],\n",
              "       [0.99979776],\n",
              "       [0.9997979 ],\n",
              "       [0.99979764],\n",
              "       [0.99979764],\n",
              "       [0.9997975 ],\n",
              "       [0.99979764],\n",
              "       [0.9997977 ],\n",
              "       [0.9997977 ],\n",
              "       [0.9997974 ],\n",
              "       [0.9997976 ],\n",
              "       [0.9997975 ],\n",
              "       [0.9997975 ],\n",
              "       [0.9997975 ],\n",
              "       [0.9997975 ],\n",
              "       [0.9997973 ],\n",
              "       [0.9997972 ],\n",
              "       [0.9997971 ],\n",
              "       [0.99979705],\n",
              "       [0.99979705],\n",
              "       [0.9997975 ],\n",
              "       [0.9997977 ],\n",
              "       [0.99979764],\n",
              "       [0.99979776],\n",
              "       [0.99979776],\n",
              "       [0.9997978 ],\n",
              "       [0.99979776],\n",
              "       [0.99979776],\n",
              "       [0.9997978 ],\n",
              "       [0.9997978 ],\n",
              "       [0.99979764],\n",
              "       [0.9997976 ],\n",
              "       [0.9997977 ],\n",
              "       [0.9997977 ],\n",
              "       [0.9997978 ],\n",
              "       [0.9997979 ],\n",
              "       [0.9997979 ],\n",
              "       [0.99979776],\n",
              "       [0.9997977 ],\n",
              "       [0.9997978 ],\n",
              "       [0.99979764],\n",
              "       [0.99979776],\n",
              "       [0.9997978 ],\n",
              "       [0.9997978 ],\n",
              "       [0.9997979 ],\n",
              "       [0.99979794],\n",
              "       [0.9997978 ],\n",
              "       [0.9997979 ],\n",
              "       [0.999798  ],\n",
              "       [0.99979806],\n",
              "       [0.9997982 ],\n",
              "       [0.9997981 ],\n",
              "       [0.9997981 ],\n",
              "       [0.99979794],\n",
              "       [0.9997981 ],\n",
              "       [0.99979806],\n",
              "       [0.99979794],\n",
              "       [0.9997981 ],\n",
              "       [0.99979794],\n",
              "       [0.99979806],\n",
              "       [0.999798  ],\n",
              "       [0.9997981 ],\n",
              "       [0.999798  ],\n",
              "       [0.99979794],\n",
              "       [0.9997981 ],\n",
              "       [0.9997981 ],\n",
              "       [0.9997982 ],\n",
              "       [0.99979794],\n",
              "       [0.9997981 ],\n",
              "       [0.9997981 ],\n",
              "       [0.9997982 ],\n",
              "       [0.99979806],\n",
              "       [0.9997982 ],\n",
              "       [0.99979806],\n",
              "       [0.9997982 ],\n",
              "       [0.9997981 ],\n",
              "       [0.999798  ],\n",
              "       [0.99979806],\n",
              "       [0.9997981 ],\n",
              "       [0.9997981 ],\n",
              "       [0.99979806],\n",
              "       [0.99979794],\n",
              "       [0.99979806],\n",
              "       [0.99979806],\n",
              "       [0.9997982 ],\n",
              "       [0.9997981 ],\n",
              "       [0.9997981 ],\n",
              "       [0.9997981 ],\n",
              "       [0.9997981 ],\n",
              "       [0.99979806],\n",
              "       [0.99979806],\n",
              "       [0.99979806],\n",
              "       [0.9997982 ],\n",
              "       [0.9997981 ],\n",
              "       [0.9997982 ]], dtype=float32)"
            ]
          },
          "metadata": {},
          "execution_count": 6
        }
      ]
    },
    {
      "cell_type": "code",
      "source": [
        "ytest"
      ],
      "metadata": {
        "id": "QGLEIZRzXirV",
        "outputId": "c05aeec5-a224-4dc6-a82e-7ecc59fc45f0",
        "colab": {
          "base_uri": "https://localhost:8080/"
        }
      },
      "execution_count": null,
      "outputs": [
        {
          "output_type": "execute_result",
          "data": {
            "text/plain": [
              "array([487.5799087, 490.1461187, 492.7123288, 495.2785388, 497.8447489,\n",
              "       500.4109589, 502.9771689, 505.543379 , 508.109589 , 510.6757991,\n",
              "       513.2420091, 515.8082192, 518.3744292, 520.9406393, 523.5068493,\n",
              "       526.0730594, 528.6392694, 531.2054795, 533.7716895, 536.3378995,\n",
              "       538.9041096, 541.4703196, 544.0365297, 546.6027397, 549.1689498,\n",
              "       551.7351598, 554.3013699, 556.8675799, 559.43379  , 562.       ])"
            ]
          },
          "metadata": {},
          "execution_count": 7
        }
      ]
    },
    {
      "cell_type": "code",
      "source": [],
      "metadata": {
        "id": "RkfRWGcJvnO7"
      },
      "execution_count": null,
      "outputs": []
    }
  ],
  "metadata": {
    "kernelspec": {
      "display_name": "base",
      "language": "python",
      "name": "python3"
    },
    "language_info": {
      "codemirror_mode": {
        "name": "ipython",
        "version": 3
      },
      "file_extension": ".py",
      "mimetype": "text/x-python",
      "name": "python",
      "nbconvert_exporter": "python",
      "pygments_lexer": "ipython3",
      "version": "3.9.13"
    },
    "orig_nbformat": 4,
    "vscode": {
      "interpreter": {
        "hash": "3b41cfa5255bee4fd2dc8b76f2ffcd9e273dab5b3dca4d1b25887bf92f15abae"
      }
    },
    "colab": {
      "provenance": []
    }
  },
  "nbformat": 4,
  "nbformat_minor": 0
}