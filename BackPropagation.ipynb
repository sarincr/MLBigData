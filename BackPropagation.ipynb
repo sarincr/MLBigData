{
  "cells": [
    {
      "cell_type": "code",
      "execution_count": 1,
      "metadata": {
        "id": "MdWkDe0Vlxxl"
      },
      "outputs": [],
      "source": [
        "import numpy as np"
      ]
    },
    {
      "cell_type": "code",
      "execution_count": 2,
      "metadata": {
        "colab": {
          "base_uri": "https://localhost:8080/"
        },
        "id": "g_hPttNwgmSF",
        "outputId": "44405540-c981-429b-ba5e-04317a310bad"
      },
      "outputs": [
        {
          "output_type": "execute_result",
          "data": {
            "text/plain": [
              "array([[0.66666667, 1.        ],\n",
              "       [0.33333333, 0.55555556],\n",
              "       [1.        , 0.66666667]])"
            ]
          },
          "metadata": {},
          "execution_count": 2
        }
      ],
      "source": [
        "X = np.array(([2, 9], [1, 5], [3, 6]), dtype=float)\n",
        "X=X/np.amax(X,axis=0)\n",
        "X"
      ]
    },
    {
      "cell_type": "code",
      "execution_count": 3,
      "metadata": {
        "id": "cVlM-K_ngtta",
        "outputId": "5aa3a0f7-b6b5-4299-ea1e-828817fdb0c7",
        "colab": {
          "base_uri": "https://localhost:8080/"
        }
      },
      "outputs": [
        {
          "output_type": "execute_result",
          "data": {
            "text/plain": [
              "array([[0.92],\n",
              "       [0.86],\n",
              "       [0.89]])"
            ]
          },
          "metadata": {},
          "execution_count": 3
        }
      ],
      "source": [
        "y =  np.array(([92], [86], [89]), dtype=float)/100\n",
        "y"
      ]
    },
    {
      "cell_type": "code",
      "execution_count": 4,
      "metadata": {
        "id": "qB9bwFU3gx-h"
      },
      "outputs": [],
      "source": [
        "#Sigmoid Function\n",
        "def sigmoid (x):\n",
        "    return 1/(1 + np.exp(-x))"
      ]
    },
    {
      "cell_type": "code",
      "execution_count": 5,
      "metadata": {
        "id": "qFkuT3Sfg6zi"
      },
      "outputs": [],
      "source": [
        "#Derivative of Sigmoid Function\n",
        "def derivatives_sigmoid(x):\n",
        "    return x * (1 - x)"
      ]
    },
    {
      "cell_type": "code",
      "execution_count": 6,
      "metadata": {
        "id": "BbEgV4_Mg8mG"
      },
      "outputs": [],
      "source": [
        "#Variable initialization\n",
        "epoch=5 #Setting training iterations\n",
        "lr=0.1 #Setting learning rate"
      ]
    },
    {
      "cell_type": "code",
      "execution_count": 7,
      "metadata": {
        "id": "mSKBM90ig-Q9"
      },
      "outputs": [],
      "source": [
        "inputlayer_neurons = 2 #number of features in data set\n",
        "hiddenlayer_neurons = 3 #number of hidden layers neurons\n",
        "output_neurons = 1 #number of neurons at output layer"
      ]
    },
    {
      "cell_type": "markdown",
      "metadata": {
        "id": "5ULiZY3Nh8M1"
      },
      "source": [
        "![image.png](data:image/png;base64,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)"
      ]
    },
    {
      "cell_type": "code",
      "execution_count": 8,
      "metadata": {
        "id": "KFTuv_RDhD0w",
        "outputId": "8cd3898e-3f51-49a3-99b7-0ae7e84b1273",
        "colab": {
          "base_uri": "https://localhost:8080/"
        }
      },
      "outputs": [
        {
          "output_type": "stream",
          "name": "stdout",
          "text": [
            "[[0.35421445 0.30090662 0.88075615]\n",
            " [0.23612813 0.16265979 0.67804109]]\n"
          ]
        }
      ],
      "source": [
        "#weight and bias initialization\n",
        "import numpy as np\n",
        "wh=np.random.uniform(size=(inputlayer_neurons,hiddenlayer_neurons))\n",
        "bh=np.random.uniform(size=(1,hiddenlayer_neurons))\n",
        "wout=np.random.uniform(size=(hiddenlayer_neurons,output_neurons))\n",
        "bout=np.random.uniform(size=(1,output_neurons))\n",
        "print(wh)"
      ]
    },
    {
      "cell_type": "code",
      "execution_count": 9,
      "metadata": {
        "colab": {
          "base_uri": "https://localhost:8080/"
        },
        "id": "eO52BKq3hIvB",
        "outputId": "ad663399-be3d-4daf-9d51-5e699aa40462"
      },
      "outputs": [
        {
          "output_type": "stream",
          "name": "stdout",
          "text": [
            "[[0.21304611 0.03502161 0.73290694]]\n"
          ]
        }
      ],
      "source": [
        "print(bh)"
      ]
    },
    {
      "cell_type": "code",
      "execution_count": 10,
      "metadata": {
        "colab": {
          "base_uri": "https://localhost:8080/"
        },
        "id": "OGLsEs7IhK_-",
        "outputId": "39e96bad-89cc-4fec-c690-fc0b99705030"
      },
      "outputs": [
        {
          "output_type": "execute_result",
          "data": {
            "text/plain": [
              "array([[0.50832608],\n",
              "       [0.02440303],\n",
              "       [0.65247183]])"
            ]
          },
          "metadata": {},
          "execution_count": 10
        }
      ],
      "source": [
        "wout"
      ]
    },
    {
      "cell_type": "code",
      "execution_count": 11,
      "metadata": {
        "colab": {
          "base_uri": "https://localhost:8080/"
        },
        "id": "KmeynAQhhV1i",
        "outputId": "bf972496-571f-4b99-b25d-7ba76d9a4a0f"
      },
      "outputs": [
        {
          "output_type": "execute_result",
          "data": {
            "text/plain": [
              "array([[0.69126383]])"
            ]
          },
          "metadata": {},
          "execution_count": 11
        }
      ],
      "source": [
        "bout"
      ]
    },
    {
      "cell_type": "code",
      "execution_count": 12,
      "metadata": {
        "colab": {
          "base_uri": "https://localhost:8080/"
        },
        "id": "rg9zUrLRhXey",
        "outputId": "f5ac6a22-31af-40e7-ec90-1c3c755c12d9"
      },
      "outputs": [
        {
          "output_type": "stream",
          "name": "stdout",
          "text": [
            "-----------Epoch- 1 Starts----------\n",
            "Input: \n",
            "[[0.66666667 1.        ]\n",
            " [0.33333333 0.55555556]\n",
            " [1.         0.66666667]]\n",
            "Actual Output: \n",
            "[[0.92]\n",
            " [0.86]\n",
            " [0.89]]\n",
            "Predicted Output: \n",
            " [[0.83457826]\n",
            " [0.82353105]\n",
            " [0.83584659]]\n",
            "-----------Epoch- 1 Ends----------\n",
            "\n",
            "-----------Epoch- 2 Starts----------\n",
            "Input: \n",
            "[[0.66666667 1.        ]\n",
            " [0.33333333 0.55555556]\n",
            " [1.         0.66666667]]\n",
            "Actual Output: \n",
            "[[0.92]\n",
            " [0.86]\n",
            " [0.89]]\n",
            "Predicted Output: \n",
            " [[0.8351112 ]\n",
            " [0.82404429]\n",
            " [0.83638196]]\n",
            "-----------Epoch- 2 Ends----------\n",
            "\n",
            "-----------Epoch- 3 Starts----------\n",
            "Input: \n",
            "[[0.66666667 1.        ]\n",
            " [0.33333333 0.55555556]\n",
            " [1.         0.66666667]]\n",
            "Actual Output: \n",
            "[[0.92]\n",
            " [0.86]\n",
            " [0.89]]\n",
            "Predicted Output: \n",
            " [[0.83563677]\n",
            " [0.82455057]\n",
            " [0.83690991]]\n",
            "-----------Epoch- 3 Ends----------\n",
            "\n",
            "-----------Epoch- 4 Starts----------\n",
            "Input: \n",
            "[[0.66666667 1.        ]\n",
            " [0.33333333 0.55555556]\n",
            " [1.         0.66666667]]\n",
            "Actual Output: \n",
            "[[0.92]\n",
            " [0.86]\n",
            " [0.89]]\n",
            "Predicted Output: \n",
            " [[0.83615513]\n",
            " [0.82505002]\n",
            " [0.83743058]]\n",
            "-----------Epoch- 4 Ends----------\n",
            "\n",
            "-----------Epoch- 5 Starts----------\n",
            "Input: \n",
            "[[0.66666667 1.        ]\n",
            " [0.33333333 0.55555556]\n",
            " [1.         0.66666667]]\n",
            "Actual Output: \n",
            "[[0.92]\n",
            " [0.86]\n",
            " [0.89]]\n",
            "Predicted Output: \n",
            " [[0.83666641]\n",
            " [0.82554278]\n",
            " [0.83794412]]\n",
            "-----------Epoch- 5 Ends----------\n",
            "\n"
          ]
        }
      ],
      "source": [
        "for i in range(epoch):\n",
        "    #Forward Propogation\n",
        "    hinp1=np.dot(X,wh)\n",
        "    hinp=hinp1 + bh\n",
        "    hlayer_act = sigmoid(hinp)\n",
        "    outinp1=np.dot(hlayer_act,wout)\n",
        "    outinp= outinp1+bout\n",
        "    output = sigmoid(outinp)\n",
        "    \n",
        "    #Backpropagation\n",
        "    EO = y-output\n",
        "    outgrad = derivatives_sigmoid(output)\n",
        "    d_output = EO * outgrad\n",
        "    EH = d_output.dot(wout.T)\n",
        "    hiddengrad = derivatives_sigmoid(hlayer_act) \n",
        "    d_hiddenlayer = EH * hiddengrad\n",
        "    \n",
        "    wout += hlayer_act.T.dot(d_output) *lr \n",
        "    wh += X.T.dot(d_hiddenlayer) *lr\n",
        "    \n",
        "    print (\"-----------Epoch-\", i+1, \"Starts----------\")\n",
        "    print(\"Input: \\n\" + str(X)) \n",
        "    print(\"Actual Output: \\n\" + str(y))\n",
        "    print(\"Predicted Output: \\n\" ,output)\n",
        "    print (\"-----------Epoch-\", i+1, \"Ends----------\\n\")"
      ]
    },
    {
      "cell_type": "code",
      "execution_count": 13,
      "metadata": {
        "id": "APM68EvGheJi",
        "outputId": "84a72387-b00f-4935-f0bb-6e613b538b2c",
        "colab": {
          "base_uri": "https://localhost:8080/"
        }
      },
      "outputs": [
        {
          "output_type": "stream",
          "name": "stdout",
          "text": [
            "Input: \n",
            "[[0.66666667 1.        ]\n",
            " [0.33333333 0.55555556]\n",
            " [1.         0.66666667]]\n",
            "Actual Output: \n",
            "[[0.92]\n",
            " [0.86]\n",
            " [0.89]]\n",
            "Predicted Output: \n",
            " [[0.83666641]\n",
            " [0.82554278]\n",
            " [0.83794412]]\n"
          ]
        }
      ],
      "source": [
        "print(\"Input: \\n\" + str(X)) \n",
        "print(\"Actual Output: \\n\" + str(y))\n",
        "print(\"Predicted Output: \\n\" ,output)"
      ]
    },
    {
      "cell_type": "code",
      "execution_count": 13,
      "metadata": {
        "id": "Swqi6Mnthhcj"
      },
      "outputs": [],
      "source": []
    }
  ],
  "metadata": {
    "colab": {
      "provenance": []
    },
    "kernelspec": {
      "display_name": "Python 3",
      "name": "python3"
    },
    "language_info": {
      "name": "python"
    }
  },
  "nbformat": 4,
  "nbformat_minor": 0
}