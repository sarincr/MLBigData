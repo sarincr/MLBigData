{
  "nbformat": 4,
  "nbformat_minor": 0,
  "metadata": {
    "colab": {
      "provenance": []
    },
    "kernelspec": {
      "name": "python3",
      "display_name": "Python 3"
    },
    "accelerator": "GPU"
  },
  "cells": [
    {
      "metadata": {
        "id": "4z22Os3z-7OS"
      },
      "cell_type": "code",
      "source": [
        "%matplotlib inline"
      ],
      "execution_count": null,
      "outputs": []
    },
    {
      "metadata": {
        "id": "IqzbDEP__EVR"
      },
      "cell_type": "code",
      "source": [
        "from keras.models import Sequential\n",
        "from keras.layers import Dense, Conv2D, Flatten\n",
        "import matplotlib.pyplot as plt\n",
        "from keras.datasets import mnist\n",
        "from keras.utils import to_categorical"
      ],
      "execution_count": null,
      "outputs": []
    },
    {
      "metadata": {
        "id": "7I6yJNxY_ISt",
        "colab": {
          "base_uri": "https://localhost:8080/"
        },
        "outputId": "d3b90432-b383-4f6a-9f88-df2089113be8"
      },
      "cell_type": "code",
      "source": [
        "#download mnist data and split into train and test sets\n",
        "(X_train, y_train), (X_test, y_test) = mnist.load_data()"
      ],
      "execution_count": null,
      "outputs": [
        {
          "output_type": "stream",
          "name": "stdout",
          "text": [
            "Downloading data from https://storage.googleapis.com/tensorflow/tf-keras-datasets/mnist.npz\n",
            "11490434/11490434 [==============================] - 2s 0us/step\n"
          ]
        }
      ]
    },
    {
      "metadata": {
        "id": "xxLMEdeG_NWK",
        "colab": {
          "base_uri": "https://localhost:8080/",
          "height": 282
        },
        "outputId": "b6442554-baa9-4ca5-9b5e-787030b869ee"
      },
      "cell_type": "code",
      "source": [
        "#plot the first image in the dataset\n",
        "plt.imshow(X_train[0])"
      ],
      "execution_count": null,
      "outputs": [
        {
          "output_type": "execute_result",
          "data": {
            "text/plain": [
              "<matplotlib.image.AxesImage at 0x7fa3f67fe850>"
            ]
          },
          "metadata": {},
          "execution_count": 4
        },
        {
          "output_type": "display_data",
          "data": {
            "text/plain": [
              "<Figure size 432x288 with 1 Axes>"
            ],
            "image/png": "[encoded data removed]"
          },
          "metadata": {
            "needs_background": "light"
          }
        }
      ]
    },
    {
      "metadata": {
        "id": "YMKhJJ64_P0V",
        "colab": {
          "base_uri": "https://localhost:8080/"
        },
        "outputId": "87250796-c805-4f08-9bcf-cb0c3234888d"
      },
      "cell_type": "code",
      "source": [
        "#check image shape\n",
        "X_train[0].shape"
      ],
      "execution_count": null,
      "outputs": [
        {
          "output_type": "execute_result",
          "data": {
            "text/plain": [
              "(28, 28)"
            ]
          },
          "metadata": {},
          "execution_count": 5
        }
      ]
    },
    {
      "metadata": {
        "id": "3bezZovq_WdA"
      },
      "cell_type": "code",
      "source": [
        "#reshape data to fit model\n",
        "X_train = X_train.reshape(60000,28,28,1)\n",
        "X_test = X_test.reshape(10000,28,28,1)"
      ],
      "execution_count": null,
      "outputs": []
    },
    {
      "metadata": {
        "id": "POykGt50_ZA1",
        "colab": {
          "base_uri": "https://localhost:8080/"
        },
        "outputId": "4568f495-9517-435a-8c41-3c07b3ea8e18"
      },
      "cell_type": "code",
      "source": [
        "#one-hot encode target column\n",
        "y_train = to_categorical(y_train)\n",
        "y_test = to_categorical(y_test)\n",
        "\n",
        "y_train[0]"
      ],
      "execution_count": null,
      "outputs": [
        {
          "output_type": "execute_result",
          "data": {
            "text/plain": [
              "array([0., 0., 0., 0., 0., 1., 0., 0., 0., 0.], dtype=float32)"
            ]
          },
          "metadata": {},
          "execution_count": 7
        }
      ]
    },
    {
      "metadata": {
        "id": "XNffsCoE_bUs"
      },
      "cell_type": "code",
      "source": [
        "#create model\n",
        "model = Sequential()\n",
        "\n",
        "#add model layers\n",
        "model.add(Conv2D(64, kernel_size=3, activation='relu', input_shape=(28,28,1)))\n",
        "model.add(Conv2D(32, kernel_size=3, activation='relu'))\n",
        "model.add(Flatten())\n",
        "model.add(Dense(10, activation='softmax'))"
      ],
      "execution_count": null,
      "outputs": []
    },
    {
      "metadata": {
        "id": "YAOg2WXS5mW3"
      },
      "cell_type": "code",
      "source": [
        "#compile model using accuracy as a measure of model performance\n",
        "model.compile(optimizer='adam', loss='categorical_crossentropy', metrics=['accuracy'])"
      ],
      "execution_count": null,
      "outputs": []
    },
    {
      "metadata": {
        "id": "9bRzhcrU_eWU",
        "colab": {
          "base_uri": "https://localhost:8080/"
        },
        "outputId": "8b120511-8f01-4cf7-f3df-f1b7e4e6c9b2"
      },
      "cell_type": "code",
      "source": [
        "#train model\n",
        "model.fit(X_train, y_train,validation_data=(X_test, y_test), epochs=3)"
      ],
      "execution_count": null,
      "outputs": [
        {
          "output_type": "stream",
          "name": "stdout",
          "text": [
            "Epoch 1/3\n",
            "1875/1875 [==============================] - 22s 5ms/step - loss: 0.2523 - accuracy: 0.9493 - val_loss: 0.1097 - val_accuracy: 0.9664\n",
            "Epoch 2/3\n",
            "1875/1875 [==============================] - 9s 5ms/step - loss: 0.0707 - accuracy: 0.9785 - val_loss: 0.0806 - val_accuracy: 0.9749\n",
            "Epoch 3/3\n",
            "1875/1875 [==============================] - 9s 5ms/step - loss: 0.0516 - accuracy: 0.9840 - val_loss: 0.0825 - val_accuracy: 0.9777\n"
          ]
        },
        {
          "output_type": "execute_result",
          "data": {
            "text/plain": [
              "<keras.callbacks.History at 0x7fa369479970>"
            ]
          },
          "metadata": {},
          "execution_count": 10
        }
      ]
    },
    {
      "metadata": {
        "id": "lURvUIRi6c64",
        "colab": {
          "base_uri": "https://localhost:8080/"
        },
        "outputId": "8b141f95-31a3-49d7-e328-f2ff68545acc"
      },
      "cell_type": "code",
      "source": [
        "#show predictions for the first 3 images in the test set\n",
        "model.predict(X_test[:4])"
      ],
      "execution_count": null,
      "outputs": [
        {
          "output_type": "stream",
          "name": "stdout",
          "text": [
            "1/1 [==============================] - 0s 131ms/step\n"
          ]
        },
        {
          "output_type": "execute_result",
          "data": {
            "text/plain": [
              "array([[1.9371041e-10, 1.6897662e-13, 6.9049491e-09, 3.5707123e-07,\n",
              "        1.0520332e-13, 3.7694401e-12, 4.3996355e-14, 9.9999964e-01,\n",
              "        6.1063883e-11, 3.5619505e-09],\n",
              "       [5.1613565e-06, 9.0411453e-07, 9.9980885e-01, 2.2498343e-09,\n",
              "        2.0616943e-10, 5.7290229e-13, 1.8495545e-04, 7.9943711e-17,\n",
              "        9.6873777e-08, 4.1580567e-16],\n",
              "       [5.9843691e-10, 9.9999058e-01, 2.1182905e-06, 4.9861708e-12,\n",
              "        3.4814616e-07, 6.4032929e-06, 4.5789122e-08, 3.4030294e-09,\n",
              "        4.5434365e-07, 1.9591682e-11],\n",
              "       [9.9999869e-01, 3.3297471e-12, 1.0176854e-08, 9.4835771e-12,\n",
              "        2.4452658e-12, 5.7613171e-11, 1.2982141e-06, 3.3511677e-12,\n",
              "        1.1537650e-08, 3.5105540e-08]], dtype=float32)"
            ]
          },
          "metadata": {},
          "execution_count": 11
        }
      ]
    },
    {
      "metadata": {
        "id": "2VZT14Z76k5k",
        "colab": {
          "base_uri": "https://localhost:8080/"
        },
        "outputId": "0eb481a0-0d4b-4e9f-e3f0-dc01f49c30cc"
      },
      "cell_type": "code",
      "source": [
        "#show actual results for the first 3 images in the test set\n",
        "y_test[:4]"
      ],
      "execution_count": null,
      "outputs": [
        {
          "output_type": "execute_result",
          "data": {
            "text/plain": [
              "array([[0., 0., 0., 0., 0., 0., 0., 1., 0., 0.],\n",
              "       [0., 0., 1., 0., 0., 0., 0., 0., 0., 0.],\n",
              "       [0., 1., 0., 0., 0., 0., 0., 0., 0., 0.],\n",
              "       [1., 0., 0., 0., 0., 0., 0., 0., 0., 0.]], dtype=float32)"
            ]
          },
          "metadata": {},
          "execution_count": 12
        }
      ]
    },
    {
      "cell_type": "code",
      "source": [],
      "metadata": {
        "id": "Fs5Ru1Ck50PY"
      },
      "execution_count": null,
      "outputs": []
    }
  ]
}