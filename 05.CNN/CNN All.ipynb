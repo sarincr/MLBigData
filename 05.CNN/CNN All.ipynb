{
  "nbformat": 4,
  "nbformat_minor": 0,
  "metadata": {
    "colab": {
      "provenance": []
    },
    "kernelspec": {
      "name": "python3",
      "display_name": "Python 3"
    }
  },
  "cells": [
    {
      "cell_type": "code",
      "metadata": {
        "id": "KpqIomo9qG1O"
      },
      "source": [
        "import numpy as np\n",
        "import pandas as pd\n",
        "\n",
        "from keras.optimizers import SGD\n",
        "from keras.datasets import cifar10\n",
        "from keras.models import Sequential\n",
        "from keras.utils import np_utils as utils\n",
        "from keras.layers import Dropout, Dense, Flatten\n",
        "from keras.layers.convolutional import Conv2D, MaxPooling2D"
      ],
      "execution_count": 1,
      "outputs": []
    },
    {
      "cell_type": "code",
      "metadata": {
        "id": "_BrOqIEcqcgu",
        "colab": {
          "base_uri": "https://localhost:8080/"
        },
        "outputId": "8689afdb-8035-46ab-dce2-0e5256ec0210"
      },
      "source": [
        "(X, y), (X_test, y_test) = cifar10.load_data()"
      ],
      "execution_count": 2,
      "outputs": [
        {
          "output_type": "stream",
          "name": "stdout",
          "text": [
            "Downloading data from https://www.cs.toronto.edu/~kriz/cifar-10-python.tar.gz\n",
            "170498071/170498071 [==============================] - 2s 0us/step\n"
          ]
        }
      ]
    },
    {
      "cell_type": "markdown",
      "metadata": {
        "id": "q48kDQC0q4gj"
      },
      "source": [
        "**Display Test Data**"
      ]
    },
    {
      "cell_type": "code",
      "metadata": {
        "colab": {
          "base_uri": "https://localhost:8080/"
        },
        "id": "Z_axYpQtq8Hh",
        "outputId": "553e1c3b-f8f3-4aef-9399-6986e7d83ede"
      },
      "source": [
        "X_test"
      ],
      "execution_count": 3,
      "outputs": [
        {
          "output_type": "execute_result",
          "data": {
            "text/plain": [
              "array([[[[158, 112,  49],\n",
              "         [159, 111,  47],\n",
              "         [165, 116,  51],\n",
              "         ...,\n",
              "         [137,  95,  36],\n",
              "         [126,  91,  36],\n",
              "         [116,  85,  33]],\n",
              "\n",
              "        [[152, 112,  51],\n",
              "         [151, 110,  40],\n",
              "         [159, 114,  45],\n",
              "         ...,\n",
              "         [136,  95,  31],\n",
              "         [125,  91,  32],\n",
              "         [119,  88,  34]],\n",
              "\n",
              "        [[151, 110,  47],\n",
              "         [151, 109,  33],\n",
              "         [158, 111,  36],\n",
              "         ...,\n",
              "         [139,  98,  34],\n",
              "         [130,  95,  34],\n",
              "         [120,  89,  33]],\n",
              "\n",
              "        ...,\n",
              "\n",
              "        [[ 68, 124, 177],\n",
              "         [ 42, 100, 148],\n",
              "         [ 31,  88, 137],\n",
              "         ...,\n",
              "         [ 38,  97, 146],\n",
              "         [ 13,  64, 108],\n",
              "         [ 40,  85, 127]],\n",
              "\n",
              "        [[ 61, 116, 168],\n",
              "         [ 49, 102, 148],\n",
              "         [ 35,  85, 132],\n",
              "         ...,\n",
              "         [ 26,  82, 130],\n",
              "         [ 29,  82, 126],\n",
              "         [ 20,  64, 107]],\n",
              "\n",
              "        [[ 54, 107, 160],\n",
              "         [ 56, 105, 149],\n",
              "         [ 45,  89, 132],\n",
              "         ...,\n",
              "         [ 24,  77, 124],\n",
              "         [ 34,  84, 129],\n",
              "         [ 21,  67, 110]]],\n",
              "\n",
              "\n",
              "       [[[235, 235, 235],\n",
              "         [231, 231, 231],\n",
              "         [232, 232, 232],\n",
              "         ...,\n",
              "         [233, 233, 233],\n",
              "         [233, 233, 233],\n",
              "         [232, 232, 232]],\n",
              "\n",
              "        [[238, 238, 238],\n",
              "         [235, 235, 235],\n",
              "         [235, 235, 235],\n",
              "         ...,\n",
              "         [236, 236, 236],\n",
              "         [236, 236, 236],\n",
              "         [235, 235, 235]],\n",
              "\n",
              "        [[237, 237, 237],\n",
              "         [234, 234, 234],\n",
              "         [234, 234, 234],\n",
              "         ...,\n",
              "         [235, 235, 235],\n",
              "         [235, 235, 235],\n",
              "         [234, 234, 234]],\n",
              "\n",
              "        ...,\n",
              "\n",
              "        [[ 87,  99,  89],\n",
              "         [ 43,  51,  37],\n",
              "         [ 19,  23,  11],\n",
              "         ...,\n",
              "         [169, 184, 179],\n",
              "         [182, 197, 193],\n",
              "         [188, 202, 201]],\n",
              "\n",
              "        [[ 82,  96,  82],\n",
              "         [ 46,  57,  36],\n",
              "         [ 36,  44,  22],\n",
              "         ...,\n",
              "         [174, 189, 183],\n",
              "         [185, 200, 196],\n",
              "         [187, 202, 200]],\n",
              "\n",
              "        [[ 85, 101,  83],\n",
              "         [ 62,  75,  48],\n",
              "         [ 58,  67,  38],\n",
              "         ...,\n",
              "         [168, 183, 178],\n",
              "         [180, 195, 191],\n",
              "         [186, 200, 199]]],\n",
              "\n",
              "\n",
              "       [[[158, 190, 222],\n",
              "         [158, 187, 218],\n",
              "         [139, 166, 194],\n",
              "         ...,\n",
              "         [228, 231, 234],\n",
              "         [237, 239, 243],\n",
              "         [238, 241, 246]],\n",
              "\n",
              "        [[170, 200, 229],\n",
              "         [172, 199, 226],\n",
              "         [151, 176, 201],\n",
              "         ...,\n",
              "         [232, 232, 236],\n",
              "         [246, 246, 250],\n",
              "         [246, 247, 251]],\n",
              "\n",
              "        [[174, 201, 225],\n",
              "         [176, 200, 222],\n",
              "         [157, 179, 199],\n",
              "         ...,\n",
              "         [230, 229, 232],\n",
              "         [250, 249, 251],\n",
              "         [245, 244, 247]],\n",
              "\n",
              "        ...,\n",
              "\n",
              "        [[ 31,  40,  45],\n",
              "         [ 30,  39,  44],\n",
              "         [ 26,  35,  40],\n",
              "         ...,\n",
              "         [ 37,  40,  46],\n",
              "         [  9,  13,  14],\n",
              "         [  4,   7,   5]],\n",
              "\n",
              "        [[ 23,  34,  39],\n",
              "         [ 27,  38,  43],\n",
              "         [ 25,  36,  41],\n",
              "         ...,\n",
              "         [ 19,  20,  24],\n",
              "         [  4,   6,   3],\n",
              "         [  5,   7,   3]],\n",
              "\n",
              "        [[ 28,  41,  47],\n",
              "         [ 30,  43,  50],\n",
              "         [ 32,  45,  52],\n",
              "         ...,\n",
              "         [  5,   6,   8],\n",
              "         [  4,   5,   3],\n",
              "         [  7,   8,   7]]],\n",
              "\n",
              "\n",
              "       ...,\n",
              "\n",
              "\n",
              "       [[[ 20,  15,  12],\n",
              "         [ 19,  14,  11],\n",
              "         [ 15,  14,  11],\n",
              "         ...,\n",
              "         [ 10,   9,   7],\n",
              "         [ 12,  11,   9],\n",
              "         [ 13,  12,  10]],\n",
              "\n",
              "        [[ 21,  16,  13],\n",
              "         [ 20,  16,  13],\n",
              "         [ 18,  17,  12],\n",
              "         ...,\n",
              "         [ 10,   9,   7],\n",
              "         [ 10,   9,   7],\n",
              "         [ 12,  11,   9]],\n",
              "\n",
              "        [[ 21,  16,  13],\n",
              "         [ 21,  17,  12],\n",
              "         [ 20,  18,  11],\n",
              "         ...,\n",
              "         [ 12,  11,   9],\n",
              "         [ 12,  11,   9],\n",
              "         [ 13,  12,  10]],\n",
              "\n",
              "        ...,\n",
              "\n",
              "        [[ 33,  25,  13],\n",
              "         [ 34,  26,  15],\n",
              "         [ 34,  26,  15],\n",
              "         ...,\n",
              "         [ 28,  25,  52],\n",
              "         [ 29,  25,  58],\n",
              "         [ 23,  20,  42]],\n",
              "\n",
              "        [[ 33,  25,  14],\n",
              "         [ 34,  26,  15],\n",
              "         [ 34,  26,  15],\n",
              "         ...,\n",
              "         [ 27,  24,  52],\n",
              "         [ 27,  24,  56],\n",
              "         [ 25,  22,  47]],\n",
              "\n",
              "        [[ 31,  23,  12],\n",
              "         [ 32,  24,  13],\n",
              "         [ 33,  25,  14],\n",
              "         ...,\n",
              "         [ 24,  23,  50],\n",
              "         [ 26,  23,  53],\n",
              "         [ 25,  20,  47]]],\n",
              "\n",
              "\n",
              "       [[[ 25,  40,  12],\n",
              "         [ 15,  36,   3],\n",
              "         [ 23,  41,  18],\n",
              "         ...,\n",
              "         [ 61,  82,  78],\n",
              "         [ 92, 113, 112],\n",
              "         [ 75,  89,  92]],\n",
              "\n",
              "        [[ 12,  25,   6],\n",
              "         [ 20,  37,   7],\n",
              "         [ 24,  36,  15],\n",
              "         ...,\n",
              "         [115, 134, 138],\n",
              "         [149, 168, 177],\n",
              "         [104, 117, 131]],\n",
              "\n",
              "        [[ 12,  25,  11],\n",
              "         [ 15,  29,   6],\n",
              "         [ 34,  40,  24],\n",
              "         ...,\n",
              "         [154, 172, 182],\n",
              "         [157, 175, 192],\n",
              "         [116, 129, 151]],\n",
              "\n",
              "        ...,\n",
              "\n",
              "        [[100, 129,  81],\n",
              "         [103, 132,  84],\n",
              "         [104, 134,  86],\n",
              "         ...,\n",
              "         [ 97, 128,  84],\n",
              "         [ 98, 126,  84],\n",
              "         [ 91, 121,  79]],\n",
              "\n",
              "        [[103, 132,  83],\n",
              "         [104, 131,  83],\n",
              "         [107, 135,  87],\n",
              "         ...,\n",
              "         [101, 132,  87],\n",
              "         [ 99, 127,  84],\n",
              "         [ 92, 121,  79]],\n",
              "\n",
              "        [[ 95, 126,  78],\n",
              "         [ 95, 123,  76],\n",
              "         [101, 128,  81],\n",
              "         ...,\n",
              "         [ 93, 124,  80],\n",
              "         [ 95, 123,  81],\n",
              "         [ 92, 120,  80]]],\n",
              "\n",
              "\n",
              "       [[[ 73,  78,  75],\n",
              "         [ 98, 103, 113],\n",
              "         [ 99, 106, 114],\n",
              "         ...,\n",
              "         [135, 150, 152],\n",
              "         [135, 149, 154],\n",
              "         [203, 215, 223]],\n",
              "\n",
              "        [[ 69,  73,  70],\n",
              "         [ 84,  89,  97],\n",
              "         [ 68,  75,  81],\n",
              "         ...,\n",
              "         [ 85,  95,  89],\n",
              "         [ 71,  82,  80],\n",
              "         [120, 133, 135]],\n",
              "\n",
              "        [[ 69,  73,  70],\n",
              "         [ 90,  95, 100],\n",
              "         [ 62,  71,  74],\n",
              "         ...,\n",
              "         [ 74,  81,  70],\n",
              "         [ 53,  62,  54],\n",
              "         [ 62,  74,  69]],\n",
              "\n",
              "        ...,\n",
              "\n",
              "        [[123, 128,  96],\n",
              "         [132, 132, 102],\n",
              "         [129, 128, 100],\n",
              "         ...,\n",
              "         [108, 107,  88],\n",
              "         [ 62,  60,  55],\n",
              "         [ 27,  27,  28]],\n",
              "\n",
              "        [[115, 121,  91],\n",
              "         [123, 124,  95],\n",
              "         [129, 126,  99],\n",
              "         ...,\n",
              "         [115, 116,  94],\n",
              "         [ 66,  65,  59],\n",
              "         [ 27,  27,  27]],\n",
              "\n",
              "        [[116, 120,  90],\n",
              "         [121, 122,  94],\n",
              "         [129, 128, 101],\n",
              "         ...,\n",
              "         [116, 115,  94],\n",
              "         [ 68,  65,  58],\n",
              "         [ 27,  26,  26]]]], dtype=uint8)"
            ]
          },
          "metadata": {},
          "execution_count": 3
        }
      ]
    },
    {
      "cell_type": "markdown",
      "metadata": {
        "id": "z1CM4C5NrPmn"
      },
      "source": [
        "**Convert to Categorical**"
      ]
    },
    {
      "cell_type": "code",
      "metadata": {
        "id": "_aZTtj6wrSdX"
      },
      "source": [
        "y, y_test = utils.to_categorical(y, 10), utils.to_categorical(y_test, 10)"
      ],
      "execution_count": 4,
      "outputs": []
    },
    {
      "cell_type": "markdown",
      "metadata": {
        "id": "rAUioFvTrjmx"
      },
      "source": [
        "**Build CNNs Model**"
      ]
    },
    {
      "cell_type": "code",
      "metadata": {
        "id": "Jd-gmVw2rmrv"
      },
      "source": [
        "model = Sequential()"
      ],
      "execution_count": 5,
      "outputs": []
    },
    {
      "cell_type": "code",
      "metadata": {
        "id": "hFmB1I-qruBQ"
      },
      "source": [
        "model.add(Conv2D(32, (3, 3), input_shape=(32, 32, 3), padding='same',\n",
        "                 activation='relu'))"
      ],
      "execution_count": 6,
      "outputs": []
    },
    {
      "cell_type": "markdown",
      "metadata": {
        "id": "gGHw3xpQwavt"
      },
      "source": [
        "**Add Dropout Rate**\n",
        "\n",
        "Here, set 0 for the 20% nodes"
      ]
    },
    {
      "cell_type": "code",
      "metadata": {
        "id": "o8B23jwPwj7-"
      },
      "source": [
        "model.add(Dropout(0.2))"
      ],
      "execution_count": 7,
      "outputs": []
    },
    {
      "cell_type": "markdown",
      "metadata": {
        "id": "JJToc5Yjw5qE"
      },
      "source": [
        "**Add anther CNN Layer**\n",
        "\n",
        "with padding = valid --> It means output dimension can take any form"
      ]
    },
    {
      "cell_type": "code",
      "metadata": {
        "id": "Te6cGC3F0ELG"
      },
      "source": [
        "model.add(Conv2D(32, (3, 3), activation='relu', padding='valid'))"
      ],
      "execution_count": 8,
      "outputs": []
    },
    {
      "cell_type": "markdown",
      "metadata": {
        "id": "SzMP2pv82lAz"
      },
      "source": [
        "**Add Max Pooling Layer**"
      ]
    },
    {
      "cell_type": "code",
      "metadata": {
        "id": "idCoI5lT2uDg"
      },
      "source": [
        "model.add(MaxPooling2D(pool_size=(2, 2)))"
      ],
      "execution_count": 9,
      "outputs": []
    },
    {
      "cell_type": "markdown",
      "metadata": {
        "id": "ha32-0QJ27qv"
      },
      "source": [
        "**Flatten the data**"
      ]
    },
    {
      "cell_type": "code",
      "metadata": {
        "id": "v11-Iq122-I0"
      },
      "source": [
        "model.add(Flatten())"
      ],
      "execution_count": 10,
      "outputs": []
    },
    {
      "cell_type": "markdown",
      "metadata": {
        "id": "itdRL5Ll3kK5"
      },
      "source": [
        "**Add Dense Layer**"
      ]
    },
    {
      "cell_type": "code",
      "metadata": {
        "id": "_7San2l93nxq"
      },
      "source": [
        "model.add(Dense(512, activation='relu'))"
      ],
      "execution_count": 11,
      "outputs": []
    },
    {
      "cell_type": "markdown",
      "metadata": {
        "id": "ER1GbnPl33v1"
      },
      "source": [
        "**Add Droput**"
      ]
    },
    {
      "cell_type": "code",
      "metadata": {
        "id": "jeNMWPqh3_EB"
      },
      "source": [
        "model.add(Dropout(0.3))"
      ],
      "execution_count": 12,
      "outputs": []
    },
    {
      "cell_type": "markdown",
      "metadata": {
        "id": "WAEKzyRJ4RSh"
      },
      "source": [
        "**Add Output Dense Layer**"
      ]
    },
    {
      "cell_type": "code",
      "metadata": {
        "id": "aBVLSC8z4UpN"
      },
      "source": [
        "model.add(Dense(10, activation='softmax'))"
      ],
      "execution_count": 13,
      "outputs": []
    },
    {
      "cell_type": "markdown",
      "metadata": {
        "id": "vFOO-hss4dQn"
      },
      "source": [
        "**Compile the Model**"
      ]
    },
    {
      "cell_type": "code",
      "metadata": {
        "id": "H6-ugOdy4jYX"
      },
      "source": [
        "model.compile(loss='categorical_crossentropy',\n",
        "              optimizer=SGD(momentum=0.5, decay=0.0004), metrics=['accuracy'])"
      ],
      "execution_count": 14,
      "outputs": []
    },
    {
      "cell_type": "markdown",
      "metadata": {
        "id": "b2QXtN6t4waq"
      },
      "source": [
        "**Fit the Algorithm**"
      ]
    },
    {
      "cell_type": "code",
      "metadata": {
        "colab": {
          "base_uri": "https://localhost:8080/"
        },
        "id": "_hcGcaUc4yxL",
        "outputId": "b1495ca0-b949-49ec-bdd0-fffd90c2a3c2"
      },
      "source": [
        "# The more epochs, higher accuracy rate\n",
        "model.fit(X, y, validation_data=(X_test, y_test), epochs=25,\n",
        "          batch_size=512)"
      ],
      "execution_count": null,
      "outputs": [
        {
          "output_type": "stream",
          "name": "stdout",
          "text": [
            "Epoch 1/25\n",
            "98/98 [==============================] - 127s 1s/step - loss: nan - accuracy: 0.1011 - val_loss: nan - val_accuracy: 0.1000\n",
            "Epoch 2/25\n",
            "98/98 [==============================] - 125s 1s/step - loss: nan - accuracy: 0.1000 - val_loss: nan - val_accuracy: 0.1000\n",
            "Epoch 3/25\n",
            "98/98 [==============================] - 122s 1s/step - loss: nan - accuracy: 0.1000 - val_loss: nan - val_accuracy: 0.1000\n",
            "Epoch 4/25\n",
            "90/98 [==========================>...] - ETA: 9s - loss: nan - accuracy: 0.0994 "
          ]
        }
      ]
    },
    {
      "cell_type": "code",
      "source": [],
      "metadata": {
        "id": "j2zdGOog5yk4"
      },
      "execution_count": null,
      "outputs": []
    },
    {
      "cell_type": "code",
      "source": [],
      "metadata": {
        "id": "Al56WSWJ5Ibm"
      },
      "execution_count": null,
      "outputs": []
    }
  ]
}